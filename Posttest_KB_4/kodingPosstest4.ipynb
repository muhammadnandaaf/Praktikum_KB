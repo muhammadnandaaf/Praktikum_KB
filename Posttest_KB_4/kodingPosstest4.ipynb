{
 "cells": [
  {
   "cell_type": "markdown",
   "id": "a0d0fc5a-0348-49c0-a9f2-d8ce66694c20",
   "metadata": {},
   "source": [
    "# Muhammad Nanda Arjuna Fadhillah\n",
    "## 2109106028\n",
    "## A Informatika 2021\n",
    "## POSTTEST 4"
   ]
  },
  {
   "cell_type": "code",
   "execution_count": 1,
   "id": "4bf670d3-12b7-485f-b9e9-ab9af8ff3ca7",
   "metadata": {},
   "outputs": [],
   "source": [
    "import numpy as np\n",
    "import pandas as pd\n",
    "import matplotlib.pyplot as plt\n",
    "from sklearn.model_selection import train_test_split"
   ]
  },
  {
   "cell_type": "code",
   "execution_count": 2,
   "id": "45ff129b-e834-4c69-81e7-af5e0292bb2e",
   "metadata": {},
   "outputs": [
    {
     "data": {
      "text/html": [
       "<div>\n",
       "<style scoped>\n",
       "    .dataframe tbody tr th:only-of-type {\n",
       "        vertical-align: middle;\n",
       "    }\n",
       "\n",
       "    .dataframe tbody tr th {\n",
       "        vertical-align: top;\n",
       "    }\n",
       "\n",
       "    .dataframe thead th {\n",
       "        text-align: right;\n",
       "    }\n",
       "</style>\n",
       "<table border=\"1\" class=\"dataframe\">\n",
       "  <thead>\n",
       "    <tr style=\"text-align: right;\">\n",
       "      <th></th>\n",
       "      <th>Country_Name</th>\n",
       "      <th>Year</th>\n",
       "      <th>Population</th>\n",
       "      <th>Deaths_All_Types</th>\n",
       "      <th>Deaths_Suicides</th>\n",
       "      <th>HExp_Pctage_Y</th>\n",
       "      <th>MHExp_Pctage_2011</th>\n",
       "      <th>Dep_Num_2015</th>\n",
       "      <th>Suicide_p100</th>\n",
       "    </tr>\n",
       "  </thead>\n",
       "  <tbody>\n",
       "    <tr>\n",
       "      <th>0</th>\n",
       "      <td>Armenia</td>\n",
       "      <td>2006</td>\n",
       "      <td>3219235.0</td>\n",
       "      <td>54404</td>\n",
       "      <td>78</td>\n",
       "      <td>5.85</td>\n",
       "      <td>3.38</td>\n",
       "      <td>4.99</td>\n",
       "      <td>5.36</td>\n",
       "    </tr>\n",
       "    <tr>\n",
       "      <th>1</th>\n",
       "      <td>Armenia</td>\n",
       "      <td>2007</td>\n",
       "      <td>3107395.5</td>\n",
       "      <td>53660</td>\n",
       "      <td>0</td>\n",
       "      <td>5.50</td>\n",
       "      <td>3.38</td>\n",
       "      <td>4.99</td>\n",
       "      <td>5.02</td>\n",
       "    </tr>\n",
       "    <tr>\n",
       "      <th>2</th>\n",
       "      <td>Armenia</td>\n",
       "      <td>2008</td>\n",
       "      <td>3234031.0</td>\n",
       "      <td>54824</td>\n",
       "      <td>63</td>\n",
       "      <td>6.64</td>\n",
       "      <td>3.38</td>\n",
       "      <td>4.99</td>\n",
       "      <td>4.23</td>\n",
       "    </tr>\n",
       "    <tr>\n",
       "      <th>3</th>\n",
       "      <td>Armenia</td>\n",
       "      <td>2009</td>\n",
       "      <td>3066044.0</td>\n",
       "      <td>55120</td>\n",
       "      <td>53</td>\n",
       "      <td>8.44</td>\n",
       "      <td>3.38</td>\n",
       "      <td>4.99</td>\n",
       "      <td>4.06</td>\n",
       "    </tr>\n",
       "    <tr>\n",
       "      <th>4</th>\n",
       "      <td>Armenia</td>\n",
       "      <td>2012</td>\n",
       "      <td>3024127.0</td>\n",
       "      <td>55200</td>\n",
       "      <td>79</td>\n",
       "      <td>9.13</td>\n",
       "      <td>3.38</td>\n",
       "      <td>4.99</td>\n",
       "      <td>6.39</td>\n",
       "    </tr>\n",
       "  </tbody>\n",
       "</table>\n",
       "</div>"
      ],
      "text/plain": [
       "  Country_Name  Year  Population  Deaths_All_Types  Deaths_Suicides  \\\n",
       "0      Armenia  2006   3219235.0             54404               78   \n",
       "1      Armenia  2007   3107395.5             53660                0   \n",
       "2      Armenia  2008   3234031.0             54824               63   \n",
       "3      Armenia  2009   3066044.0             55120               53   \n",
       "4      Armenia  2012   3024127.0             55200               79   \n",
       "\n",
       "   HExp_Pctage_Y  MHExp_Pctage_2011  Dep_Num_2015  Suicide_p100  \n",
       "0           5.85               3.38          4.99          5.36  \n",
       "1           5.50               3.38          4.99          5.02  \n",
       "2           6.64               3.38          4.99          4.23  \n",
       "3           8.44               3.38          4.99          4.06  \n",
       "4           9.13               3.38          4.99          6.39  "
      ]
     },
     "execution_count": 2,
     "metadata": {},
     "output_type": "execute_result"
    }
   ],
   "source": [
    "datasplit = pd.read_csv(\"whoDeaths.csv\")\n",
    "datasplit.head()"
   ]
  },
  {
   "cell_type": "markdown",
   "id": "5d29cce0-26dd-4dca-b709-1d385007236c",
   "metadata": {
    "tags": []
   },
   "source": [
    "# Data Split Menjadi 2 Bagian"
   ]
  },
  {
   "cell_type": "code",
   "execution_count": 3,
   "id": "8e4f6147-9155-414a-bf1e-01ac4a60bf32",
   "metadata": {},
   "outputs": [],
   "source": [
    "X = datasplit.iloc[:, :-1]\n",
    "y = datasplit.iloc[:, -1]"
   ]
  },
  {
   "cell_type": "markdown",
   "id": "c967037e-9afe-40ac-ae9e-016e456f46bf",
   "metadata": {
    "tags": []
   },
   "source": [
    "# Bagi dataset menjadi training set dan testing set dengan proporsi 70:30"
   ]
  },
  {
   "cell_type": "code",
   "execution_count": 4,
   "id": "64c7b12f-2174-4be6-8da1-509e9bdc98e1",
   "metadata": {},
   "outputs": [
    {
     "name": "stdout",
     "output_type": "stream",
     "text": [
      "Dimensi X_train:  (371, 8)\n",
      "Dimensi X_test:  (371, 8)\n",
      "Dimensi y_train:  (371,)\n",
      "Dimensi y_test:  (160,)\n"
     ]
    }
   ],
   "source": [
    "X_train, X_test, y_train, y_test, = train_test_split(X,y, test_size=0.3)\n",
    "print(\"Dimensi X_train: \", X_train.shape)\n",
    "print(\"Dimensi X_test: \", X_train.shape)\n",
    "print(\"Dimensi y_train: \", y_train.shape)\n",
    "print(\"Dimensi y_test: \", y_test.shape)"
   ]
  },
  {
   "cell_type": "markdown",
   "id": "1f987f0e-d2c7-4ea2-b7a5-1a2e803a6e83",
   "metadata": {
    "tags": []
   },
   "source": [
    "# Data Cleaning pada Data dengan dengan nilai null"
   ]
  },
  {
   "cell_type": "code",
   "execution_count": 5,
   "id": "ad0ff45c-db13-4d09-baf2-5e75582354d9",
   "metadata": {},
   "outputs": [
    {
     "name": "stdout",
     "output_type": "stream",
     "text": [
      "<class 'pandas.core.frame.DataFrame'>\n",
      "RangeIndex: 531 entries, 0 to 530\n",
      "Data columns (total 9 columns):\n",
      " #   Column             Non-Null Count  Dtype  \n",
      "---  ------             --------------  -----  \n",
      " 0   Country_Name       526 non-null    object \n",
      " 1   Year               531 non-null    int64  \n",
      " 2   Population         531 non-null    float64\n",
      " 3   Deaths_All_Types   531 non-null    int64  \n",
      " 4   Deaths_Suicides    526 non-null    float64\n",
      " 5   HExp_Pctage_Y      526 non-null    float64\n",
      " 6   MHExp_Pctage_2011  526 non-null    float64\n",
      " 7   Dep_Num_2015       525 non-null    float64\n",
      " 8   Suicide_p100       525 non-null    float64\n",
      "dtypes: float64(6), int64(2), object(1)\n",
      "memory usage: 37.5+ KB\n"
     ]
    },
    {
     "data": {
      "text/html": [
       "<div>\n",
       "<style scoped>\n",
       "    .dataframe tbody tr th:only-of-type {\n",
       "        vertical-align: middle;\n",
       "    }\n",
       "\n",
       "    .dataframe tbody tr th {\n",
       "        vertical-align: top;\n",
       "    }\n",
       "\n",
       "    .dataframe thead th {\n",
       "        text-align: right;\n",
       "    }\n",
       "</style>\n",
       "<table border=\"1\" class=\"dataframe\">\n",
       "  <thead>\n",
       "    <tr style=\"text-align: right;\">\n",
       "      <th></th>\n",
       "      <th>Country_Name</th>\n",
       "      <th>Year</th>\n",
       "      <th>Population</th>\n",
       "      <th>Deaths_All_Types</th>\n",
       "      <th>Deaths_Suicides</th>\n",
       "      <th>HExp_Pctage_Y</th>\n",
       "      <th>MHExp_Pctage_2011</th>\n",
       "      <th>Dep_Num_2015</th>\n",
       "      <th>Suicide_p100</th>\n",
       "    </tr>\n",
       "  </thead>\n",
       "  <tbody>\n",
       "    <tr>\n",
       "      <th>0</th>\n",
       "      <td>Armenia</td>\n",
       "      <td>2006</td>\n",
       "      <td>3219235.0</td>\n",
       "      <td>54404</td>\n",
       "      <td>78.0</td>\n",
       "      <td>5.85</td>\n",
       "      <td>3.38</td>\n",
       "      <td>4.99</td>\n",
       "      <td>5.36</td>\n",
       "    </tr>\n",
       "    <tr>\n",
       "      <th>1</th>\n",
       "      <td>Armenia</td>\n",
       "      <td>2007</td>\n",
       "      <td>3107395.5</td>\n",
       "      <td>53660</td>\n",
       "      <td>0.0</td>\n",
       "      <td>5.50</td>\n",
       "      <td>3.38</td>\n",
       "      <td>4.99</td>\n",
       "      <td>5.02</td>\n",
       "    </tr>\n",
       "    <tr>\n",
       "      <th>2</th>\n",
       "      <td>Armenia</td>\n",
       "      <td>2008</td>\n",
       "      <td>3234031.0</td>\n",
       "      <td>54824</td>\n",
       "      <td>63.0</td>\n",
       "      <td>6.64</td>\n",
       "      <td>3.38</td>\n",
       "      <td>4.99</td>\n",
       "      <td>4.23</td>\n",
       "    </tr>\n",
       "    <tr>\n",
       "      <th>3</th>\n",
       "      <td>Armenia</td>\n",
       "      <td>2009</td>\n",
       "      <td>3066044.0</td>\n",
       "      <td>55120</td>\n",
       "      <td>53.0</td>\n",
       "      <td>8.44</td>\n",
       "      <td>3.38</td>\n",
       "      <td>NaN</td>\n",
       "      <td>NaN</td>\n",
       "    </tr>\n",
       "    <tr>\n",
       "      <th>4</th>\n",
       "      <td>NaN</td>\n",
       "      <td>2012</td>\n",
       "      <td>3024127.0</td>\n",
       "      <td>55200</td>\n",
       "      <td>NaN</td>\n",
       "      <td>NaN</td>\n",
       "      <td>NaN</td>\n",
       "      <td>NaN</td>\n",
       "      <td>NaN</td>\n",
       "    </tr>\n",
       "  </tbody>\n",
       "</table>\n",
       "</div>"
      ],
      "text/plain": [
       "  Country_Name  Year  Population  Deaths_All_Types  Deaths_Suicides  \\\n",
       "0      Armenia  2006   3219235.0             54404             78.0   \n",
       "1      Armenia  2007   3107395.5             53660              0.0   \n",
       "2      Armenia  2008   3234031.0             54824             63.0   \n",
       "3      Armenia  2009   3066044.0             55120             53.0   \n",
       "4          NaN  2012   3024127.0             55200              NaN   \n",
       "\n",
       "   HExp_Pctage_Y  MHExp_Pctage_2011  Dep_Num_2015  Suicide_p100  \n",
       "0           5.85               3.38          4.99          5.36  \n",
       "1           5.50               3.38          4.99          5.02  \n",
       "2           6.64               3.38          4.99          4.23  \n",
       "3           8.44               3.38           NaN           NaN  \n",
       "4            NaN                NaN           NaN           NaN  "
      ]
     },
     "execution_count": 5,
     "metadata": {},
     "output_type": "execute_result"
    }
   ],
   "source": [
    "df = pd.read_csv(\"whoDeathsRusak.csv\")\n",
    "df.info()\n",
    "df.head()"
   ]
  },
  {
   "cell_type": "code",
   "execution_count": 6,
   "id": "137ab9d4-8d06-4a2d-bdc1-e0443e40e00d",
   "metadata": {},
   "outputs": [
    {
     "data": {
      "text/plain": [
       "Country_Name         5\n",
       "Year                 0\n",
       "Population           0\n",
       "Deaths_All_Types     0\n",
       "Deaths_Suicides      5\n",
       "HExp_Pctage_Y        5\n",
       "MHExp_Pctage_2011    5\n",
       "Dep_Num_2015         6\n",
       "Suicide_p100         6\n",
       "dtype: int64"
      ]
     },
     "execution_count": 6,
     "metadata": {},
     "output_type": "execute_result"
    }
   ],
   "source": [
    "df.isnull().sum()"
   ]
  },
  {
   "cell_type": "code",
   "execution_count": 7,
   "id": "ca4b564b-e68b-4ad3-b181-fb2f8c71f488",
   "metadata": {},
   "outputs": [
    {
     "data": {
      "text/html": [
       "<div>\n",
       "<style scoped>\n",
       "    .dataframe tbody tr th:only-of-type {\n",
       "        vertical-align: middle;\n",
       "    }\n",
       "\n",
       "    .dataframe tbody tr th {\n",
       "        vertical-align: top;\n",
       "    }\n",
       "\n",
       "    .dataframe thead th {\n",
       "        text-align: right;\n",
       "    }\n",
       "</style>\n",
       "<table border=\"1\" class=\"dataframe\">\n",
       "  <thead>\n",
       "    <tr style=\"text-align: right;\">\n",
       "      <th></th>\n",
       "      <th>Country_Name</th>\n",
       "      <th>Year</th>\n",
       "      <th>Population</th>\n",
       "      <th>Deaths_All_Types</th>\n",
       "      <th>Deaths_Suicides</th>\n",
       "      <th>HExp_Pctage_Y</th>\n",
       "      <th>MHExp_Pctage_2011</th>\n",
       "      <th>Dep_Num_2015</th>\n",
       "      <th>Suicide_p100</th>\n",
       "    </tr>\n",
       "  </thead>\n",
       "  <tbody>\n",
       "    <tr>\n",
       "      <th>3</th>\n",
       "      <td>Armenia</td>\n",
       "      <td>2009</td>\n",
       "      <td>3066044.0</td>\n",
       "      <td>55120</td>\n",
       "      <td>53.0</td>\n",
       "      <td>8.44</td>\n",
       "      <td>3.38</td>\n",
       "      <td>NaN</td>\n",
       "      <td>NaN</td>\n",
       "    </tr>\n",
       "    <tr>\n",
       "      <th>4</th>\n",
       "      <td>NaN</td>\n",
       "      <td>2012</td>\n",
       "      <td>3024127.0</td>\n",
       "      <td>55200</td>\n",
       "      <td>NaN</td>\n",
       "      <td>NaN</td>\n",
       "      <td>NaN</td>\n",
       "      <td>NaN</td>\n",
       "      <td>NaN</td>\n",
       "    </tr>\n",
       "    <tr>\n",
       "      <th>5</th>\n",
       "      <td>NaN</td>\n",
       "      <td>2013</td>\n",
       "      <td>3021979.0</td>\n",
       "      <td>54392</td>\n",
       "      <td>NaN</td>\n",
       "      <td>NaN</td>\n",
       "      <td>NaN</td>\n",
       "      <td>NaN</td>\n",
       "      <td>NaN</td>\n",
       "    </tr>\n",
       "    <tr>\n",
       "      <th>6</th>\n",
       "      <td>NaN</td>\n",
       "      <td>2014</td>\n",
       "      <td>3013839.0</td>\n",
       "      <td>55428</td>\n",
       "      <td>NaN</td>\n",
       "      <td>NaN</td>\n",
       "      <td>NaN</td>\n",
       "      <td>NaN</td>\n",
       "      <td>NaN</td>\n",
       "    </tr>\n",
       "    <tr>\n",
       "      <th>7</th>\n",
       "      <td>NaN</td>\n",
       "      <td>2015</td>\n",
       "      <td>3004588.0</td>\n",
       "      <td>55756</td>\n",
       "      <td>NaN</td>\n",
       "      <td>NaN</td>\n",
       "      <td>NaN</td>\n",
       "      <td>NaN</td>\n",
       "      <td>NaN</td>\n",
       "    </tr>\n",
       "    <tr>\n",
       "      <th>8</th>\n",
       "      <td>NaN</td>\n",
       "      <td>2016</td>\n",
       "      <td>2992364.0</td>\n",
       "      <td>56452</td>\n",
       "      <td>NaN</td>\n",
       "      <td>NaN</td>\n",
       "      <td>NaN</td>\n",
       "      <td>NaN</td>\n",
       "      <td>NaN</td>\n",
       "    </tr>\n",
       "  </tbody>\n",
       "</table>\n",
       "</div>"
      ],
      "text/plain": [
       "  Country_Name  Year  Population  Deaths_All_Types  Deaths_Suicides  \\\n",
       "3      Armenia  2009   3066044.0             55120             53.0   \n",
       "4          NaN  2012   3024127.0             55200              NaN   \n",
       "5          NaN  2013   3021979.0             54392              NaN   \n",
       "6          NaN  2014   3013839.0             55428              NaN   \n",
       "7          NaN  2015   3004588.0             55756              NaN   \n",
       "8          NaN  2016   2992364.0             56452              NaN   \n",
       "\n",
       "   HExp_Pctage_Y  MHExp_Pctage_2011  Dep_Num_2015  Suicide_p100  \n",
       "3           8.44               3.38           NaN           NaN  \n",
       "4            NaN                NaN           NaN           NaN  \n",
       "5            NaN                NaN           NaN           NaN  \n",
       "6            NaN                NaN           NaN           NaN  \n",
       "7            NaN                NaN           NaN           NaN  \n",
       "8            NaN                NaN           NaN           NaN  "
      ]
     },
     "execution_count": 7,
     "metadata": {},
     "output_type": "execute_result"
    }
   ],
   "source": [
    "df[df.isnull().any(axis = 1)]"
   ]
  },
  {
   "cell_type": "markdown",
   "id": "3b26737e-708d-492c-95b9-0374fed6f213",
   "metadata": {},
   "source": [
    "## Median"
   ]
  },
  {
   "cell_type": "code",
   "execution_count": 8,
   "id": "92620b1a-e17e-44b0-8638-d76642301016",
   "metadata": {},
   "outputs": [
    {
     "data": {
      "text/plain": [
       "Country_Name         5\n",
       "Year                 0\n",
       "Population           0\n",
       "Deaths_All_Types     0\n",
       "Deaths_Suicides      0\n",
       "HExp_Pctage_Y        5\n",
       "MHExp_Pctage_2011    5\n",
       "Dep_Num_2015         6\n",
       "Suicide_p100         6\n",
       "dtype: int64"
      ]
     },
     "execution_count": 8,
     "metadata": {},
     "output_type": "execute_result"
    }
   ],
   "source": [
    "df['Deaths_Suicides'] = df['Deaths_Suicides'].fillna(df['Deaths_Suicides'].median())\n",
    "df.isna().sum()"
   ]
  },
  {
   "cell_type": "markdown",
   "id": "b8ea3f8a-8346-42a1-9612-da355bb83f24",
   "metadata": {},
   "source": [
    "## Modus"
   ]
  },
  {
   "cell_type": "code",
   "execution_count": 9,
   "id": "8fc85832-5a7d-4ce0-92db-10b027ca2c44",
   "metadata": {},
   "outputs": [
    {
     "data": {
      "text/plain": [
       "Country_Name         5\n",
       "Year                 0\n",
       "Population           0\n",
       "Deaths_All_Types     0\n",
       "Deaths_Suicides      0\n",
       "HExp_Pctage_Y        5\n",
       "MHExp_Pctage_2011    5\n",
       "Dep_Num_2015         0\n",
       "Suicide_p100         6\n",
       "dtype: int64"
      ]
     },
     "execution_count": 9,
     "metadata": {},
     "output_type": "execute_result"
    }
   ],
   "source": [
    "df['Dep_Num_2015'] = df['Dep_Num_2015'].fillna(df['Dep_Num_2015'].mode()[0])\n",
    "df.isna().sum()"
   ]
  },
  {
   "cell_type": "markdown",
   "id": "f4f77cc4-b853-4f9f-a921-9a36d63b93e7",
   "metadata": {},
   "source": [
    "## Mean"
   ]
  },
  {
   "cell_type": "code",
   "execution_count": 10,
   "id": "0668fc92-199e-4ca3-83f7-ae2cd221890e",
   "metadata": {},
   "outputs": [
    {
     "data": {
      "text/plain": [
       "Country_Name         5\n",
       "Year                 0\n",
       "Population           0\n",
       "Deaths_All_Types     0\n",
       "Deaths_Suicides      0\n",
       "HExp_Pctage_Y        0\n",
       "MHExp_Pctage_2011    5\n",
       "Dep_Num_2015         0\n",
       "Suicide_p100         6\n",
       "dtype: int64"
      ]
     },
     "execution_count": 10,
     "metadata": {},
     "output_type": "execute_result"
    }
   ],
   "source": [
    "df['HExp_Pctage_Y'] = df['HExp_Pctage_Y'].fillna(df['HExp_Pctage_Y'].mean())\n",
    "df.isna().sum()"
   ]
  },
  {
   "cell_type": "code",
   "execution_count": 11,
   "id": "50568253-7f1c-40e5-be97-47d33bcf7c21",
   "metadata": {},
   "outputs": [
    {
     "data": {
      "text/plain": [
       "Country_Name         5\n",
       "Year                 0\n",
       "Population           0\n",
       "Deaths_All_Types     0\n",
       "Deaths_Suicides      0\n",
       "HExp_Pctage_Y        0\n",
       "MHExp_Pctage_2011    0\n",
       "Dep_Num_2015         0\n",
       "Suicide_p100         6\n",
       "dtype: int64"
      ]
     },
     "execution_count": 11,
     "metadata": {},
     "output_type": "execute_result"
    }
   ],
   "source": [
    "df['MHExp_Pctage_2011'] = df['MHExp_Pctage_2011'].fillna(df['MHExp_Pctage_2011'].mean())\n",
    "df.isna().sum()"
   ]
  },
  {
   "cell_type": "code",
   "execution_count": 12,
   "id": "56067079-0087-4a53-85e2-f10771d8079f",
   "metadata": {},
   "outputs": [
    {
     "data": {
      "text/plain": [
       "Country_Name         5\n",
       "Year                 0\n",
       "Population           0\n",
       "Deaths_All_Types     0\n",
       "Deaths_Suicides      0\n",
       "HExp_Pctage_Y        0\n",
       "MHExp_Pctage_2011    0\n",
       "Dep_Num_2015         0\n",
       "Suicide_p100         6\n",
       "dtype: int64"
      ]
     },
     "execution_count": 12,
     "metadata": {},
     "output_type": "execute_result"
    }
   ],
   "source": [
    "df['MHExp_Pctage_2011'] = df['MHExp_Pctage_2011'].fillna(df['MHExp_Pctage_2011'].mean())\n",
    "df.isna().sum()"
   ]
  },
  {
   "cell_type": "markdown",
   "id": "2078341b-6957-41d1-834e-60fb5b871705",
   "metadata": {},
   "source": [
    "## Tulisan : Modus"
   ]
  },
  {
   "cell_type": "code",
   "execution_count": 13,
   "id": "f44e5930-3ec7-4639-814d-e231200ac261",
   "metadata": {},
   "outputs": [
    {
     "data": {
      "text/plain": [
       "Country_Name         5\n",
       "Year                 0\n",
       "Population           0\n",
       "Deaths_All_Types     0\n",
       "Deaths_Suicides      0\n",
       "HExp_Pctage_Y        0\n",
       "MHExp_Pctage_2011    0\n",
       "Dep_Num_2015         0\n",
       "Suicide_p100         0\n",
       "dtype: int64"
      ]
     },
     "execution_count": 13,
     "metadata": {},
     "output_type": "execute_result"
    }
   ],
   "source": [
    "df['Suicide_p100'] = df['Suicide_p100'].fillna(df['Suicide_p100'].mode()[0])\n",
    "df.isna().sum()"
   ]
  },
  {
   "cell_type": "markdown",
   "id": "4828738b-ec7c-4e91-930c-bade1213f54a",
   "metadata": {
    "tags": []
   },
   "source": [
    "## Nilai Duplikat"
   ]
  },
  {
   "cell_type": "code",
   "execution_count": 14,
   "id": "4391ac33-e982-47da-8819-9849de9d14cb",
   "metadata": {},
   "outputs": [
    {
     "data": {
      "text/html": [
       "<div>\n",
       "<style scoped>\n",
       "    .dataframe tbody tr th:only-of-type {\n",
       "        vertical-align: middle;\n",
       "    }\n",
       "\n",
       "    .dataframe tbody tr th {\n",
       "        vertical-align: top;\n",
       "    }\n",
       "\n",
       "    .dataframe thead th {\n",
       "        text-align: right;\n",
       "    }\n",
       "</style>\n",
       "<table border=\"1\" class=\"dataframe\">\n",
       "  <thead>\n",
       "    <tr style=\"text-align: right;\">\n",
       "      <th></th>\n",
       "      <th>Country_Name</th>\n",
       "      <th>Year</th>\n",
       "      <th>Population</th>\n",
       "      <th>Deaths_All_Types</th>\n",
       "      <th>Deaths_Suicides</th>\n",
       "      <th>HExp_Pctage_Y</th>\n",
       "      <th>MHExp_Pctage_2011</th>\n",
       "      <th>Dep_Num_2015</th>\n",
       "      <th>Suicide_p100</th>\n",
       "    </tr>\n",
       "  </thead>\n",
       "  <tbody>\n",
       "    <tr>\n",
       "      <th>15</th>\n",
       "      <td>12345678</td>\n",
       "      <td>12345678</td>\n",
       "      <td>12345678.0</td>\n",
       "      <td>12345678</td>\n",
       "      <td>12345678.0</td>\n",
       "      <td>12345678.0</td>\n",
       "      <td>12345678.0</td>\n",
       "      <td>12345678.0</td>\n",
       "      <td>12345678.0</td>\n",
       "    </tr>\n",
       "    <tr>\n",
       "      <th>16</th>\n",
       "      <td>12345678</td>\n",
       "      <td>12345678</td>\n",
       "      <td>12345678.0</td>\n",
       "      <td>12345678</td>\n",
       "      <td>12345678.0</td>\n",
       "      <td>12345678.0</td>\n",
       "      <td>12345678.0</td>\n",
       "      <td>12345678.0</td>\n",
       "      <td>12345678.0</td>\n",
       "    </tr>\n",
       "    <tr>\n",
       "      <th>17</th>\n",
       "      <td>12345678</td>\n",
       "      <td>12345678</td>\n",
       "      <td>12345678.0</td>\n",
       "      <td>12345678</td>\n",
       "      <td>12345678.0</td>\n",
       "      <td>12345678.0</td>\n",
       "      <td>12345678.0</td>\n",
       "      <td>12345678.0</td>\n",
       "      <td>12345678.0</td>\n",
       "    </tr>\n",
       "    <tr>\n",
       "      <th>18</th>\n",
       "      <td>12345678</td>\n",
       "      <td>12345678</td>\n",
       "      <td>12345678.0</td>\n",
       "      <td>12345678</td>\n",
       "      <td>12345678.0</td>\n",
       "      <td>12345678.0</td>\n",
       "      <td>12345678.0</td>\n",
       "      <td>12345678.0</td>\n",
       "      <td>12345678.0</td>\n",
       "    </tr>\n",
       "    <tr>\n",
       "      <th>27</th>\n",
       "      <td>Australia</td>\n",
       "      <td>3</td>\n",
       "      <td>3.0</td>\n",
       "      <td>3</td>\n",
       "      <td>3.0</td>\n",
       "      <td>3.0</td>\n",
       "      <td>3.0</td>\n",
       "      <td>3.0</td>\n",
       "      <td>3.0</td>\n",
       "    </tr>\n",
       "    <tr>\n",
       "      <th>28</th>\n",
       "      <td>Australia</td>\n",
       "      <td>3</td>\n",
       "      <td>3.0</td>\n",
       "      <td>3</td>\n",
       "      <td>3.0</td>\n",
       "      <td>3.0</td>\n",
       "      <td>3.0</td>\n",
       "      <td>3.0</td>\n",
       "      <td>3.0</td>\n",
       "    </tr>\n",
       "  </tbody>\n",
       "</table>\n",
       "</div>"
      ],
      "text/plain": [
       "   Country_Name      Year  Population  Deaths_All_Types  Deaths_Suicides  \\\n",
       "15     12345678  12345678  12345678.0          12345678       12345678.0   \n",
       "16     12345678  12345678  12345678.0          12345678       12345678.0   \n",
       "17     12345678  12345678  12345678.0          12345678       12345678.0   \n",
       "18     12345678  12345678  12345678.0          12345678       12345678.0   \n",
       "27    Australia         3         3.0                 3              3.0   \n",
       "28    Australia         3         3.0                 3              3.0   \n",
       "\n",
       "    HExp_Pctage_Y  MHExp_Pctage_2011  Dep_Num_2015  Suicide_p100  \n",
       "15     12345678.0         12345678.0    12345678.0    12345678.0  \n",
       "16     12345678.0         12345678.0    12345678.0    12345678.0  \n",
       "17     12345678.0         12345678.0    12345678.0    12345678.0  \n",
       "18     12345678.0         12345678.0    12345678.0    12345678.0  \n",
       "27            3.0                3.0           3.0           3.0  \n",
       "28            3.0                3.0           3.0           3.0  "
      ]
     },
     "execution_count": 14,
     "metadata": {},
     "output_type": "execute_result"
    }
   ],
   "source": [
    "df[df.duplicated()]"
   ]
  },
  {
   "cell_type": "code",
   "execution_count": 15,
   "id": "99681658-4da3-459d-acc9-1224bbd5b846",
   "metadata": {},
   "outputs": [
    {
     "data": {
      "text/plain": [
       "6"
      ]
     },
     "execution_count": 15,
     "metadata": {},
     "output_type": "execute_result"
    }
   ],
   "source": [
    "df.duplicated().sum()"
   ]
  },
  {
   "cell_type": "code",
   "execution_count": 23,
   "id": "ccfb4bdb-92cc-47a9-9c6e-6714c270ab84",
   "metadata": {},
   "outputs": [
    {
     "data": {
      "text/html": [
       "<div>\n",
       "<style scoped>\n",
       "    .dataframe tbody tr th:only-of-type {\n",
       "        vertical-align: middle;\n",
       "    }\n",
       "\n",
       "    .dataframe tbody tr th {\n",
       "        vertical-align: top;\n",
       "    }\n",
       "\n",
       "    .dataframe thead th {\n",
       "        text-align: right;\n",
       "    }\n",
       "</style>\n",
       "<table border=\"1\" class=\"dataframe\">\n",
       "  <thead>\n",
       "    <tr style=\"text-align: right;\">\n",
       "      <th></th>\n",
       "      <th>Country_Name</th>\n",
       "      <th>Year</th>\n",
       "      <th>Population</th>\n",
       "      <th>Deaths_All_Types</th>\n",
       "      <th>Deaths_Suicides</th>\n",
       "      <th>HExp_Pctage_Y</th>\n",
       "      <th>MHExp_Pctage_2011</th>\n",
       "      <th>Dep_Num_2015</th>\n",
       "      <th>Suicide_p100</th>\n",
       "    </tr>\n",
       "  </thead>\n",
       "  <tbody>\n",
       "  </tbody>\n",
       "</table>\n",
       "</div>"
      ],
      "text/plain": [
       "Empty DataFrame\n",
       "Columns: [Country_Name, Year, Population, Deaths_All_Types, Deaths_Suicides, HExp_Pctage_Y, MHExp_Pctage_2011, Dep_Num_2015, Suicide_p100]\n",
       "Index: []"
      ]
     },
     "execution_count": 23,
     "metadata": {},
     "output_type": "execute_result"
    }
   ],
   "source": [
    "df.drop_duplicates(inplace=True)\n",
    "df[df.duplicated()]"
   ]
  },
  {
   "cell_type": "code",
   "execution_count": 24,
   "id": "e6b0f0b1-5bbf-41ab-adc7-19e6850a962b",
   "metadata": {},
   "outputs": [
    {
     "data": {
      "text/plain": [
       "0"
      ]
     },
     "execution_count": 24,
     "metadata": {},
     "output_type": "execute_result"
    }
   ],
   "source": [
    "df.duplicated().sum()"
   ]
  },
  {
   "cell_type": "markdown",
   "id": "9f4c8eba-8443-4f8b-a149-85081476eef8",
   "metadata": {
    "tags": []
   },
   "source": [
    "# Lakukan normalisasi data pada salah satu attribute menggunakan Min Max scaler (buatlah copy dataset terlebih dahulu)\n",
    "# Atribut Suicide_p100"
   ]
  },
  {
   "cell_type": "code",
   "execution_count": 16,
   "id": "f63d2c24-78b8-4cde-9088-46562a4309c9",
   "metadata": {},
   "outputs": [],
   "source": [
    "from sklearn.preprocessing import MinMaxScaler\n",
    "min_max_scaler = MinMaxScaler()"
   ]
  },
  {
   "cell_type": "code",
   "execution_count": 17,
   "id": "300f3a82-9e94-4724-b3d7-b847159b43d3",
   "metadata": {},
   "outputs": [
    {
     "data": {
      "text/html": [
       "<div>\n",
       "<style scoped>\n",
       "    .dataframe tbody tr th:only-of-type {\n",
       "        vertical-align: middle;\n",
       "    }\n",
       "\n",
       "    .dataframe tbody tr th {\n",
       "        vertical-align: top;\n",
       "    }\n",
       "\n",
       "    .dataframe thead th {\n",
       "        text-align: right;\n",
       "    }\n",
       "</style>\n",
       "<table border=\"1\" class=\"dataframe\">\n",
       "  <thead>\n",
       "    <tr style=\"text-align: right;\">\n",
       "      <th></th>\n",
       "      <th>0</th>\n",
       "    </tr>\n",
       "  </thead>\n",
       "  <tbody>\n",
       "    <tr>\n",
       "      <th>0</th>\n",
       "      <td>0.157584</td>\n",
       "    </tr>\n",
       "    <tr>\n",
       "      <th>1</th>\n",
       "      <td>0.145783</td>\n",
       "    </tr>\n",
       "    <tr>\n",
       "      <th>2</th>\n",
       "      <td>0.118362</td>\n",
       "    </tr>\n",
       "    <tr>\n",
       "      <th>3</th>\n",
       "      <td>0.112461</td>\n",
       "    </tr>\n",
       "    <tr>\n",
       "      <th>4</th>\n",
       "      <td>0.193336</td>\n",
       "    </tr>\n",
       "  </tbody>\n",
       "</table>\n",
       "</div>"
      ],
      "text/plain": [
       "          0\n",
       "0  0.157584\n",
       "1  0.145783\n",
       "2  0.118362\n",
       "3  0.112461\n",
       "4  0.193336"
      ]
     },
     "execution_count": 17,
     "metadata": {},
     "output_type": "execute_result"
    }
   ],
   "source": [
    "x_scaled = min_max_scaler.fit_transform(\n",
    "    datasplit[['Suicide_p100']]\n",
    ")\n",
    "data_normalization = pd.DataFrame(x_scaled)\n",
    "data_normalization.head()"
   ]
  },
  {
   "cell_type": "code",
   "execution_count": 26,
   "id": "c39eb310-28b1-4cea-8351-0eaf5df60a5c",
   "metadata": {},
   "outputs": [
    {
     "data": {
      "image/png": "[encoded data removed]",
      "text/plain": [
       "<Figure size 640x480 with 1 Axes>"
      ]
     },
     "metadata": {},
     "output_type": "display_data"
    }
   ],
   "source": [
    "plt.plot(datasplit.Population, data_normalization[0])\n",
    "plt.title(\"Visualisasi Data Normal\")\n",
    "plt.show()\n"
   ]
  },
  {
   "cell_type": "markdown",
   "id": "17c3abe6-4b68-4753-92aa-1a6828071302",
   "metadata": {
    "tags": []
   },
   "source": [
    "## Standarisasi Data\n"
   ]
  },
  {
   "cell_type": "code",
   "execution_count": 19,
   "id": "7cd588d1-bb81-4cb9-9df0-29fbda5d798a",
   "metadata": {},
   "outputs": [
    {
     "name": "stderr",
     "output_type": "stream",
     "text": [
      "C:\\Users\\Last Man Standing\\AppData\\Local\\Programs\\Python\\Python310\\lib\\site-packages\\numpy\\core\\fromnumeric.py:3571: FutureWarning: Dropping of nuisance columns in DataFrame reductions (with 'numeric_only=None') is deprecated; in a future version this will raise TypeError.  Select only valid columns before calling the reduction.\n",
      "  return std(axis=axis, dtype=dtype, out=out, ddof=ddof, **kwargs)\n"
     ]
    },
    {
     "data": {
      "text/plain": [
       "Year                 5.567016e+00\n",
       "Population           3.282367e+07\n",
       "Deaths_All_Types     5.851281e+05\n",
       "Deaths_Suicides      1.074039e+03\n",
       "HExp_Pctage_Y        2.101660e+00\n",
       "MHExp_Pctage_2011    2.949549e+00\n",
       "Dep_Num_2015         6.053108e-01\n",
       "Suicide_p100         5.486252e+00\n",
       "dtype: float64"
      ]
     },
     "execution_count": 19,
     "metadata": {},
     "output_type": "execute_result"
    }
   ],
   "source": [
    "from sklearn.preprocessing import StandardScaler\n",
    "np.std(datasplit)"
   ]
  },
  {
   "cell_type": "code",
   "execution_count": 20,
   "id": "536d5924-89b3-4864-b887-056f711ec44b",
   "metadata": {},
   "outputs": [
    {
     "data": {
      "text/html": [
       "<div>\n",
       "<style scoped>\n",
       "    .dataframe tbody tr th:only-of-type {\n",
       "        vertical-align: middle;\n",
       "    }\n",
       "\n",
       "    .dataframe tbody tr th {\n",
       "        vertical-align: top;\n",
       "    }\n",
       "\n",
       "    .dataframe thead th {\n",
       "        text-align: right;\n",
       "    }\n",
       "</style>\n",
       "<table border=\"1\" class=\"dataframe\">\n",
       "  <thead>\n",
       "    <tr style=\"text-align: right;\">\n",
       "      <th></th>\n",
       "      <th>0</th>\n",
       "      <th>1</th>\n",
       "      <th>2</th>\n",
       "      <th>3</th>\n",
       "    </tr>\n",
       "  </thead>\n",
       "  <tbody>\n",
       "    <tr>\n",
       "      <th>0</th>\n",
       "      <td>-0.674277</td>\n",
       "      <td>-0.645794</td>\n",
       "      <td>-0.169136</td>\n",
       "      <td>-0.997542</td>\n",
       "    </tr>\n",
       "    <tr>\n",
       "      <th>1</th>\n",
       "      <td>-0.677684</td>\n",
       "      <td>-0.647066</td>\n",
       "      <td>-0.241760</td>\n",
       "      <td>-1.059515</td>\n",
       "    </tr>\n",
       "    <tr>\n",
       "      <th>2</th>\n",
       "      <td>-0.673826</td>\n",
       "      <td>-0.645076</td>\n",
       "      <td>-0.183102</td>\n",
       "      <td>-1.203512</td>\n",
       "    </tr>\n",
       "    <tr>\n",
       "      <th>3</th>\n",
       "      <td>-0.678944</td>\n",
       "      <td>-0.644571</td>\n",
       "      <td>-0.192413</td>\n",
       "      <td>-1.234498</td>\n",
       "    </tr>\n",
       "    <tr>\n",
       "      <th>4</th>\n",
       "      <td>-0.680221</td>\n",
       "      <td>-0.644434</td>\n",
       "      <td>-0.168205</td>\n",
       "      <td>-0.809800</td>\n",
       "    </tr>\n",
       "  </tbody>\n",
       "</table>\n",
       "</div>"
      ],
      "text/plain": [
       "          0         1         2         3\n",
       "0 -0.674277 -0.645794 -0.169136 -0.997542\n",
       "1 -0.677684 -0.647066 -0.241760 -1.059515\n",
       "2 -0.673826 -0.645076 -0.183102 -1.203512\n",
       "3 -0.678944 -0.644571 -0.192413 -1.234498\n",
       "4 -0.680221 -0.644434 -0.168205 -0.809800"
      ]
     },
     "execution_count": 20,
     "metadata": {},
     "output_type": "execute_result"
    }
   ],
   "source": [
    "ss = StandardScaler()\n",
    "x_scaled2 = ss.fit_transform(\n",
    "    datasplit[['Population',\n",
    "                   'Deaths_All_Types',\n",
    "                   'Deaths_Suicides',\n",
    "                   'Suicide_p100']]\n",
    ")\n",
    "data_standarization = pd.DataFrame(x_scaled2)\n",
    "data_standarization.head()"
   ]
  },
  {
   "cell_type": "code",
   "execution_count": 21,
   "id": "3b471470-d5a2-465d-819a-715b44889f5d",
   "metadata": {},
   "outputs": [
    {
     "data": {
      "text/plain": [
       "1.0"
      ]
     },
     "execution_count": 21,
     "metadata": {},
     "output_type": "execute_result"
    }
   ],
   "source": [
    "np.std(x_scaled2)\n"
   ]
  },
  {
   "cell_type": "code",
   "execution_count": 22,
   "id": "6f2778ac-8eb1-4df8-81b8-4d5a036d5daf",
   "metadata": {},
   "outputs": [
    {
     "data": {
      "text/plain": [
       "-4.34889621698743e-17"
      ]
     },
     "execution_count": 22,
     "metadata": {},
     "output_type": "execute_result"
    }
   ],
   "source": [
    "np.mean(x_scaled2)"
   ]
  },
  {
   "cell_type": "code",
   "execution_count": 29,
   "id": "ca89307a-4093-4521-9269-44de67b64100",
   "metadata": {},
   "outputs": [
    {
     "data": {
      "image/png": "[encoded data removed]",
      "text/plain": [
       "<Figure size 640x480 with 1 Axes>"
      ]
     },
     "metadata": {},
     "output_type": "display_data"
    },
    {
     "data": {
      "text/plain": [
       "<Figure size 500x500 with 0 Axes>"
      ]
     },
     "metadata": {},
     "output_type": "display_data"
    }
   ],
   "source": [
    "plt.title(\"Visualisasi Data Standar\")\n",
    "plt.plot(datasplit.Population, data_standarization[0])\n",
    "plt.figure(figsize=(5,5))\n",
    "plt.show()"
   ]
  },
  {
   "cell_type": "markdown",
   "id": "46254b63-faf8-4011-bf74-355b59f42129",
   "metadata": {},
   "source": [
    "# Ganti tipe data angka "
   ]
  },
  {
   "cell_type": "code",
   "execution_count": 30,
   "id": "6c2b6989-ec50-4d5f-bc86-80b2d0fc4f09",
   "metadata": {},
   "outputs": [
    {
     "name": "stdout",
     "output_type": "stream",
     "text": [
      "<class 'pandas.core.frame.DataFrame'>\n",
      "Int64Index: 525 entries, 0 to 530\n",
      "Data columns (total 9 columns):\n",
      " #   Column             Non-Null Count  Dtype  \n",
      "---  ------             --------------  -----  \n",
      " 0   Country_Name       520 non-null    object \n",
      " 1   Year               525 non-null    int64  \n",
      " 2   Population         525 non-null    float64\n",
      " 3   Deaths_All_Types   525 non-null    int64  \n",
      " 4   Deaths_Suicides    525 non-null    float64\n",
      " 5   HExp_Pctage_Y      525 non-null    float64\n",
      " 6   MHExp_Pctage_2011  525 non-null    float64\n",
      " 7   Dep_Num_2015       525 non-null    float64\n",
      " 8   Suicide_p100       525 non-null    float64\n",
      "dtypes: float64(6), int64(2), object(1)\n",
      "memory usage: 41.0+ KB\n"
     ]
    }
   ],
   "source": [
    "df.info()"
   ]
  },
  {
   "cell_type": "code",
   "execution_count": 32,
   "id": "e0a8ce46-5aa0-40ea-af45-1d8be1603ab6",
   "metadata": {},
   "outputs": [
    {
     "name": "stdout",
     "output_type": "stream",
     "text": [
      "<class 'pandas.core.frame.DataFrame'>\n",
      "Int64Index: 525 entries, 0 to 530\n",
      "Data columns (total 9 columns):\n",
      " #   Column             Non-Null Count  Dtype  \n",
      "---  ------             --------------  -----  \n",
      " 0   Country_Name       520 non-null    object \n",
      " 1   Year               525 non-null    int64  \n",
      " 2   Population         525 non-null    float64\n",
      " 3   Deaths_All_Types   525 non-null    object \n",
      " 4   Deaths_Suicides    525 non-null    float64\n",
      " 5   HExp_Pctage_Y      525 non-null    float64\n",
      " 6   MHExp_Pctage_2011  525 non-null    float64\n",
      " 7   Dep_Num_2015       525 non-null    float64\n",
      " 8   Suicide_p100       525 non-null    float64\n",
      "dtypes: float64(6), int64(1), object(2)\n",
      "memory usage: 41.0+ KB\n"
     ]
    }
   ],
   "source": [
    "df['Deaths_All_Types'] = df['Deaths_All_Types'].astype('object')\n",
    "df.info()"
   ]
  },
  {
   "cell_type": "code",
   "execution_count": 36,
   "id": "b05ae49d-9b5e-41b4-99cf-06aed848f510",
   "metadata": {},
   "outputs": [],
   "source": [
    "from sklearn.preprocessing import OneHotEncoder\n",
    "onehot = OneHotEncoder(sparse = False)"
   ]
  },
  {
   "cell_type": "code",
   "execution_count": 37,
   "id": "13e63040-95bf-4999-9095-7e414475ab01",
   "metadata": {},
   "outputs": [],
   "source": [
    "ohe = ohe.fit_transform(df[['Country_Name',\n",
    "                           'Year',\n",
    "                            'Population',\n",
    "                           'Deaths_All_Types',\n",
    "                           'Deaths_Suicides',\n",
    "                           'HExp_Pctage_Y', \n",
    "                           'MHExp_Pctage_2011', \n",
    "                           'Dep_Num_2015', \n",
    "                           'Suicide_p100']])"
   ]
  },
  {
   "cell_type": "code",
   "execution_count": 38,
   "id": "bbdc97f6-2f2f-431c-823e-905924a82e35",
   "metadata": {},
   "outputs": [
    {
     "data": {
      "text/html": [
       "<div>\n",
       "<style scoped>\n",
       "    .dataframe tbody tr th:only-of-type {\n",
       "        vertical-align: middle;\n",
       "    }\n",
       "\n",
       "    .dataframe tbody tr th {\n",
       "        vertical-align: top;\n",
       "    }\n",
       "\n",
       "    .dataframe thead th {\n",
       "        text-align: right;\n",
       "    }\n",
       "</style>\n",
       "<table border=\"1\" class=\"dataframe\">\n",
       "  <thead>\n",
       "    <tr style=\"text-align: right;\">\n",
       "      <th></th>\n",
       "      <th>0</th>\n",
       "      <th>1</th>\n",
       "      <th>2</th>\n",
       "      <th>3</th>\n",
       "      <th>4</th>\n",
       "      <th>5</th>\n",
       "      <th>6</th>\n",
       "      <th>7</th>\n",
       "      <th>8</th>\n",
       "      <th>9</th>\n",
       "      <th>...</th>\n",
       "      <th>2183</th>\n",
       "      <th>2184</th>\n",
       "      <th>2185</th>\n",
       "      <th>2186</th>\n",
       "      <th>2187</th>\n",
       "      <th>2188</th>\n",
       "      <th>2189</th>\n",
       "      <th>2190</th>\n",
       "      <th>2191</th>\n",
       "      <th>2192</th>\n",
       "    </tr>\n",
       "  </thead>\n",
       "  <tbody>\n",
       "    <tr>\n",
       "      <th>0</th>\n",
       "      <td>0.0</td>\n",
       "      <td>0.0</td>\n",
       "      <td>1.0</td>\n",
       "      <td>0.0</td>\n",
       "      <td>0.0</td>\n",
       "      <td>0.0</td>\n",
       "      <td>0.0</td>\n",
       "      <td>0.0</td>\n",
       "      <td>0.0</td>\n",
       "      <td>0.0</td>\n",
       "      <td>...</td>\n",
       "      <td>0.0</td>\n",
       "      <td>0.0</td>\n",
       "      <td>0.0</td>\n",
       "      <td>0.0</td>\n",
       "      <td>0.0</td>\n",
       "      <td>0.0</td>\n",
       "      <td>0.0</td>\n",
       "      <td>0.0</td>\n",
       "      <td>0.0</td>\n",
       "      <td>0.0</td>\n",
       "    </tr>\n",
       "    <tr>\n",
       "      <th>1</th>\n",
       "      <td>0.0</td>\n",
       "      <td>0.0</td>\n",
       "      <td>1.0</td>\n",
       "      <td>0.0</td>\n",
       "      <td>0.0</td>\n",
       "      <td>0.0</td>\n",
       "      <td>0.0</td>\n",
       "      <td>0.0</td>\n",
       "      <td>0.0</td>\n",
       "      <td>0.0</td>\n",
       "      <td>...</td>\n",
       "      <td>0.0</td>\n",
       "      <td>0.0</td>\n",
       "      <td>0.0</td>\n",
       "      <td>0.0</td>\n",
       "      <td>0.0</td>\n",
       "      <td>0.0</td>\n",
       "      <td>0.0</td>\n",
       "      <td>0.0</td>\n",
       "      <td>0.0</td>\n",
       "      <td>0.0</td>\n",
       "    </tr>\n",
       "    <tr>\n",
       "      <th>2</th>\n",
       "      <td>0.0</td>\n",
       "      <td>0.0</td>\n",
       "      <td>1.0</td>\n",
       "      <td>0.0</td>\n",
       "      <td>0.0</td>\n",
       "      <td>0.0</td>\n",
       "      <td>0.0</td>\n",
       "      <td>0.0</td>\n",
       "      <td>0.0</td>\n",
       "      <td>0.0</td>\n",
       "      <td>...</td>\n",
       "      <td>0.0</td>\n",
       "      <td>0.0</td>\n",
       "      <td>0.0</td>\n",
       "      <td>0.0</td>\n",
       "      <td>0.0</td>\n",
       "      <td>0.0</td>\n",
       "      <td>0.0</td>\n",
       "      <td>0.0</td>\n",
       "      <td>0.0</td>\n",
       "      <td>0.0</td>\n",
       "    </tr>\n",
       "    <tr>\n",
       "      <th>3</th>\n",
       "      <td>0.0</td>\n",
       "      <td>0.0</td>\n",
       "      <td>1.0</td>\n",
       "      <td>0.0</td>\n",
       "      <td>0.0</td>\n",
       "      <td>0.0</td>\n",
       "      <td>0.0</td>\n",
       "      <td>0.0</td>\n",
       "      <td>0.0</td>\n",
       "      <td>0.0</td>\n",
       "      <td>...</td>\n",
       "      <td>0.0</td>\n",
       "      <td>0.0</td>\n",
       "      <td>0.0</td>\n",
       "      <td>0.0</td>\n",
       "      <td>0.0</td>\n",
       "      <td>0.0</td>\n",
       "      <td>0.0</td>\n",
       "      <td>0.0</td>\n",
       "      <td>0.0</td>\n",
       "      <td>1.0</td>\n",
       "    </tr>\n",
       "    <tr>\n",
       "      <th>4</th>\n",
       "      <td>0.0</td>\n",
       "      <td>0.0</td>\n",
       "      <td>0.0</td>\n",
       "      <td>0.0</td>\n",
       "      <td>0.0</td>\n",
       "      <td>0.0</td>\n",
       "      <td>0.0</td>\n",
       "      <td>0.0</td>\n",
       "      <td>0.0</td>\n",
       "      <td>0.0</td>\n",
       "      <td>...</td>\n",
       "      <td>0.0</td>\n",
       "      <td>0.0</td>\n",
       "      <td>0.0</td>\n",
       "      <td>0.0</td>\n",
       "      <td>0.0</td>\n",
       "      <td>0.0</td>\n",
       "      <td>0.0</td>\n",
       "      <td>0.0</td>\n",
       "      <td>0.0</td>\n",
       "      <td>1.0</td>\n",
       "    </tr>\n",
       "    <tr>\n",
       "      <th>5</th>\n",
       "      <td>0.0</td>\n",
       "      <td>0.0</td>\n",
       "      <td>0.0</td>\n",
       "      <td>0.0</td>\n",
       "      <td>0.0</td>\n",
       "      <td>0.0</td>\n",
       "      <td>0.0</td>\n",
       "      <td>0.0</td>\n",
       "      <td>0.0</td>\n",
       "      <td>0.0</td>\n",
       "      <td>...</td>\n",
       "      <td>0.0</td>\n",
       "      <td>0.0</td>\n",
       "      <td>0.0</td>\n",
       "      <td>0.0</td>\n",
       "      <td>0.0</td>\n",
       "      <td>0.0</td>\n",
       "      <td>0.0</td>\n",
       "      <td>0.0</td>\n",
       "      <td>0.0</td>\n",
       "      <td>1.0</td>\n",
       "    </tr>\n",
       "    <tr>\n",
       "      <th>6</th>\n",
       "      <td>0.0</td>\n",
       "      <td>0.0</td>\n",
       "      <td>0.0</td>\n",
       "      <td>0.0</td>\n",
       "      <td>0.0</td>\n",
       "      <td>0.0</td>\n",
       "      <td>0.0</td>\n",
       "      <td>0.0</td>\n",
       "      <td>0.0</td>\n",
       "      <td>0.0</td>\n",
       "      <td>...</td>\n",
       "      <td>0.0</td>\n",
       "      <td>0.0</td>\n",
       "      <td>0.0</td>\n",
       "      <td>0.0</td>\n",
       "      <td>0.0</td>\n",
       "      <td>0.0</td>\n",
       "      <td>0.0</td>\n",
       "      <td>0.0</td>\n",
       "      <td>0.0</td>\n",
       "      <td>1.0</td>\n",
       "    </tr>\n",
       "    <tr>\n",
       "      <th>7</th>\n",
       "      <td>0.0</td>\n",
       "      <td>0.0</td>\n",
       "      <td>0.0</td>\n",
       "      <td>0.0</td>\n",
       "      <td>0.0</td>\n",
       "      <td>0.0</td>\n",
       "      <td>0.0</td>\n",
       "      <td>0.0</td>\n",
       "      <td>0.0</td>\n",
       "      <td>0.0</td>\n",
       "      <td>...</td>\n",
       "      <td>0.0</td>\n",
       "      <td>0.0</td>\n",
       "      <td>0.0</td>\n",
       "      <td>0.0</td>\n",
       "      <td>0.0</td>\n",
       "      <td>0.0</td>\n",
       "      <td>0.0</td>\n",
       "      <td>0.0</td>\n",
       "      <td>0.0</td>\n",
       "      <td>1.0</td>\n",
       "    </tr>\n",
       "    <tr>\n",
       "      <th>8</th>\n",
       "      <td>0.0</td>\n",
       "      <td>0.0</td>\n",
       "      <td>0.0</td>\n",
       "      <td>0.0</td>\n",
       "      <td>0.0</td>\n",
       "      <td>0.0</td>\n",
       "      <td>0.0</td>\n",
       "      <td>0.0</td>\n",
       "      <td>0.0</td>\n",
       "      <td>0.0</td>\n",
       "      <td>...</td>\n",
       "      <td>0.0</td>\n",
       "      <td>0.0</td>\n",
       "      <td>0.0</td>\n",
       "      <td>0.0</td>\n",
       "      <td>0.0</td>\n",
       "      <td>0.0</td>\n",
       "      <td>0.0</td>\n",
       "      <td>0.0</td>\n",
       "      <td>0.0</td>\n",
       "      <td>1.0</td>\n",
       "    </tr>\n",
       "    <tr>\n",
       "      <th>9</th>\n",
       "      <td>0.0</td>\n",
       "      <td>0.0</td>\n",
       "      <td>1.0</td>\n",
       "      <td>0.0</td>\n",
       "      <td>0.0</td>\n",
       "      <td>0.0</td>\n",
       "      <td>0.0</td>\n",
       "      <td>0.0</td>\n",
       "      <td>0.0</td>\n",
       "      <td>0.0</td>\n",
       "      <td>...</td>\n",
       "      <td>0.0</td>\n",
       "      <td>0.0</td>\n",
       "      <td>0.0</td>\n",
       "      <td>0.0</td>\n",
       "      <td>0.0</td>\n",
       "      <td>0.0</td>\n",
       "      <td>0.0</td>\n",
       "      <td>0.0</td>\n",
       "      <td>0.0</td>\n",
       "      <td>0.0</td>\n",
       "    </tr>\n",
       "  </tbody>\n",
       "</table>\n",
       "<p>10 rows × 2193 columns</p>\n",
       "</div>"
      ],
      "text/plain": [
       "   0     1     2     3     4     5     6     7     8     9     ...  2183  \\\n",
       "0   0.0   0.0   1.0   0.0   0.0   0.0   0.0   0.0   0.0   0.0  ...   0.0   \n",
       "1   0.0   0.0   1.0   0.0   0.0   0.0   0.0   0.0   0.0   0.0  ...   0.0   \n",
       "2   0.0   0.0   1.0   0.0   0.0   0.0   0.0   0.0   0.0   0.0  ...   0.0   \n",
       "3   0.0   0.0   1.0   0.0   0.0   0.0   0.0   0.0   0.0   0.0  ...   0.0   \n",
       "4   0.0   0.0   0.0   0.0   0.0   0.0   0.0   0.0   0.0   0.0  ...   0.0   \n",
       "5   0.0   0.0   0.0   0.0   0.0   0.0   0.0   0.0   0.0   0.0  ...   0.0   \n",
       "6   0.0   0.0   0.0   0.0   0.0   0.0   0.0   0.0   0.0   0.0  ...   0.0   \n",
       "7   0.0   0.0   0.0   0.0   0.0   0.0   0.0   0.0   0.0   0.0  ...   0.0   \n",
       "8   0.0   0.0   0.0   0.0   0.0   0.0   0.0   0.0   0.0   0.0  ...   0.0   \n",
       "9   0.0   0.0   1.0   0.0   0.0   0.0   0.0   0.0   0.0   0.0  ...   0.0   \n",
       "\n",
       "   2184  2185  2186  2187  2188  2189  2190  2191  2192  \n",
       "0   0.0   0.0   0.0   0.0   0.0   0.0   0.0   0.0   0.0  \n",
       "1   0.0   0.0   0.0   0.0   0.0   0.0   0.0   0.0   0.0  \n",
       "2   0.0   0.0   0.0   0.0   0.0   0.0   0.0   0.0   0.0  \n",
       "3   0.0   0.0   0.0   0.0   0.0   0.0   0.0   0.0   1.0  \n",
       "4   0.0   0.0   0.0   0.0   0.0   0.0   0.0   0.0   1.0  \n",
       "5   0.0   0.0   0.0   0.0   0.0   0.0   0.0   0.0   1.0  \n",
       "6   0.0   0.0   0.0   0.0   0.0   0.0   0.0   0.0   1.0  \n",
       "7   0.0   0.0   0.0   0.0   0.0   0.0   0.0   0.0   1.0  \n",
       "8   0.0   0.0   0.0   0.0   0.0   0.0   0.0   0.0   1.0  \n",
       "9   0.0   0.0   0.0   0.0   0.0   0.0   0.0   0.0   0.0  \n",
       "\n",
       "[10 rows x 2193 columns]"
      ]
     },
     "execution_count": 38,
     "metadata": {},
     "output_type": "execute_result"
    }
   ],
   "source": [
    "df_OneHotEncoder = pd.DataFrame(ohe)\n",
    "df_OneHotEncoder.head(10)"
   ]
  },
  {
   "cell_type": "code",
   "execution_count": null,
   "id": "18d0dad9-91a9-442c-897c-31730fef49da",
   "metadata": {},
   "outputs": [],
   "source": []
  }
 ],
 "metadata": {
  "kernelspec": {
   "display_name": "Python 3 (ipykernel)",
   "language": "python",
   "name": "python3"
  },
  "language_info": {
   "codemirror_mode": {
    "name": "ipython",
    "version": 3
   },
   "file_extension": ".py",
   "mimetype": "text/x-python",
   "name": "python",
   "nbconvert_exporter": "python",
   "pygments_lexer": "ipython3",
   "version": "3.10.4"
  }
 },
 "nbformat": 4,
 "nbformat_minor": 5
}
