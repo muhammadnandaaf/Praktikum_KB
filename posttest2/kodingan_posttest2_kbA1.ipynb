{
 "cells": [
  {
   "cell_type": "markdown",
   "id": "9f0976ad-9eb6-40e4-91e3-749c173dec91",
   "metadata": {
    "jp-MarkdownHeadingCollapsed": true,
    "tags": []
   },
   "source": [
    "# Mengimport Library"
   ]
  },
  {
   "cell_type": "code",
   "execution_count": 1,
   "id": "07fc87b7-c5af-4f64-8e99-7fff112f1611",
   "metadata": {},
   "outputs": [],
   "source": [
    "import numpy as np\n",
    "import pandas as pd"
   ]
  },
  {
   "cell_type": "markdown",
   "id": "1753f453-b07b-41b6-81c5-564bf2311666",
   "metadata": {
    "jp-MarkdownHeadingCollapsed": true,
    "tags": []
   },
   "source": [
    "# Memasukkan Dataset"
   ]
  },
  {
   "cell_type": "code",
   "execution_count": 2,
   "id": "78a4b16b-2cba-4652-8c4e-de804ab02f28",
   "metadata": {},
   "outputs": [],
   "source": [
    "df = pd.read_csv(\"dogecoin.csv\")"
   ]
  },
  {
   "cell_type": "code",
   "execution_count": 3,
   "id": "640708c9-c4c5-4f28-a71a-25638ea467ee",
   "metadata": {},
   "outputs": [
    {
     "name": "stdout",
     "output_type": "stream",
     "text": [
      "<class 'pandas.core.frame.DataFrame'>\n",
      "RangeIndex: 2825 entries, 0 to 2824\n",
      "Data columns (total 5 columns):\n",
      " #   Column        Non-Null Count  Dtype  \n",
      "---  ------        --------------  -----  \n",
      " 0   date          2825 non-null   object \n",
      " 1   price         2825 non-null   float64\n",
      " 2   total_volume  2825 non-null   float64\n",
      " 3   market_cap    2824 non-null   float64\n",
      " 4   coin_name     2825 non-null   object \n",
      "dtypes: float64(3), object(2)\n",
      "memory usage: 110.5+ KB\n"
     ]
    }
   ],
   "source": [
    "df.info()"
   ]
  },
  {
   "cell_type": "markdown",
   "id": "ae8a57d2-7709-402a-b374-c9e3956a788d",
   "metadata": {
    "jp-MarkdownHeadingCollapsed": true,
    "tags": []
   },
   "source": [
    "# Mengubah nilai atribut bertipe angka menjadi desimal ke integer"
   ]
  },
  {
   "cell_type": "code",
   "execution_count": 4,
   "id": "c2d15daf-cc0f-4042-9538-e8d9c1f09f4e",
   "metadata": {},
   "outputs": [
    {
     "data": {
      "text/plain": [
       "0          283845\n",
       "1          363741\n",
       "2          270052\n",
       "3          353697\n",
       "4          554935\n",
       "          ...    \n",
       "2820    379475189\n",
       "2821    235736292\n",
       "2822    650660228\n",
       "2823    895820729\n",
       "2824    348169164\n",
       "Name: total_volume, Length: 2825, dtype: int64"
      ]
     },
     "execution_count": 4,
     "metadata": {},
     "output_type": "execute_result"
    }
   ],
   "source": [
    "df[\"total_volume\"]=df[\"total_volume\"].astype(\"int64\")\n",
    "df[\"total_volume\"]"
   ]
  },
  {
   "cell_type": "markdown",
   "id": "500455ab-5053-4bec-8130-9ac33b874442",
   "metadata": {
    "jp-MarkdownHeadingCollapsed": true,
    "tags": []
   },
   "source": [
    "# Mengubah nilai atribut bertipe angka menjadi desimal "
   ]
  },
  {
   "cell_type": "code",
   "execution_count": 5,
   "id": "71df656c-fc1b-40eb-a287-078e84b7322d",
   "metadata": {},
   "outputs": [
    {
     "data": {
      "text/plain": [
       "0          283.845\n",
       "1          363.741\n",
       "2          270.052\n",
       "3          353.697\n",
       "4          554.935\n",
       "           ...    \n",
       "2820    379475.189\n",
       "2821    235736.292\n",
       "2822    650660.228\n",
       "2823    895820.729\n",
       "2824    348169.164\n",
       "Name: total_volume, Length: 2825, dtype: float64"
      ]
     },
     "execution_count": 5,
     "metadata": {},
     "output_type": "execute_result"
    }
   ],
   "source": [
    "df[\"total_volume\"]=df[\"total_volume\"].astype(\"float64\")/1000\n",
    "df[\"total_volume\"]"
   ]
  },
  {
   "cell_type": "markdown",
   "id": "1b60205d-a19d-4cba-9420-fa6cbf567894",
   "metadata": {
    "jp-MarkdownHeadingCollapsed": true,
    "tags": []
   },
   "source": [
    "# Menyimpan dataset ke dalam file CSV hanya atribut angka"
   ]
  },
  {
   "cell_type": "code",
   "execution_count": 6,
   "id": "01a84a73-aaed-4cdf-b86b-c3d45231d97e",
   "metadata": {},
   "outputs": [],
   "source": [
    "df[['price','total_volume','market_cap']].to_csv(\"hanya_data_angka.csv\")"
   ]
  },
  {
   "cell_type": "markdown",
   "id": "67bc5f65-6a2a-462e-affa-ea5e1a14927f",
   "metadata": {
    "jp-MarkdownHeadingCollapsed": true,
    "tags": []
   },
   "source": [
    "# Menampilkan Informasi yang dibutuhkan dengan memasukkan dataset ke dalam dictionary"
   ]
  },
  {
   "cell_type": "code",
   "execution_count": 7,
   "id": "810e71c8-24d9-418b-941c-0ef96a45471d",
   "metadata": {},
   "outputs": [
    {
     "name": "stdout",
     "output_type": "stream",
     "text": [
      "jumlah_record 2825\n",
      "nama_attribut ['date', 'price', 'total_volume', 'market_cap', 'coin_name']\n",
      "jumlah_object 2\n",
      "jumlah_angka 3\n",
      "jumlah_null 1\n"
     ]
    }
   ],
   "source": [
    "\n",
    "dict = {}\n",
    "dict[\"jumlah_record\"]=len(df)\n",
    "dict[\"nama_attribut\"]=list(df.columns)\n",
    "dict[\"jumlah_object\"]=len(df.select_dtypes(include=[\"object\"]).columns)\n",
    "dict[\"jumlah_angka\"]=len(df.select_dtypes(include=[\"int64\",\"float\"]).columns)\n",
    "dict[\"jumlah_null\"]=len(df.columns[df.isna().any()].tolist())\n",
    "for i in dict:\n",
    "    print(i, dict[i])"
   ]
  },
  {
   "cell_type": "markdown",
   "id": "b1a613fb-8976-428a-9abc-352b14927244",
   "metadata": {
    "jp-MarkdownHeadingCollapsed": true,
    "tags": []
   },
   "source": [
    "# Menampilkan 10 data pertama"
   ]
  },
  {
   "cell_type": "code",
   "execution_count": 8,
   "id": "9262cad4-4a41-4307-b614-ac5e12ab394d",
   "metadata": {},
   "outputs": [
    {
     "data": {
      "text/html": [
       "<div>\n",
       "<style scoped>\n",
       "    .dataframe tbody tr th:only-of-type {\n",
       "        vertical-align: middle;\n",
       "    }\n",
       "\n",
       "    .dataframe tbody tr th {\n",
       "        vertical-align: top;\n",
       "    }\n",
       "\n",
       "    .dataframe thead th {\n",
       "        text-align: right;\n",
       "    }\n",
       "</style>\n",
       "<table border=\"1\" class=\"dataframe\">\n",
       "  <thead>\n",
       "    <tr style=\"text-align: right;\">\n",
       "      <th></th>\n",
       "      <th>date</th>\n",
       "      <th>price</th>\n",
       "      <th>total_volume</th>\n",
       "      <th>market_cap</th>\n",
       "      <th>coin_name</th>\n",
       "    </tr>\n",
       "  </thead>\n",
       "  <tbody>\n",
       "    <tr>\n",
       "      <th>0</th>\n",
       "      <td>2015-01-01 00:00:00.000</td>\n",
       "      <td>0.000183</td>\n",
       "      <td>283.845</td>\n",
       "      <td>1.780332e+07</td>\n",
       "      <td>dogecoin</td>\n",
       "    </tr>\n",
       "    <tr>\n",
       "      <th>1</th>\n",
       "      <td>2015-01-02 00:00:00.000</td>\n",
       "      <td>0.000184</td>\n",
       "      <td>363.741</td>\n",
       "      <td>1.784733e+07</td>\n",
       "      <td>dogecoin</td>\n",
       "    </tr>\n",
       "    <tr>\n",
       "      <th>2</th>\n",
       "      <td>2015-01-03 00:00:00.000</td>\n",
       "      <td>0.000168</td>\n",
       "      <td>270.052</td>\n",
       "      <td>1.632320e+07</td>\n",
       "      <td>dogecoin</td>\n",
       "    </tr>\n",
       "    <tr>\n",
       "      <th>3</th>\n",
       "      <td>2015-01-04 00:00:00.000</td>\n",
       "      <td>0.000158</td>\n",
       "      <td>353.697</td>\n",
       "      <td>1.538501e+07</td>\n",
       "      <td>dogecoin</td>\n",
       "    </tr>\n",
       "    <tr>\n",
       "      <th>4</th>\n",
       "      <td>2015-01-05 00:00:00.000</td>\n",
       "      <td>0.000160</td>\n",
       "      <td>554.935</td>\n",
       "      <td>1.560247e+07</td>\n",
       "      <td>dogecoin</td>\n",
       "    </tr>\n",
       "    <tr>\n",
       "      <th>5</th>\n",
       "      <td>2015-01-06 00:00:00.000</td>\n",
       "      <td>0.000169</td>\n",
       "      <td>287.943</td>\n",
       "      <td>1.644846e+07</td>\n",
       "      <td>dogecoin</td>\n",
       "    </tr>\n",
       "    <tr>\n",
       "      <th>6</th>\n",
       "      <td>2015-01-07 00:00:00.000</td>\n",
       "      <td>0.000173</td>\n",
       "      <td>384.231</td>\n",
       "      <td>1.688983e+07</td>\n",
       "      <td>dogecoin</td>\n",
       "    </tr>\n",
       "    <tr>\n",
       "      <th>7</th>\n",
       "      <td>2015-01-08 00:00:00.000</td>\n",
       "      <td>0.000169</td>\n",
       "      <td>324.927</td>\n",
       "      <td>1.646815e+07</td>\n",
       "      <td>dogecoin</td>\n",
       "    </tr>\n",
       "    <tr>\n",
       "      <th>8</th>\n",
       "      <td>2015-01-09 00:00:00.000</td>\n",
       "      <td>0.000171</td>\n",
       "      <td>384.908</td>\n",
       "      <td>1.665552e+07</td>\n",
       "      <td>dogecoin</td>\n",
       "    </tr>\n",
       "    <tr>\n",
       "      <th>9</th>\n",
       "      <td>2015-01-10 00:00:00.000</td>\n",
       "      <td>0.000164</td>\n",
       "      <td>304.876</td>\n",
       "      <td>1.594742e+07</td>\n",
       "      <td>dogecoin</td>\n",
       "    </tr>\n",
       "  </tbody>\n",
       "</table>\n",
       "</div>"
      ],
      "text/plain": [
       "                      date     price  total_volume    market_cap coin_name\n",
       "0  2015-01-01 00:00:00.000  0.000183       283.845  1.780332e+07  dogecoin\n",
       "1  2015-01-02 00:00:00.000  0.000184       363.741  1.784733e+07  dogecoin\n",
       "2  2015-01-03 00:00:00.000  0.000168       270.052  1.632320e+07  dogecoin\n",
       "3  2015-01-04 00:00:00.000  0.000158       353.697  1.538501e+07  dogecoin\n",
       "4  2015-01-05 00:00:00.000  0.000160       554.935  1.560247e+07  dogecoin\n",
       "5  2015-01-06 00:00:00.000  0.000169       287.943  1.644846e+07  dogecoin\n",
       "6  2015-01-07 00:00:00.000  0.000173       384.231  1.688983e+07  dogecoin\n",
       "7  2015-01-08 00:00:00.000  0.000169       324.927  1.646815e+07  dogecoin\n",
       "8  2015-01-09 00:00:00.000  0.000171       384.908  1.665552e+07  dogecoin\n",
       "9  2015-01-10 00:00:00.000  0.000164       304.876  1.594742e+07  dogecoin"
      ]
     },
     "execution_count": 8,
     "metadata": {},
     "output_type": "execute_result"
    }
   ],
   "source": [
    "df.head(10)"
   ]
  },
  {
   "cell_type": "markdown",
   "id": "0e78582f-3932-4b0e-b207-dc53c69988ed",
   "metadata": {
    "jp-MarkdownHeadingCollapsed": true,
    "tags": []
   },
   "source": [
    "# Menampilkan 10 record pertama bertipe data angka\n"
   ]
  },
  {
   "cell_type": "code",
   "execution_count": 9,
   "id": "46864e07-0beb-4c2a-8caf-73210a8a6d1f",
   "metadata": {},
   "outputs": [
    {
     "data": {
      "text/html": [
       "<div>\n",
       "<style scoped>\n",
       "    .dataframe tbody tr th:only-of-type {\n",
       "        vertical-align: middle;\n",
       "    }\n",
       "\n",
       "    .dataframe tbody tr th {\n",
       "        vertical-align: top;\n",
       "    }\n",
       "\n",
       "    .dataframe thead th {\n",
       "        text-align: right;\n",
       "    }\n",
       "</style>\n",
       "<table border=\"1\" class=\"dataframe\">\n",
       "  <thead>\n",
       "    <tr style=\"text-align: right;\">\n",
       "      <th></th>\n",
       "      <th>price</th>\n",
       "      <th>total_volume</th>\n",
       "      <th>market_cap</th>\n",
       "    </tr>\n",
       "  </thead>\n",
       "  <tbody>\n",
       "    <tr>\n",
       "      <th>0</th>\n",
       "      <td>0.000183</td>\n",
       "      <td>283.845</td>\n",
       "      <td>1.780332e+07</td>\n",
       "    </tr>\n",
       "    <tr>\n",
       "      <th>1</th>\n",
       "      <td>0.000184</td>\n",
       "      <td>363.741</td>\n",
       "      <td>1.784733e+07</td>\n",
       "    </tr>\n",
       "    <tr>\n",
       "      <th>2</th>\n",
       "      <td>0.000168</td>\n",
       "      <td>270.052</td>\n",
       "      <td>1.632320e+07</td>\n",
       "    </tr>\n",
       "    <tr>\n",
       "      <th>3</th>\n",
       "      <td>0.000158</td>\n",
       "      <td>353.697</td>\n",
       "      <td>1.538501e+07</td>\n",
       "    </tr>\n",
       "    <tr>\n",
       "      <th>4</th>\n",
       "      <td>0.000160</td>\n",
       "      <td>554.935</td>\n",
       "      <td>1.560247e+07</td>\n",
       "    </tr>\n",
       "    <tr>\n",
       "      <th>5</th>\n",
       "      <td>0.000169</td>\n",
       "      <td>287.943</td>\n",
       "      <td>1.644846e+07</td>\n",
       "    </tr>\n",
       "    <tr>\n",
       "      <th>6</th>\n",
       "      <td>0.000173</td>\n",
       "      <td>384.231</td>\n",
       "      <td>1.688983e+07</td>\n",
       "    </tr>\n",
       "    <tr>\n",
       "      <th>7</th>\n",
       "      <td>0.000169</td>\n",
       "      <td>324.927</td>\n",
       "      <td>1.646815e+07</td>\n",
       "    </tr>\n",
       "    <tr>\n",
       "      <th>8</th>\n",
       "      <td>0.000171</td>\n",
       "      <td>384.908</td>\n",
       "      <td>1.665552e+07</td>\n",
       "    </tr>\n",
       "    <tr>\n",
       "      <th>9</th>\n",
       "      <td>0.000164</td>\n",
       "      <td>304.876</td>\n",
       "      <td>1.594742e+07</td>\n",
       "    </tr>\n",
       "  </tbody>\n",
       "</table>\n",
       "</div>"
      ],
      "text/plain": [
       "      price  total_volume    market_cap\n",
       "0  0.000183       283.845  1.780332e+07\n",
       "1  0.000184       363.741  1.784733e+07\n",
       "2  0.000168       270.052  1.632320e+07\n",
       "3  0.000158       353.697  1.538501e+07\n",
       "4  0.000160       554.935  1.560247e+07\n",
       "5  0.000169       287.943  1.644846e+07\n",
       "6  0.000173       384.231  1.688983e+07\n",
       "7  0.000169       324.927  1.646815e+07\n",
       "8  0.000171       384.908  1.665552e+07\n",
       "9  0.000164       304.876  1.594742e+07"
      ]
     },
     "execution_count": 9,
     "metadata": {},
     "output_type": "execute_result"
    }
   ],
   "source": [
    "tipe_angka = df.select_dtypes(include=np.number) \n",
    "tipe_angka.head(10)"
   ]
  },
  {
   "cell_type": "markdown",
   "id": "a1225697-7b9d-4133-99a3-1f5f03c68b63",
   "metadata": {
    "jp-MarkdownHeadingCollapsed": true,
    "tags": []
   },
   "source": [
    "# Menampilkan rata-rata, standar deviasi, nilai minimum, nilai maksimum, Q1, Q1, Q3 "
   ]
  },
  {
   "cell_type": "code",
   "execution_count": 11,
   "id": "866b7715-f8ef-49e3-b05a-a312acc0e3d8",
   "metadata": {},
   "outputs": [
    {
     "data": {
      "text/html": [
       "<div>\n",
       "<style scoped>\n",
       "    .dataframe tbody tr th:only-of-type {\n",
       "        vertical-align: middle;\n",
       "    }\n",
       "\n",
       "    .dataframe tbody tr th {\n",
       "        vertical-align: top;\n",
       "    }\n",
       "\n",
       "    .dataframe thead th {\n",
       "        text-align: right;\n",
       "    }\n",
       "</style>\n",
       "<table border=\"1\" class=\"dataframe\">\n",
       "  <thead>\n",
       "    <tr style=\"text-align: right;\">\n",
       "      <th></th>\n",
       "      <th>price</th>\n",
       "      <th>total_volume</th>\n",
       "      <th>market_cap</th>\n",
       "    </tr>\n",
       "  </thead>\n",
       "  <tbody>\n",
       "    <tr>\n",
       "      <th>count</th>\n",
       "      <td>2825.000000</td>\n",
       "      <td>2.825000e+03</td>\n",
       "      <td>2.824000e+03</td>\n",
       "    </tr>\n",
       "    <tr>\n",
       "      <th>mean</th>\n",
       "      <td>0.037872</td>\n",
       "      <td>6.385365e+05</td>\n",
       "      <td>4.950490e+09</td>\n",
       "    </tr>\n",
       "    <tr>\n",
       "      <th>std</th>\n",
       "      <td>0.085096</td>\n",
       "      <td>2.775082e+06</td>\n",
       "      <td>1.113881e+10</td>\n",
       "    </tr>\n",
       "    <tr>\n",
       "      <th>min</th>\n",
       "      <td>0.000087</td>\n",
       "      <td>8.554000e+00</td>\n",
       "      <td>8.628938e+06</td>\n",
       "    </tr>\n",
       "    <tr>\n",
       "      <th>25%</th>\n",
       "      <td>0.000239</td>\n",
       "      <td>2.870420e+02</td>\n",
       "      <td>2.512644e+07</td>\n",
       "    </tr>\n",
       "    <tr>\n",
       "      <th>50%</th>\n",
       "      <td>0.002515</td>\n",
       "      <td>3.287635e+04</td>\n",
       "      <td>3.036863e+08</td>\n",
       "    </tr>\n",
       "    <tr>\n",
       "      <th>75%</th>\n",
       "      <td>0.005924</td>\n",
       "      <td>1.653173e+05</td>\n",
       "      <td>6.840578e+08</td>\n",
       "    </tr>\n",
       "    <tr>\n",
       "      <th>max</th>\n",
       "      <td>0.681842</td>\n",
       "      <td>5.096065e+07</td>\n",
       "      <td>8.879477e+10</td>\n",
       "    </tr>\n",
       "  </tbody>\n",
       "</table>\n",
       "</div>"
      ],
      "text/plain": [
       "             price  total_volume    market_cap\n",
       "count  2825.000000  2.825000e+03  2.824000e+03\n",
       "mean      0.037872  6.385365e+05  4.950490e+09\n",
       "std       0.085096  2.775082e+06  1.113881e+10\n",
       "min       0.000087  8.554000e+00  8.628938e+06\n",
       "25%       0.000239  2.870420e+02  2.512644e+07\n",
       "50%       0.002515  3.287635e+04  3.036863e+08\n",
       "75%       0.005924  1.653173e+05  6.840578e+08\n",
       "max       0.681842  5.096065e+07  8.879477e+10"
      ]
     },
     "execution_count": 11,
     "metadata": {},
     "output_type": "execute_result"
    }
   ],
   "source": [
    "df.describe()"
   ]
  },
  {
   "cell_type": "markdown",
   "id": "1be58c20-0721-47b5-8dc9-575e5fdf4043",
   "metadata": {
    "jp-MarkdownHeadingCollapsed": true,
    "tags": []
   },
   "source": [
    "# Menampilkan nilai korelasi\n"
   ]
  },
  {
   "cell_type": "code",
   "execution_count": 10,
   "id": "8c766ae4-52f3-4051-8b4c-426a9f0d0a18",
   "metadata": {},
   "outputs": [
    {
     "data": {
      "text/html": [
       "<div>\n",
       "<style scoped>\n",
       "    .dataframe tbody tr th:only-of-type {\n",
       "        vertical-align: middle;\n",
       "    }\n",
       "\n",
       "    .dataframe tbody tr th {\n",
       "        vertical-align: top;\n",
       "    }\n",
       "\n",
       "    .dataframe thead th {\n",
       "        text-align: right;\n",
       "    }\n",
       "</style>\n",
       "<table border=\"1\" class=\"dataframe\">\n",
       "  <thead>\n",
       "    <tr style=\"text-align: right;\">\n",
       "      <th></th>\n",
       "      <th>price</th>\n",
       "      <th>total_volume</th>\n",
       "      <th>market_cap</th>\n",
       "    </tr>\n",
       "  </thead>\n",
       "  <tbody>\n",
       "    <tr>\n",
       "      <th>price</th>\n",
       "      <td>1.000000</td>\n",
       "      <td>0.635356</td>\n",
       "      <td>0.999942</td>\n",
       "    </tr>\n",
       "    <tr>\n",
       "      <th>total_volume</th>\n",
       "      <td>0.635356</td>\n",
       "      <td>1.000000</td>\n",
       "      <td>0.631980</td>\n",
       "    </tr>\n",
       "    <tr>\n",
       "      <th>market_cap</th>\n",
       "      <td>0.999942</td>\n",
       "      <td>0.631980</td>\n",
       "      <td>1.000000</td>\n",
       "    </tr>\n",
       "  </tbody>\n",
       "</table>\n",
       "</div>"
      ],
      "text/plain": [
       "                 price  total_volume  market_cap\n",
       "price         1.000000      0.635356    0.999942\n",
       "total_volume  0.635356      1.000000    0.631980\n",
       "market_cap    0.999942      0.631980    1.000000"
      ]
     },
     "execution_count": 10,
     "metadata": {},
     "output_type": "execute_result"
    }
   ],
   "source": [
    "df.corr()"
   ]
  }
 ],
 "metadata": {
  "kernelspec": {
   "display_name": "Python 3 (ipykernel)",
   "language": "python",
   "name": "python3"
  },
  "language_info": {
   "codemirror_mode": {
    "name": "ipython",
    "version": 3
   },
   "file_extension": ".py",
   "mimetype": "text/x-python",
   "name": "python",
   "nbconvert_exporter": "python",
   "pygments_lexer": "ipython3",
   "version": "3.10.4"
  }
 },
 "nbformat": 4,
 "nbformat_minor": 5
}
