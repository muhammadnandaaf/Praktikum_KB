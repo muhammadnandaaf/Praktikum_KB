{
 "cells": [
  {
   "cell_type": "markdown",
   "id": "8a04618b-f486-46bd-b816-abe31e632602",
   "metadata": {},
   "source": [
    "# POSTTEST 5 KB\n",
    "## Muhammad Nanda Arjuna Fadhillah\n",
    "## 2109106028\n",
    "## A1 Informatika 2021"
   ]
  },
  {
   "cell_type": "code",
   "execution_count": 1,
   "id": "e0314401-afb3-4de8-8654-7a082ccdf334",
   "metadata": {},
   "outputs": [],
   "source": [
    "import numpy as np\n",
    "import seaborn as sns\n",
    "import pandas as pd \n",
    "import matplotlib.pyplot as plt\n",
    "from sklearn.preprocessing import StandardScaler \n",
    "from sklearn.impute import SimpleImputer\n",
    "from sklearn.model_selection import train_test_split\n",
    "from sklearn.neighbors import KNeighborsClassifier\n",
    "from sklearn.naive_bayes import GaussianNB\n",
    "from sklearn.metrics import accuracy_score\n",
    "from sklearn.tree import DecisionTreeClassifier\n",
    "from sklearn import tree"
   ]
  },
  {
   "cell_type": "markdown",
   "id": "650b50b0-fafd-410f-a27f-a216bfeb0aae",
   "metadata": {},
   "source": [
    "# Memasukkan Dataset"
   ]
  },
  {
   "cell_type": "code",
   "execution_count": 2,
   "id": "6f45190b-7a9e-43cb-bfa8-a06e0e03cd49",
   "metadata": {},
   "outputs": [
    {
     "data": {
      "text/html": [
       "<div>\n",
       "<style scoped>\n",
       "    .dataframe tbody tr th:only-of-type {\n",
       "        vertical-align: middle;\n",
       "    }\n",
       "\n",
       "    .dataframe tbody tr th {\n",
       "        vertical-align: top;\n",
       "    }\n",
       "\n",
       "    .dataframe thead th {\n",
       "        text-align: right;\n",
       "    }\n",
       "</style>\n",
       "<table border=\"1\" class=\"dataframe\">\n",
       "  <thead>\n",
       "    <tr style=\"text-align: right;\">\n",
       "      <th></th>\n",
       "      <th>Country_Name</th>\n",
       "      <th>Year</th>\n",
       "      <th>Population</th>\n",
       "      <th>Deaths_All_Types</th>\n",
       "      <th>Deaths_Suicides</th>\n",
       "      <th>HExp_Pctage_Y</th>\n",
       "      <th>MHExp_Pctage_2011</th>\n",
       "      <th>Dep_Num_2015</th>\n",
       "      <th>Suicide_p100</th>\n",
       "    </tr>\n",
       "  </thead>\n",
       "  <tbody>\n",
       "    <tr>\n",
       "      <th>0</th>\n",
       "      <td>Armenia</td>\n",
       "      <td>2006</td>\n",
       "      <td>3219235.0</td>\n",
       "      <td>54404</td>\n",
       "      <td>78</td>\n",
       "      <td>5.85</td>\n",
       "      <td>3.38</td>\n",
       "      <td>4.99</td>\n",
       "      <td>5.36</td>\n",
       "    </tr>\n",
       "    <tr>\n",
       "      <th>1</th>\n",
       "      <td>Armenia</td>\n",
       "      <td>2007</td>\n",
       "      <td>3107395.5</td>\n",
       "      <td>53660</td>\n",
       "      <td>0</td>\n",
       "      <td>5.50</td>\n",
       "      <td>3.38</td>\n",
       "      <td>4.99</td>\n",
       "      <td>5.02</td>\n",
       "    </tr>\n",
       "    <tr>\n",
       "      <th>2</th>\n",
       "      <td>Armenia</td>\n",
       "      <td>2008</td>\n",
       "      <td>3234031.0</td>\n",
       "      <td>54824</td>\n",
       "      <td>63</td>\n",
       "      <td>6.64</td>\n",
       "      <td>3.38</td>\n",
       "      <td>4.99</td>\n",
       "      <td>4.23</td>\n",
       "    </tr>\n",
       "    <tr>\n",
       "      <th>3</th>\n",
       "      <td>Armenia</td>\n",
       "      <td>2009</td>\n",
       "      <td>3066044.0</td>\n",
       "      <td>55120</td>\n",
       "      <td>53</td>\n",
       "      <td>8.44</td>\n",
       "      <td>3.38</td>\n",
       "      <td>4.99</td>\n",
       "      <td>4.06</td>\n",
       "    </tr>\n",
       "    <tr>\n",
       "      <th>4</th>\n",
       "      <td>Armenia</td>\n",
       "      <td>2012</td>\n",
       "      <td>3024127.0</td>\n",
       "      <td>55200</td>\n",
       "      <td>79</td>\n",
       "      <td>9.13</td>\n",
       "      <td>3.38</td>\n",
       "      <td>4.99</td>\n",
       "      <td>6.39</td>\n",
       "    </tr>\n",
       "    <tr>\n",
       "      <th>5</th>\n",
       "      <td>Armenia</td>\n",
       "      <td>2013</td>\n",
       "      <td>3021979.0</td>\n",
       "      <td>54392</td>\n",
       "      <td>67</td>\n",
       "      <td>10.32</td>\n",
       "      <td>3.38</td>\n",
       "      <td>4.99</td>\n",
       "      <td>5.31</td>\n",
       "    </tr>\n",
       "    <tr>\n",
       "      <th>6</th>\n",
       "      <td>Armenia</td>\n",
       "      <td>2014</td>\n",
       "      <td>3013839.0</td>\n",
       "      <td>55428</td>\n",
       "      <td>58</td>\n",
       "      <td>10.18</td>\n",
       "      <td>3.38</td>\n",
       "      <td>4.99</td>\n",
       "      <td>4.63</td>\n",
       "    </tr>\n",
       "    <tr>\n",
       "      <th>7</th>\n",
       "      <td>Armenia</td>\n",
       "      <td>2015</td>\n",
       "      <td>3004588.0</td>\n",
       "      <td>55756</td>\n",
       "      <td>74</td>\n",
       "      <td>10.12</td>\n",
       "      <td>3.38</td>\n",
       "      <td>4.99</td>\n",
       "      <td>4.70</td>\n",
       "    </tr>\n",
       "    <tr>\n",
       "      <th>8</th>\n",
       "      <td>Armenia</td>\n",
       "      <td>2016</td>\n",
       "      <td>2992364.0</td>\n",
       "      <td>56452</td>\n",
       "      <td>0</td>\n",
       "      <td>9.95</td>\n",
       "      <td>3.38</td>\n",
       "      <td>4.99</td>\n",
       "      <td>4.43</td>\n",
       "    </tr>\n",
       "    <tr>\n",
       "      <th>9</th>\n",
       "      <td>Armenia</td>\n",
       "      <td>2017</td>\n",
       "      <td>2912921.0</td>\n",
       "      <td>54250</td>\n",
       "      <td>0</td>\n",
       "      <td>10.36</td>\n",
       "      <td>3.38</td>\n",
       "      <td>4.99</td>\n",
       "      <td>2.43</td>\n",
       "    </tr>\n",
       "  </tbody>\n",
       "</table>\n",
       "</div>"
      ],
      "text/plain": [
       "  Country_Name  Year  Population  Deaths_All_Types  Deaths_Suicides  \\\n",
       "0      Armenia  2006   3219235.0             54404               78   \n",
       "1      Armenia  2007   3107395.5             53660                0   \n",
       "2      Armenia  2008   3234031.0             54824               63   \n",
       "3      Armenia  2009   3066044.0             55120               53   \n",
       "4      Armenia  2012   3024127.0             55200               79   \n",
       "5      Armenia  2013   3021979.0             54392               67   \n",
       "6      Armenia  2014   3013839.0             55428               58   \n",
       "7      Armenia  2015   3004588.0             55756               74   \n",
       "8      Armenia  2016   2992364.0             56452                0   \n",
       "9      Armenia  2017   2912921.0             54250                0   \n",
       "\n",
       "   HExp_Pctage_Y  MHExp_Pctage_2011  Dep_Num_2015  Suicide_p100  \n",
       "0           5.85               3.38          4.99          5.36  \n",
       "1           5.50               3.38          4.99          5.02  \n",
       "2           6.64               3.38          4.99          4.23  \n",
       "3           8.44               3.38          4.99          4.06  \n",
       "4           9.13               3.38          4.99          6.39  \n",
       "5          10.32               3.38          4.99          5.31  \n",
       "6          10.18               3.38          4.99          4.63  \n",
       "7          10.12               3.38          4.99          4.70  \n",
       "8           9.95               3.38          4.99          4.43  \n",
       "9          10.36               3.38          4.99          2.43  "
      ]
     },
     "execution_count": 2,
     "metadata": {},
     "output_type": "execute_result"
    }
   ],
   "source": [
    "dataset = pd.read_csv(\"whoDeaths.csv\")\n",
    "dataset.head(10)"
   ]
  },
  {
   "cell_type": "code",
   "execution_count": 3,
   "id": "f178a677-6c6c-4758-89f6-6ef3c6512d20",
   "metadata": {},
   "outputs": [
    {
     "data": {
      "text/plain": [
       "Country_Name         0\n",
       "Year                 0\n",
       "Population           0\n",
       "Deaths_All_Types     0\n",
       "Deaths_Suicides      0\n",
       "HExp_Pctage_Y        0\n",
       "MHExp_Pctage_2011    0\n",
       "Dep_Num_2015         0\n",
       "Suicide_p100         0\n",
       "dtype: int64"
      ]
     },
     "execution_count": 3,
     "metadata": {},
     "output_type": "execute_result"
    }
   ],
   "source": [
    "dataset.isna().sum()"
   ]
  },
  {
   "cell_type": "code",
   "execution_count": 4,
   "id": "8d08d408-0269-4ad5-bbf4-d941943713f5",
   "metadata": {},
   "outputs": [
    {
     "data": {
      "text/plain": [
       "Country_Name          object\n",
       "Year                   int64\n",
       "Population           float64\n",
       "Deaths_All_Types       int64\n",
       "Deaths_Suicides        int64\n",
       "HExp_Pctage_Y        float64\n",
       "MHExp_Pctage_2011    float64\n",
       "Dep_Num_2015         float64\n",
       "Suicide_p100         float64\n",
       "dtype: object"
      ]
     },
     "execution_count": 4,
     "metadata": {},
     "output_type": "execute_result"
    }
   ],
   "source": [
    "dataset.dtypes"
   ]
  },
  {
   "cell_type": "code",
   "execution_count": 5,
   "id": "351ce310-b33b-44f0-92af-a6951c280698",
   "metadata": {},
   "outputs": [],
   "source": [
    "dataset['Deaths_Suicides'] = dataset['Deaths_Suicides'].fillna(dataset['Deaths_Suicides'].median())\n",
    "dataset['Population'] = dataset['Population'].fillna(dataset['Population'].mean())\n",
    "dataset['HExp_Pctage_Y'] = dataset['HExp_Pctage_Y'].fillna(dataset['HExp_Pctage_Y'].mean())\n",
    "dataset['MHExp_Pctage_2011'] = dataset['MHExp_Pctage_2011'].fillna(dataset['MHExp_Pctage_2011'].mean())\n",
    "dataset['Dep_Num_2015'] = dataset['Dep_Num_2015'].fillna(dataset['Dep_Num_2015'].mean())\n",
    "dataset['Suicide_p100'] = dataset['Suicide_p100'].fillna(dataset['Suicide_p100'].mean())"
   ]
  },
  {
   "cell_type": "code",
   "execution_count": 6,
   "id": "7052901d-b42f-45a2-8ba7-b9b25061ed2c",
   "metadata": {},
   "outputs": [
    {
     "data": {
      "text/plain": [
       "Country_Name         0\n",
       "Year                 0\n",
       "Population           0\n",
       "Deaths_All_Types     0\n",
       "Deaths_Suicides      0\n",
       "HExp_Pctage_Y        0\n",
       "MHExp_Pctage_2011    0\n",
       "Dep_Num_2015         0\n",
       "Suicide_p100         0\n",
       "dtype: int64"
      ]
     },
     "execution_count": 6,
     "metadata": {},
     "output_type": "execute_result"
    }
   ],
   "source": [
    "dataset.isna().sum()"
   ]
  },
  {
   "cell_type": "code",
   "execution_count": 7,
   "id": "b946b8c6-17a0-46ff-9d71-36dd5fae0bd8",
   "metadata": {},
   "outputs": [
    {
     "data": {
      "text/plain": [
       "0"
      ]
     },
     "execution_count": 7,
     "metadata": {},
     "output_type": "execute_result"
    }
   ],
   "source": [
    "dataset.duplicated().sum()"
   ]
  },
  {
   "cell_type": "code",
   "execution_count": 8,
   "id": "fa2831b7-74c1-4482-9b89-94659b916c60",
   "metadata": {},
   "outputs": [
    {
     "data": {
      "text/html": [
       "<div>\n",
       "<style scoped>\n",
       "    .dataframe tbody tr th:only-of-type {\n",
       "        vertical-align: middle;\n",
       "    }\n",
       "\n",
       "    .dataframe tbody tr th {\n",
       "        vertical-align: top;\n",
       "    }\n",
       "\n",
       "    .dataframe thead th {\n",
       "        text-align: right;\n",
       "    }\n",
       "</style>\n",
       "<table border=\"1\" class=\"dataframe\">\n",
       "  <thead>\n",
       "    <tr style=\"text-align: right;\">\n",
       "      <th></th>\n",
       "      <th>Country_Name</th>\n",
       "      <th>Year</th>\n",
       "      <th>Population</th>\n",
       "      <th>Deaths_All_Types</th>\n",
       "      <th>Deaths_Suicides</th>\n",
       "      <th>HExp_Pctage_Y</th>\n",
       "      <th>MHExp_Pctage_2011</th>\n",
       "      <th>Dep_Num_2015</th>\n",
       "      <th>Suicide_p100</th>\n",
       "    </tr>\n",
       "  </thead>\n",
       "  <tbody>\n",
       "  </tbody>\n",
       "</table>\n",
       "</div>"
      ],
      "text/plain": [
       "Empty DataFrame\n",
       "Columns: [Country_Name, Year, Population, Deaths_All_Types, Deaths_Suicides, HExp_Pctage_Y, MHExp_Pctage_2011, Dep_Num_2015, Suicide_p100]\n",
       "Index: []"
      ]
     },
     "execution_count": 8,
     "metadata": {},
     "output_type": "execute_result"
    }
   ],
   "source": [
    "dataset.drop_duplicates(inplace=True)\n",
    "dataset[dataset.duplicated()]"
   ]
  },
  {
   "cell_type": "markdown",
   "id": "5ae88647-dafa-42c3-a4f9-af6297b21cfb",
   "metadata": {},
   "source": [
    "# Standarisasi"
   ]
  },
  {
   "cell_type": "code",
   "execution_count": 9,
   "id": "88843d9c-0cc5-4d77-8e35-cad8de5baec0",
   "metadata": {},
   "outputs": [
    {
     "name": "stderr",
     "output_type": "stream",
     "text": [
      "C:\\Users\\Last Man Standing\\AppData\\Local\\Programs\\Python\\Python310\\lib\\site-packages\\numpy\\core\\fromnumeric.py:3571: FutureWarning: Dropping of nuisance columns in DataFrame reductions (with 'numeric_only=None') is deprecated; in a future version this will raise TypeError.  Select only valid columns before calling the reduction.\n",
      "  return std(axis=axis, dtype=dtype, out=out, ddof=ddof, **kwargs)\n"
     ]
    },
    {
     "data": {
      "text/plain": [
       "-4.34889621698743e-17"
      ]
     },
     "execution_count": 9,
     "metadata": {},
     "output_type": "execute_result"
    }
   ],
   "source": [
    "from sklearn.preprocessing import StandardScaler\n",
    "np.std(dataset)\n",
    "ss = StandardScaler()\n",
    "x_scaled2 = ss.fit_transform(\n",
    "    dataset[['Population',\n",
    "                   'Deaths_All_Types',\n",
    "                   'Deaths_Suicides',\n",
    "                   'Suicide_p100']]\n",
    ")\n",
    "data_standarization = pd.DataFrame(x_scaled2)\n",
    "np.std(x_scaled2)\n",
    "np.mean(x_scaled2)"
   ]
  },
  {
   "cell_type": "code",
   "execution_count": 10,
   "id": "980e343d-39b6-4ac0-b27e-6bc515f4285f",
   "metadata": {},
   "outputs": [
    {
     "data": {
      "text/html": [
       "<div>\n",
       "<style scoped>\n",
       "    .dataframe tbody tr th:only-of-type {\n",
       "        vertical-align: middle;\n",
       "    }\n",
       "\n",
       "    .dataframe tbody tr th {\n",
       "        vertical-align: top;\n",
       "    }\n",
       "\n",
       "    .dataframe thead th {\n",
       "        text-align: right;\n",
       "    }\n",
       "</style>\n",
       "<table border=\"1\" class=\"dataframe\">\n",
       "  <thead>\n",
       "    <tr style=\"text-align: right;\">\n",
       "      <th></th>\n",
       "      <th>0</th>\n",
       "      <th>1</th>\n",
       "      <th>2</th>\n",
       "      <th>3</th>\n",
       "    </tr>\n",
       "  </thead>\n",
       "  <tbody>\n",
       "    <tr>\n",
       "      <th>0</th>\n",
       "      <td>-0.674277</td>\n",
       "      <td>-0.645794</td>\n",
       "      <td>-0.169136</td>\n",
       "      <td>-0.997542</td>\n",
       "    </tr>\n",
       "    <tr>\n",
       "      <th>1</th>\n",
       "      <td>-0.677684</td>\n",
       "      <td>-0.647066</td>\n",
       "      <td>-0.241760</td>\n",
       "      <td>-1.059515</td>\n",
       "    </tr>\n",
       "    <tr>\n",
       "      <th>2</th>\n",
       "      <td>-0.673826</td>\n",
       "      <td>-0.645076</td>\n",
       "      <td>-0.183102</td>\n",
       "      <td>-1.203512</td>\n",
       "    </tr>\n",
       "    <tr>\n",
       "      <th>3</th>\n",
       "      <td>-0.678944</td>\n",
       "      <td>-0.644571</td>\n",
       "      <td>-0.192413</td>\n",
       "      <td>-1.234498</td>\n",
       "    </tr>\n",
       "    <tr>\n",
       "      <th>4</th>\n",
       "      <td>-0.680221</td>\n",
       "      <td>-0.644434</td>\n",
       "      <td>-0.168205</td>\n",
       "      <td>-0.809800</td>\n",
       "    </tr>\n",
       "  </tbody>\n",
       "</table>\n",
       "</div>"
      ],
      "text/plain": [
       "          0         1         2         3\n",
       "0 -0.674277 -0.645794 -0.169136 -0.997542\n",
       "1 -0.677684 -0.647066 -0.241760 -1.059515\n",
       "2 -0.673826 -0.645076 -0.183102 -1.203512\n",
       "3 -0.678944 -0.644571 -0.192413 -1.234498\n",
       "4 -0.680221 -0.644434 -0.168205 -0.809800"
      ]
     },
     "execution_count": 10,
     "metadata": {},
     "output_type": "execute_result"
    }
   ],
   "source": [
    "data_standarization.head()"
   ]
  },
  {
   "cell_type": "markdown",
   "id": "300997d4-290a-42e1-98d5-737dfa033d1c",
   "metadata": {},
   "source": [
    "# Data Split"
   ]
  },
  {
   "cell_type": "code",
   "execution_count": 11,
   "id": "f5d527f7-4f0d-456e-9f15-9663689d97e2",
   "metadata": {},
   "outputs": [],
   "source": [
    "X = dataset.iloc[:, :-1]\n",
    "y = dataset.iloc[:, -1]"
   ]
  },
  {
   "cell_type": "code",
   "execution_count": 12,
   "id": "5b471c02-3a39-47ea-b109-5ca64a009db0",
   "metadata": {},
   "outputs": [],
   "source": [
    "X = dataset[['Population',\n",
    "             'Deaths_All_Types',\n",
    "             'Deaths_Suicides',\n",
    "             'Suicide_p100']]\n",
    "Y = dataset['Country_Name']"
   ]
  },
  {
   "cell_type": "code",
   "execution_count": 13,
   "id": "a8e42342-7c2f-45e8-84f6-86f863fb8665",
   "metadata": {},
   "outputs": [],
   "source": [
    "X_train, X_test, Y_train, Y_test = train_test_split(X, Y, random_state=0)"
   ]
  },
  {
   "cell_type": "markdown",
   "id": "da98cfcc-8bbd-4552-9411-18a57ac5081b",
   "metadata": {},
   "source": [
    "# KNN"
   ]
  },
  {
   "cell_type": "code",
   "execution_count": 14,
   "id": "8bba233c-1a57-479f-827d-b490dc13083e",
   "metadata": {},
   "outputs": [],
   "source": [
    "modelKNN = KNeighborsClassifier(n_neighbors = 5)"
   ]
  },
  {
   "cell_type": "code",
   "execution_count": 15,
   "id": "40a81bff-b12e-4eac-a572-95c581bd2918",
   "metadata": {},
   "outputs": [
    {
     "data": {
      "text/html": [
       "<style>#sk-container-id-1 {color: black;background-color: white;}#sk-container-id-1 pre{padding: 0;}#sk-container-id-1 div.sk-toggleable {background-color: white;}#sk-container-id-1 label.sk-toggleable__label {cursor: pointer;display: block;width: 100%;margin-bottom: 0;padding: 0.3em;box-sizing: border-box;text-align: center;}#sk-container-id-1 label.sk-toggleable__label-arrow:before {content: \"▸\";float: left;margin-right: 0.25em;color: #696969;}#sk-container-id-1 label.sk-toggleable__label-arrow:hover:before {color: black;}#sk-container-id-1 div.sk-estimator:hover label.sk-toggleable__label-arrow:before {color: black;}#sk-container-id-1 div.sk-toggleable__content {max-height: 0;max-width: 0;overflow: hidden;text-align: left;background-color: #f0f8ff;}#sk-container-id-1 div.sk-toggleable__content pre {margin: 0.2em;color: black;border-radius: 0.25em;background-color: #f0f8ff;}#sk-container-id-1 input.sk-toggleable__control:checked~div.sk-toggleable__content {max-height: 200px;max-width: 100%;overflow: auto;}#sk-container-id-1 input.sk-toggleable__control:checked~label.sk-toggleable__label-arrow:before {content: \"▾\";}#sk-container-id-1 div.sk-estimator input.sk-toggleable__control:checked~label.sk-toggleable__label {background-color: #d4ebff;}#sk-container-id-1 div.sk-label input.sk-toggleable__control:checked~label.sk-toggleable__label {background-color: #d4ebff;}#sk-container-id-1 input.sk-hidden--visually {border: 0;clip: rect(1px 1px 1px 1px);clip: rect(1px, 1px, 1px, 1px);height: 1px;margin: -1px;overflow: hidden;padding: 0;position: absolute;width: 1px;}#sk-container-id-1 div.sk-estimator {font-family: monospace;background-color: #f0f8ff;border: 1px dotted black;border-radius: 0.25em;box-sizing: border-box;margin-bottom: 0.5em;}#sk-container-id-1 div.sk-estimator:hover {background-color: #d4ebff;}#sk-container-id-1 div.sk-parallel-item::after {content: \"\";width: 100%;border-bottom: 1px solid gray;flex-grow: 1;}#sk-container-id-1 div.sk-label:hover label.sk-toggleable__label {background-color: #d4ebff;}#sk-container-id-1 div.sk-serial::before {content: \"\";position: absolute;border-left: 1px solid gray;box-sizing: border-box;top: 0;bottom: 0;left: 50%;z-index: 0;}#sk-container-id-1 div.sk-serial {display: flex;flex-direction: column;align-items: center;background-color: white;padding-right: 0.2em;padding-left: 0.2em;position: relative;}#sk-container-id-1 div.sk-item {position: relative;z-index: 1;}#sk-container-id-1 div.sk-parallel {display: flex;align-items: stretch;justify-content: center;background-color: white;position: relative;}#sk-container-id-1 div.sk-item::before, #sk-container-id-1 div.sk-parallel-item::before {content: \"\";position: absolute;border-left: 1px solid gray;box-sizing: border-box;top: 0;bottom: 0;left: 50%;z-index: -1;}#sk-container-id-1 div.sk-parallel-item {display: flex;flex-direction: column;z-index: 1;position: relative;background-color: white;}#sk-container-id-1 div.sk-parallel-item:first-child::after {align-self: flex-end;width: 50%;}#sk-container-id-1 div.sk-parallel-item:last-child::after {align-self: flex-start;width: 50%;}#sk-container-id-1 div.sk-parallel-item:only-child::after {width: 0;}#sk-container-id-1 div.sk-dashed-wrapped {border: 1px dashed gray;margin: 0 0.4em 0.5em 0.4em;box-sizing: border-box;padding-bottom: 0.4em;background-color: white;}#sk-container-id-1 div.sk-label label {font-family: monospace;font-weight: bold;display: inline-block;line-height: 1.2em;}#sk-container-id-1 div.sk-label-container {text-align: center;}#sk-container-id-1 div.sk-container {/* jupyter's `normalize.less` sets `[hidden] { display: none; }` but bootstrap.min.css set `[hidden] { display: none !important; }` so we also need the `!important` here to be able to override the default hidden behavior on the sphinx rendered scikit-learn.org. See: https://github.com/scikit-learn/scikit-learn/issues/21755 */display: inline-block !important;position: relative;}#sk-container-id-1 div.sk-text-repr-fallback {display: none;}</style><div id=\"sk-container-id-1\" class=\"sk-top-container\"><div class=\"sk-text-repr-fallback\"><pre>KNeighborsClassifier()</pre><b>In a Jupyter environment, please rerun this cell to show the HTML representation or trust the notebook. <br />On GitHub, the HTML representation is unable to render, please try loading this page with nbviewer.org.</b></div><div class=\"sk-container\" hidden><div class=\"sk-item\"><div class=\"sk-estimator sk-toggleable\"><input class=\"sk-toggleable__control sk-hidden--visually\" id=\"sk-estimator-id-1\" type=\"checkbox\" checked><label for=\"sk-estimator-id-1\" class=\"sk-toggleable__label sk-toggleable__label-arrow\">KNeighborsClassifier</label><div class=\"sk-toggleable__content\"><pre>KNeighborsClassifier()</pre></div></div></div></div></div>"
      ],
      "text/plain": [
       "KNeighborsClassifier()"
      ]
     },
     "execution_count": 15,
     "metadata": {},
     "output_type": "execute_result"
    }
   ],
   "source": [
    "modelKNN.fit(X_train, Y_train)"
   ]
  },
  {
   "cell_type": "code",
   "execution_count": 16,
   "id": "8063ca06-e8bb-46fb-b0c0-f5b27a6aae8d",
   "metadata": {},
   "outputs": [
    {
     "data": {
      "text/plain": [
       "0.7744360902255639"
      ]
     },
     "execution_count": 16,
     "metadata": {},
     "output_type": "execute_result"
    }
   ],
   "source": [
    "modelKNN.score(X_test, Y_test)"
   ]
  },
  {
   "cell_type": "code",
   "execution_count": 17,
   "id": "e7fed00a-7e2f-4010-bef6-15c85dea971d",
   "metadata": {},
   "outputs": [
    {
     "data": {
      "text/plain": [
       "0.8618090452261307"
      ]
     },
     "execution_count": 17,
     "metadata": {},
     "output_type": "execute_result"
    }
   ],
   "source": [
    "modelKNN.score(X_train, Y_train)"
   ]
  },
  {
   "cell_type": "markdown",
   "id": "630def3b-5d73-4129-87f3-10dc76a27645",
   "metadata": {},
   "source": [
    "# Decision Tree\n"
   ]
  },
  {
   "cell_type": "code",
   "execution_count": 18,
   "id": "1ce43cab-a42f-4f8e-b46a-6765091df215",
   "metadata": {},
   "outputs": [
    {
     "name": "stdout",
     "output_type": "stream",
     "text": [
      "(133, 4)\n",
      "(398, 4)\n"
     ]
    }
   ],
   "source": [
    "print(X_test.shape)\n",
    "print(X_train.shape)"
   ]
  },
  {
   "cell_type": "code",
   "execution_count": 19,
   "id": "cbfc6887-8660-4078-9144-44d7a624285f",
   "metadata": {},
   "outputs": [],
   "source": [
    "modelDTree = DecisionTreeClassifier().fit(X_train,Y_train)"
   ]
  },
  {
   "cell_type": "code",
   "execution_count": 21,
   "id": "e03ef67b-f59a-4e6a-869c-93ff6f671fc0",
   "metadata": {},
   "outputs": [
    {
     "name": "stdout",
     "output_type": "stream",
     "text": [
      "[[3 0 0 ... 0 0 0]\n",
      " [0 5 0 ... 0 0 0]\n",
      " [0 0 3 ... 0 0 0]\n",
      " ...\n",
      " [0 0 0 ... 3 0 0]\n",
      " [0 0 0 ... 0 0 0]\n",
      " [0 0 0 ... 0 0 3]]\n"
     ]
    }
   ],
   "source": [
    "import sklearn\n",
    "prediction = modelDTree.predict(X_test)\n",
    "print(sklearn.metrics.confusion_matrix(Y_test, prediction))"
   ]
  },
  {
   "cell_type": "code",
   "execution_count": 22,
   "id": "ad785d53-07f2-4ca3-9008-2f4667e13704",
   "metadata": {},
   "outputs": [
    {
     "name": "stdout",
     "output_type": "stream",
     "text": [
      "94.73684210526315 %\n"
     ]
    }
   ],
   "source": [
    "print(sklearn.metrics.accuracy_score(Y_test, prediction)*100, '%')"
   ]
  },
  {
   "cell_type": "markdown",
   "id": "ddda67ed-6c24-4400-8aec-a826520520cd",
   "metadata": {},
   "source": [
    "# Naive Bayes"
   ]
  },
  {
   "cell_type": "code",
   "execution_count": 23,
   "id": "eeddd9f1-3560-49a2-8c0b-67e6481ed091",
   "metadata": {},
   "outputs": [
    {
     "data": {
      "text/html": [
       "<style>#sk-container-id-2 {color: black;background-color: white;}#sk-container-id-2 pre{padding: 0;}#sk-container-id-2 div.sk-toggleable {background-color: white;}#sk-container-id-2 label.sk-toggleable__label {cursor: pointer;display: block;width: 100%;margin-bottom: 0;padding: 0.3em;box-sizing: border-box;text-align: center;}#sk-container-id-2 label.sk-toggleable__label-arrow:before {content: \"▸\";float: left;margin-right: 0.25em;color: #696969;}#sk-container-id-2 label.sk-toggleable__label-arrow:hover:before {color: black;}#sk-container-id-2 div.sk-estimator:hover label.sk-toggleable__label-arrow:before {color: black;}#sk-container-id-2 div.sk-toggleable__content {max-height: 0;max-width: 0;overflow: hidden;text-align: left;background-color: #f0f8ff;}#sk-container-id-2 div.sk-toggleable__content pre {margin: 0.2em;color: black;border-radius: 0.25em;background-color: #f0f8ff;}#sk-container-id-2 input.sk-toggleable__control:checked~div.sk-toggleable__content {max-height: 200px;max-width: 100%;overflow: auto;}#sk-container-id-2 input.sk-toggleable__control:checked~label.sk-toggleable__label-arrow:before {content: \"▾\";}#sk-container-id-2 div.sk-estimator input.sk-toggleable__control:checked~label.sk-toggleable__label {background-color: #d4ebff;}#sk-container-id-2 div.sk-label input.sk-toggleable__control:checked~label.sk-toggleable__label {background-color: #d4ebff;}#sk-container-id-2 input.sk-hidden--visually {border: 0;clip: rect(1px 1px 1px 1px);clip: rect(1px, 1px, 1px, 1px);height: 1px;margin: -1px;overflow: hidden;padding: 0;position: absolute;width: 1px;}#sk-container-id-2 div.sk-estimator {font-family: monospace;background-color: #f0f8ff;border: 1px dotted black;border-radius: 0.25em;box-sizing: border-box;margin-bottom: 0.5em;}#sk-container-id-2 div.sk-estimator:hover {background-color: #d4ebff;}#sk-container-id-2 div.sk-parallel-item::after {content: \"\";width: 100%;border-bottom: 1px solid gray;flex-grow: 1;}#sk-container-id-2 div.sk-label:hover label.sk-toggleable__label {background-color: #d4ebff;}#sk-container-id-2 div.sk-serial::before {content: \"\";position: absolute;border-left: 1px solid gray;box-sizing: border-box;top: 0;bottom: 0;left: 50%;z-index: 0;}#sk-container-id-2 div.sk-serial {display: flex;flex-direction: column;align-items: center;background-color: white;padding-right: 0.2em;padding-left: 0.2em;position: relative;}#sk-container-id-2 div.sk-item {position: relative;z-index: 1;}#sk-container-id-2 div.sk-parallel {display: flex;align-items: stretch;justify-content: center;background-color: white;position: relative;}#sk-container-id-2 div.sk-item::before, #sk-container-id-2 div.sk-parallel-item::before {content: \"\";position: absolute;border-left: 1px solid gray;box-sizing: border-box;top: 0;bottom: 0;left: 50%;z-index: -1;}#sk-container-id-2 div.sk-parallel-item {display: flex;flex-direction: column;z-index: 1;position: relative;background-color: white;}#sk-container-id-2 div.sk-parallel-item:first-child::after {align-self: flex-end;width: 50%;}#sk-container-id-2 div.sk-parallel-item:last-child::after {align-self: flex-start;width: 50%;}#sk-container-id-2 div.sk-parallel-item:only-child::after {width: 0;}#sk-container-id-2 div.sk-dashed-wrapped {border: 1px dashed gray;margin: 0 0.4em 0.5em 0.4em;box-sizing: border-box;padding-bottom: 0.4em;background-color: white;}#sk-container-id-2 div.sk-label label {font-family: monospace;font-weight: bold;display: inline-block;line-height: 1.2em;}#sk-container-id-2 div.sk-label-container {text-align: center;}#sk-container-id-2 div.sk-container {/* jupyter's `normalize.less` sets `[hidden] { display: none; }` but bootstrap.min.css set `[hidden] { display: none !important; }` so we also need the `!important` here to be able to override the default hidden behavior on the sphinx rendered scikit-learn.org. See: https://github.com/scikit-learn/scikit-learn/issues/21755 */display: inline-block !important;position: relative;}#sk-container-id-2 div.sk-text-repr-fallback {display: none;}</style><div id=\"sk-container-id-2\" class=\"sk-top-container\"><div class=\"sk-text-repr-fallback\"><pre>GaussianNB()</pre><b>In a Jupyter environment, please rerun this cell to show the HTML representation or trust the notebook. <br />On GitHub, the HTML representation is unable to render, please try loading this page with nbviewer.org.</b></div><div class=\"sk-container\" hidden><div class=\"sk-item\"><div class=\"sk-estimator sk-toggleable\"><input class=\"sk-toggleable__control sk-hidden--visually\" id=\"sk-estimator-id-2\" type=\"checkbox\" checked><label for=\"sk-estimator-id-2\" class=\"sk-toggleable__label sk-toggleable__label-arrow\">GaussianNB</label><div class=\"sk-toggleable__content\"><pre>GaussianNB()</pre></div></div></div></div></div>"
      ],
      "text/plain": [
       "GaussianNB()"
      ]
     },
     "execution_count": 23,
     "metadata": {},
     "output_type": "execute_result"
    }
   ],
   "source": [
    "modelGNB = GaussianNB()\n",
    "modelGNB.fit(X_train,Y_train)"
   ]
  },
  {
   "cell_type": "code",
   "execution_count": 24,
   "id": "5f167b28-9750-4000-b0f6-38428448f067",
   "metadata": {},
   "outputs": [
    {
     "data": {
      "text/plain": [
       "0.9974874371859297"
      ]
     },
     "execution_count": 24,
     "metadata": {},
     "output_type": "execute_result"
    }
   ],
   "source": [
    "modelGNB.score(X_train,Y_train)"
   ]
  },
  {
   "cell_type": "code",
   "execution_count": 25,
   "id": "b91ca597-7935-49c6-95b8-c7e394dcbf44",
   "metadata": {},
   "outputs": [
    {
     "name": "stdout",
     "output_type": "stream",
     "text": [
      "[[3 0 0 ... 0 0 0]\n",
      " [0 5 0 ... 0 0 0]\n",
      " [0 0 3 ... 0 0 0]\n",
      " ...\n",
      " [0 0 0 ... 3 0 0]\n",
      " [0 0 0 ... 0 0 0]\n",
      " [0 1 0 ... 0 0 2]]\n"
     ]
    }
   ],
   "source": [
    "predictionGNB = modelGNB.predict(X_test)\n",
    "print(sklearn.metrics.confusion_matrix(Y_test, predictionGNB))"
   ]
  },
  {
   "cell_type": "code",
   "execution_count": 26,
   "id": "84d0ec6e-dfb0-40a1-9df6-debb9974b6f4",
   "metadata": {},
   "outputs": [
    {
     "name": "stdout",
     "output_type": "stream",
     "text": [
      "96.2406015037594 %\n"
     ]
    }
   ],
   "source": [
    "print(sklearn.metrics.accuracy_score(Y_test, predictionGNB)*100, '%')"
   ]
  },
  {
   "cell_type": "code",
   "execution_count": 27,
   "id": "f1ea29eb-f868-4c70-b95a-cab2a80daa5a",
   "metadata": {},
   "outputs": [
    {
     "name": "stdout",
     "output_type": "stream",
     "text": [
      "                     precision    recall  f1-score   support\n",
      "\n",
      "            Armenia       1.00      1.00      1.00         3\n",
      "          Australia       0.83      1.00      0.91         5\n",
      "           Bulgaria       1.00      1.00      1.00         3\n",
      "             Canada       1.00      1.00      1.00         1\n",
      "             Cyprus       1.00      1.00      1.00         3\n",
      "              Egypt       1.00      0.50      0.67         4\n",
      "            Estonia       1.00      1.00      1.00         7\n",
      "            Finland       1.00      1.00      1.00         4\n",
      "             France       1.00      1.00      1.00         6\n",
      "            Georgia       1.00      1.00      1.00         4\n",
      "            Germany       1.00      1.00      1.00         3\n",
      "            Hungary       1.00      1.00      1.00         4\n",
      "            Iceland       1.00      1.00      1.00         4\n",
      "              Italy       1.00      1.00      1.00         7\n",
      "              Japan       1.00      1.00      1.00         4\n",
      "         Kyrgyzstan       1.00      1.00      1.00         9\n",
      "             Latvia       1.00      1.00      1.00         5\n",
      "           Malaysia       1.00      1.00      1.00         4\n",
      "              Malta       1.00      1.00      1.00         3\n",
      "        Netherlands       1.00      1.00      1.00         3\n",
      "        New Zealand       1.00      1.00      1.00         6\n",
      "             Poland       1.00      1.00      1.00         6\n",
      "           Portugal       0.67      1.00      0.80         2\n",
      "Republic of Moldova       1.00      1.00      1.00         7\n",
      "          Singapore       0.50      1.00      0.67         1\n",
      "           Slovenia       1.00      1.00      1.00         5\n",
      "    Solomon Islands       0.00      0.00      0.00         1\n",
      "              Spain       1.00      1.00      1.00         7\n",
      "             Sweden       1.00      1.00      1.00         5\n",
      "           Thailand       0.60      1.00      0.75         3\n",
      "            Tunisia       0.00      0.00      0.00         1\n",
      "         Uzbekistan       1.00      0.67      0.80         3\n",
      "\n",
      "           accuracy                           0.96       133\n",
      "          macro avg       0.89      0.91      0.89       133\n",
      "       weighted avg       0.96      0.96      0.96       133\n",
      "\n"
     ]
    },
    {
     "name": "stderr",
     "output_type": "stream",
     "text": [
      "C:\\Users\\Last Man Standing\\AppData\\Local\\Programs\\Python\\Python310\\lib\\site-packages\\sklearn\\metrics\\_classification.py:1334: UndefinedMetricWarning: Precision and F-score are ill-defined and being set to 0.0 in labels with no predicted samples. Use `zero_division` parameter to control this behavior.\n",
      "  _warn_prf(average, modifier, msg_start, len(result))\n",
      "C:\\Users\\Last Man Standing\\AppData\\Local\\Programs\\Python\\Python310\\lib\\site-packages\\sklearn\\metrics\\_classification.py:1334: UndefinedMetricWarning: Precision and F-score are ill-defined and being set to 0.0 in labels with no predicted samples. Use `zero_division` parameter to control this behavior.\n",
      "  _warn_prf(average, modifier, msg_start, len(result))\n",
      "C:\\Users\\Last Man Standing\\AppData\\Local\\Programs\\Python\\Python310\\lib\\site-packages\\sklearn\\metrics\\_classification.py:1334: UndefinedMetricWarning: Precision and F-score are ill-defined and being set to 0.0 in labels with no predicted samples. Use `zero_division` parameter to control this behavior.\n",
      "  _warn_prf(average, modifier, msg_start, len(result))\n"
     ]
    }
   ],
   "source": [
    "print(sklearn.metrics.classification_report(Y_test, predictionGNB))"
   ]
  },
  {
   "cell_type": "code",
   "execution_count": 28,
   "id": "ff346453-be88-4186-a982-4dd1911ab890",
   "metadata": {},
   "outputs": [
    {
     "data": {
      "text/plain": [
       "array(['Armenia', 'Australia', 'Azerbaijan', 'Brazil', 'Bulgaria',\n",
       "       'Canada', 'Costa Rica', 'Cyprus', 'Egypt', 'Estonia', 'Fiji',\n",
       "       'Finland', 'France', 'Georgia', 'Germany', 'Greece', 'Hungary',\n",
       "       'Iceland', 'Iran (Islamic Republic of)', 'Italy', 'Japan',\n",
       "       'Kyrgyzstan', 'Latvia', 'Lebanon', 'Malaysia', 'Malta', 'Mongolia',\n",
       "       'Netherlands', 'New Zealand', 'Poland', 'Portugal',\n",
       "       'Republic of Moldova', 'Singapore', 'Slovenia', 'Solomon Islands',\n",
       "       'Spain', 'Sweden', 'Syrian Arab Republic', 'Tajikistan',\n",
       "       'Thailand', 'Tunisia', 'Uzbekistan'], dtype=object)"
      ]
     },
     "execution_count": 28,
     "metadata": {},
     "output_type": "execute_result"
    }
   ],
   "source": [
    "Y.unique()"
   ]
  },
  {
   "cell_type": "markdown",
   "id": "8c766719-8f5a-427c-84dd-faabdc490d89",
   "metadata": {},
   "source": [
    "# Regression"
   ]
  },
  {
   "cell_type": "code",
   "execution_count": 33,
   "id": "113a5a15-3710-4bcd-a408-520c96d79fb1",
   "metadata": {},
   "outputs": [],
   "source": [
    "from sklearn.linear_model import LinearRegression\n",
    "x = dataset[[\"Population\"]] \n",
    "y = dataset[[\"Deaths_All_Types\"]]\n",
    "modelLinReg = LinearRegression().fit(x_train, y_train)\n",
    "x_train, x_test, y_train, y_test = train_test_split(x,y, random_state=0)\n",
    "y_pred = modelLinReg.predict(x_test)\n"
   ]
  },
  {
   "cell_type": "code",
   "execution_count": 34,
   "id": "d6c797a3-91ad-4331-bea1-a4458c2862ca",
   "metadata": {},
   "outputs": [
    {
     "name": "stdout",
     "output_type": "stream",
     "text": [
      "MSE :  21919004989.39718\n",
      "RMSE :  148050.68385318987\n",
      "MAE :  84946.21001395413\n",
      "R2 :  0.9296728418666411\n"
     ]
    }
   ],
   "source": [
    "from sklearn.metrics import mean_squared_error,r2_score,mean_absolute_error\n",
    "import numpy as np\n",
    "mse = mean_squared_error(y_test,y_pred)\n",
    "rmse = mean_squared_error(y_test, y_pred, squared=False)\n",
    "mae = mean_absolute_error(y_test,y_pred)\n",
    "r2 = r2_score(y_test,y_pred)\n",
    "print(\"MSE : \",mse)\n",
    "print(\"RMSE : \",rmse)\n",
    "print(\"MAE : \",mae)\n",
    "print(\"R2 : \",r2)"
   ]
  },
  {
   "cell_type": "markdown",
   "id": "6192b70b-ab73-4637-8561-35fa86742cd6",
   "metadata": {},
   "source": [
    "# Visualisasi"
   ]
  },
  {
   "cell_type": "code",
   "execution_count": 35,
   "id": "2573e856-54ed-4f21-a532-b7e087ba52a8",
   "metadata": {},
   "outputs": [
    {
     "data": {
      "image/png": "[encoded data removed]",
      "text/plain": [
       "<Figure size 640x480 with 1 Axes>"
      ]
     },
     "metadata": {},
     "output_type": "display_data"
    }
   ],
   "source": [
    "plt.scatter(x_test, y_test, color=\"maroon\", label=\"Nilai Aktual\")\n",
    "plt.plot(x_test, y_pred, color=\"blue\", label=\"Nilai Prediksi\")\n",
    "plt.xlabel(\"Population\")\n",
    "plt.ylabel(\"Deaths_All_Types\")\n",
    "plt.legend()\n",
    "plt.show()"
   ]
  },
  {
   "cell_type": "markdown",
   "id": "6a9278a3-a597-4238-96ab-1e7bbabdd4d8",
   "metadata": {},
   "source": [
    "# Score Akurasi Naive Bayes : Score KNN : Score Decision Tree"
   ]
  },
  {
   "cell_type": "code",
   "execution_count": 39,
   "id": "27794b0c-7189-41ce-a527-1ba583919e42",
   "metadata": {},
   "outputs": [
    {
     "name": "stdout",
     "output_type": "stream",
     "text": [
      "Naive Bayes          :  96.2406015037594 %\n",
      "KNN X_test & Y_test  :  0.7744360902255639\n",
      "KNN X_train & Y_train:  0.8618090452261307\n",
      "Decision Tree        :  94.73684210526315 %\n"
     ]
    }
   ],
   "source": [
    "print(\"Naive Bayes          : \",sklearn.metrics.accuracy_score(Y_test, predictionGNB)*100, '%')\n",
    "print(\"KNN X_test & Y_test  : \",modelKNN.score(X_test, Y_test))\n",
    "print(\"KNN X_train & Y_train: \",modelKNN.score(X_train, Y_train))\n",
    "print(\"Decision Tree        : \",sklearn.metrics.accuracy_score(Y_test, prediction)*100, '%')"
   ]
  },
  {
   "cell_type": "code",
   "execution_count": null,
   "id": "5e4a96cf-198f-43b6-95a8-e47b8ceb6340",
   "metadata": {},
   "outputs": [],
   "source": []
  }
 ],
 "metadata": {
  "kernelspec": {
   "display_name": "Python 3 (ipykernel)",
   "language": "python",
   "name": "python3"
  },
  "language_info": {
   "codemirror_mode": {
    "name": "ipython",
    "version": 3
   },
   "file_extension": ".py",
   "mimetype": "text/x-python",
   "name": "python",
   "nbconvert_exporter": "python",
   "pygments_lexer": "ipython3",
   "version": "3.10.4"
  }
 },
 "nbformat": 4,
 "nbformat_minor": 5
}
