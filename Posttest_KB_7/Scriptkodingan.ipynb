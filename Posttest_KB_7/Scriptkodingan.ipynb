{
 "cells": [
  {
   "cell_type": "markdown",
   "id": "89606e23-96f2-4605-8421-e1a20a3b6be5",
   "metadata": {},
   "source": [
    "## Nama : Muhammad Nanda Arjuna Fadhillah\n",
    "## NIM  : 2109106028\n",
    "## Informatika A1 2021\n",
    "## POSTTEST 7 TensorFlow"
   ]
  },
  {
   "cell_type": "markdown",
   "id": "c862016e-c47c-43db-b81c-d07287752355",
   "metadata": {},
   "source": [
    "# Import Library"
   ]
  },
  {
   "cell_type": "code",
   "execution_count": 1,
   "id": "abf68d35-516f-4da1-b23a-3007c06d7533",
   "metadata": {},
   "outputs": [],
   "source": [
    "import tensorflow as tf\n",
    "import numpy as np"
   ]
  },
  {
   "cell_type": "markdown",
   "id": "76f113ed-2856-4228-a3ef-73bf26895080",
   "metadata": {},
   "source": [
    "# 1. Membuat TensorFlow dengan shape (5,5) dan nilai random dalam variabel random_tensor"
   ]
  },
  {
   "cell_type": "code",
   "execution_count": 2,
   "id": "923c6216-87ea-483a-9c84-21d2bd1274a6",
   "metadata": {},
   "outputs": [
    {
     "data": {
      "text/plain": [
       "array([[-0.8113182 ,  1.4845988 ,  0.06532937, -2.4427042 ,  0.0992484 ],\n",
       "       [ 0.5912243 ,  0.59282297, -2.1229296 , -0.72289723, -0.05627038],\n",
       "       [ 0.6435448 , -0.26432407,  1.8566332 ,  0.5678417 , -0.3828359 ],\n",
       "       [-1.4853433 ,  1.2617711 , -0.02530608, -0.2646297 ,  1.5328138 ],\n",
       "       [-1.7429771 , -0.43789294, -0.56601   ,  0.32066926,  1.132831  ]],\n",
       "      dtype=float32)"
      ]
     },
     "execution_count": 2,
     "metadata": {},
     "output_type": "execute_result"
    }
   ],
   "source": [
    "random_tensor = tf.random.normal([5,5], mean=0., stddev=1., seed=1)\n",
    "random_tensor.numpy()"
   ]
  },
  {
   "cell_type": "code",
   "execution_count": 3,
   "id": "6bc0567b-10cb-46d7-86c5-7dbb8d13dbc4",
   "metadata": {},
   "outputs": [
    {
     "data": {
      "text/plain": [
       "array([[ 1,  2,  3,  4,  5],\n",
       "       [ 6,  7,  8,  9, 10],\n",
       "       [11, 12, 13, 14, 15],\n",
       "       [16, 17, 18, 19, 20],\n",
       "       [21, 22, 23, 24, 25]])"
      ]
     },
     "execution_count": 3,
     "metadata": {},
     "output_type": "execute_result"
    }
   ],
   "source": [
    "list_utt = [[1,2,3,4,5],[6,7,8,9,10],[11,12,13,14,15],[16,17,18,19,20],[21,22,23,24,25]]\n",
    "\n",
    "utt = tf.convert_to_tensor(list_utt)\n",
    "utt.numpy()"
   ]
  },
  {
   "cell_type": "code",
   "execution_count": 4,
   "id": "407bfd68-cff2-454c-93f3-ccfc2a959041",
   "metadata": {},
   "outputs": [
    {
     "data": {
      "text/plain": [
       "array([[[-2.0965335e-01, -1.3993976e+00, -5.4795647e-01,  8.7259400e-01,\n",
       "          3.3248085e-01],\n",
       "        [-4.7624734e-01,  7.5609368e-01, -9.4994910e-02,  6.5820724e-01,\n",
       "          2.5793374e-01],\n",
       "        [ 2.0038645e+00, -6.9562840e-01, -6.6910112e-01, -9.4291139e-01,\n",
       "         -2.6963162e-03],\n",
       "        [-2.4351557e-01, -3.2541880e-01, -3.6375967e-01,  5.8542204e-01,\n",
       "          1.1280807e+00],\n",
       "        [-6.8968707e-01,  3.9414167e-01,  8.7205845e-01,  1.1976978e-01,\n",
       "         -5.5206841e-01]],\n",
       "\n",
       "       [[-2.5949800e-01,  1.0613734e+00,  1.0012702e+00, -6.1345887e-01,\n",
       "          3.3055153e-01],\n",
       "        [ 8.9762455e-01, -6.2647337e-01,  8.9826739e-01, -1.1285205e-01,\n",
       "          1.0374856e+00],\n",
       "        [-2.9208648e-01, -3.6934403e-01,  9.0961762e-02, -5.5928111e-01,\n",
       "         -6.3088304e-01],\n",
       "        [-1.0631151e-01, -1.9132267e-01, -3.6074585e-01,  2.0197911e+00,\n",
       "          1.2849726e-01],\n",
       "        [ 1.0442848e-01,  2.2906350e-01,  8.6999351e-01, -5.1898938e-01,\n",
       "         -1.6735966e+00]],\n",
       "\n",
       "       [[-8.2021570e-01,  2.2746041e-01,  1.6679125e-01,  2.2971537e+00,\n",
       "          5.4626739e-01],\n",
       "        [-2.1360257e+00,  3.5455003e-01, -9.5423883e-01, -1.7773317e+00,\n",
       "         -2.7482921e-01],\n",
       "        [-1.0967480e+00, -5.2184099e-01, -8.0344456e-01,  1.2661488e+00,\n",
       "          1.3929065e-01],\n",
       "        [-3.9554086e-01, -6.6164058e-01, -1.0369576e+00,  1.6152661e-01,\n",
       "         -1.2304500e-02],\n",
       "        [-1.8575132e+00, -4.8866779e-01,  8.0823451e-01, -5.6032605e-02,\n",
       "          1.2941664e+00]],\n",
       "\n",
       "       [[-2.6067389e-02, -2.9587495e+00,  1.8567321e+00, -2.6013762e-01,\n",
       "         -1.0975119e+00],\n",
       "        [ 3.3660680e-01, -2.5812230e-01,  2.0638573e-01, -3.1611240e-01,\n",
       "          1.6489209e+00],\n",
       "        [-2.3320553e+00, -5.7130176e-01,  1.4751619e-01,  1.5430132e-01,\n",
       "         -2.5555378e-01],\n",
       "        [ 7.2767150e-01,  2.1736460e+00, -1.3094948e-01, -1.1212093e+00,\n",
       "          8.8296080e-01],\n",
       "        [ 3.7677416e-01,  1.1286513e+00, -2.3703957e+00, -3.6656690e-01,\n",
       "         -2.2692142e+00]],\n",
       "\n",
       "       [[-8.1530100e-01, -5.8460093e-01, -8.2506672e-02,  1.5100831e+00,\n",
       "          4.9879742e-01],\n",
       "        [-1.7265766e+00, -1.5421166e-01,  2.4284555e-02, -9.0152436e-01,\n",
       "          1.0874087e+00],\n",
       "        [ 1.6070207e+00, -6.3930684e-01,  4.4195443e-02,  2.8564349e-01,\n",
       "          1.0821941e+00],\n",
       "        [ 3.0072826e-01, -4.6502456e-01,  1.8941201e-01, -1.4698873e+00,\n",
       "          3.3433259e-01],\n",
       "        [ 8.1145805e-01,  1.6715422e+00, -5.1394069e-01, -4.7828069e-01,\n",
       "          7.0636161e-02]]], dtype=float32)"
      ]
     },
     "execution_count": 4,
     "metadata": {},
     "output_type": "execute_result"
    }
   ],
   "source": [
    "slicing = tf.random.normal([5,5,5])\n",
    "slicing.numpy()"
   ]
  },
  {
   "cell_type": "code",
   "execution_count": 5,
   "id": "51223fd4-803c-4bb3-96a8-595690be8b5d",
   "metadata": {},
   "outputs": [
    {
     "data": {
      "text/plain": [
       "array([[[-0.8202157 ,  0.22746041,  0.16679125,  2.2971537 ,\n",
       "          0.5462674 ],\n",
       "        [-2.1360257 ,  0.35455003, -0.95423883, -1.7773317 ,\n",
       "         -0.2748292 ],\n",
       "        [-1.096748  , -0.521841  , -0.80344456,  1.2661488 ,\n",
       "          0.13929065],\n",
       "        [-0.39554086, -0.6616406 , -1.0369576 ,  0.1615266 ,\n",
       "         -0.0123045 ],\n",
       "        [-1.8575132 , -0.4886678 ,  0.8082345 , -0.05603261,\n",
       "          1.2941664 ]],\n",
       "\n",
       "       [[-0.8202157 ,  0.22746041,  0.16679125,  2.2971537 ,\n",
       "          0.5462674 ],\n",
       "        [-2.1360257 ,  0.35455003, -0.95423883, -1.7773317 ,\n",
       "         -0.2748292 ],\n",
       "        [-1.096748  , -0.521841  , -0.80344456,  1.2661488 ,\n",
       "          0.13929065],\n",
       "        [-0.39554086, -0.6616406 , -1.0369576 ,  0.1615266 ,\n",
       "         -0.0123045 ],\n",
       "        [-1.8575132 , -0.4886678 ,  0.8082345 , -0.05603261,\n",
       "          1.2941664 ]],\n",
       "\n",
       "       [[-0.8202157 ,  0.22746041,  0.16679125,  2.2971537 ,\n",
       "          0.5462674 ],\n",
       "        [-2.1360257 ,  0.35455003, -0.95423883, -1.7773317 ,\n",
       "         -0.2748292 ],\n",
       "        [-1.096748  , -0.521841  , -0.80344456,  1.2661488 ,\n",
       "          0.13929065],\n",
       "        [-0.39554086, -0.6616406 , -1.0369576 ,  0.1615266 ,\n",
       "         -0.0123045 ],\n",
       "        [-1.8575132 , -0.4886678 ,  0.8082345 , -0.05603261,\n",
       "          1.2941664 ]]], dtype=float32)"
      ]
     },
     "execution_count": 5,
     "metadata": {},
     "output_type": "execute_result"
    }
   ],
   "source": [
    "slicing[2,2,2]\n",
    "slicing[2]\n",
    "tf.gather(slicing, indices=[2,2,2]).numpy()"
   ]
  },
  {
   "cell_type": "code",
   "execution_count": 6,
   "id": "2c092a04-9944-4996-8996-ddfb3c2abf4c",
   "metadata": {},
   "outputs": [
    {
     "data": {
      "text/plain": [
       "array([[ 2.0038645 , -0.6956284 , -0.6691011 , -0.9429114 , -0.00269632],\n",
       "       [-0.29208648, -0.36934403,  0.09096176, -0.5592811 , -0.63088304],\n",
       "       [-1.096748  , -0.521841  , -0.80344456,  1.2661488 ,  0.13929065],\n",
       "       [-2.3320553 , -0.57130176,  0.14751619,  0.15430132, -0.25555378],\n",
       "       [ 1.6070207 , -0.63930684,  0.04419544,  0.2856435 ,  1.0821941 ]],\n",
       "      dtype=float32)"
      ]
     },
     "execution_count": 6,
     "metadata": {},
     "output_type": "execute_result"
    }
   ],
   "source": [
    "tf.gather_nd(slicing, indices=[[0,2],[1,2],[2,2],[3,2],[4,2]]).numpy()"
   ]
  },
  {
   "cell_type": "code",
   "execution_count": 7,
   "id": "2649f32f-91ce-470d-a44d-773d738e2fb3",
   "metadata": {},
   "outputs": [
    {
     "data": {
      "text/plain": [
       "array([-0.6691011 ,  0.09096176, -0.80344456,  0.14751619,  0.04419544],\n",
       "      dtype=float32)"
      ]
     },
     "execution_count": 7,
     "metadata": {},
     "output_type": "execute_result"
    }
   ],
   "source": [
    "tf.gather_nd(slicing, indices=[[0,2,2],[1,2,2],[2,2,2],[3,2,2],[4,2,2]]).numpy()"
   ]
  },
  {
   "cell_type": "markdown",
   "id": "9f754076-9cc7-4a10-8ebb-57f7109a1b3e",
   "metadata": {},
   "source": [
    "# 2. Membuat Sebuah Tensor dengan shape(5,5) dari sebuah list dengan bilangan prima dalam variabel prime_tensor"
   ]
  },
  {
   "cell_type": "code",
   "execution_count": 9,
   "id": "571652fb-a635-49cf-a17e-42bd65435b01",
   "metadata": {},
   "outputs": [
    {
     "data": {
      "text/plain": [
       "array([[11., 13.,  5.,  7., 17.],\n",
       "       [23., 27., 29., 33., 39.],\n",
       "       [31., 37., 41., 43., 47.],\n",
       "       [53., 59., 61., 71., 73.],\n",
       "       [79., 83., 89., 97.,  1.]], dtype=float32)"
      ]
     },
     "execution_count": 9,
     "metadata": {},
     "output_type": "execute_result"
    }
   ],
   "source": [
    "list_prime = [[11, 13, 5, 7, 17],[23, 27, 29, 33, 39],[31, 37, 41, 43, 47],[53, 59, 61, 71, 73],[79, 83, 89, 97, 1]]\n",
    "\n",
    "prime_tensor = tf.constant(list_prime, dtype=tf.float32)\n",
    "prime_tensor.numpy()"
   ]
  },
  {
   "cell_type": "markdown",
   "id": "0c52d13b-f8eb-405c-97cc-b020b0e74201",
   "metadata": {},
   "source": [
    "# 3. Menampilkan DImensi dari Variabel"
   ]
  },
  {
   "cell_type": "code",
   "execution_count": 10,
   "id": "c741529d-ba4f-4aa8-aa11-a8220ff97fec",
   "metadata": {},
   "outputs": [
    {
     "data": {
      "text/plain": [
       "TensorShape([5, 5])"
      ]
     },
     "execution_count": 10,
     "metadata": {},
     "output_type": "execute_result"
    }
   ],
   "source": [
    "random_tensor.shape"
   ]
  },
  {
   "cell_type": "code",
   "execution_count": 11,
   "id": "ab74d710-d1ad-49c0-a11c-b79c276b8c96",
   "metadata": {},
   "outputs": [
    {
     "data": {
      "text/plain": [
       "TensorShape([5, 5])"
      ]
     },
     "execution_count": 11,
     "metadata": {},
     "output_type": "execute_result"
    }
   ],
   "source": [
    "prime_tensor.shape"
   ]
  },
  {
   "cell_type": "markdown",
   "id": "37aadfd1-b3a3-4039-9c29-de801b809714",
   "metadata": {},
   "source": [
    "# 4. Menampilkan Hasil Aritmatika 2 Variabel dengan 5 Operator"
   ]
  },
  {
   "cell_type": "code",
   "execution_count": 12,
   "id": "24750cd4-7152-467d-9096-6e391f87343a",
   "metadata": {},
   "outputs": [
    {
     "name": "stdout",
     "output_type": "stream",
     "text": [
      "1. Penjumlahan : tf.Tensor(\n",
      "[[10.188682  14.484599   5.0653296  4.557296  17.099249 ]\n",
      " [23.591225  27.592823  26.877071  32.277103  38.94373  ]\n",
      " [31.643545  36.735676  42.856632  43.56784   46.617165 ]\n",
      " [51.514656  60.261772  60.974693  70.73537   74.532814 ]\n",
      " [77.25702   82.5621    88.43399   97.32067    2.132831 ]], shape=(5, 5), dtype=float32)\n",
      "2. Pengurangan : tf.Tensor(\n",
      "[[11.811318   11.515401    4.9346704   9.442704   16.900751  ]\n",
      " [22.408775   26.407177   31.122929   33.722897   39.05627   ]\n",
      " [30.356455   37.264324   39.143368   42.43216    47.382835  ]\n",
      " [54.485344   57.738228   61.025307   71.26463    71.467186  ]\n",
      " [80.74298    83.4379     89.56601    96.67933    -0.13283098]], shape=(5, 5), dtype=float32)\n",
      "3. Perkalian : tf.Tensor(\n",
      "[[  -8.9245       19.299784      0.32664686  -17.09893       1.6872228 ]\n",
      " [  13.598159     16.00622     -61.564957    -23.855608     -2.1945448 ]\n",
      " [  19.949888     -9.77999      76.12196      24.417194    -17.993286  ]\n",
      " [ -78.7232       74.444496     -1.5436709   -18.788708    111.89541   ]\n",
      " [-137.69519     -36.345116    -50.37489      31.10492       1.132831  ]], shape=(5, 5), dtype=float32)\n",
      "4. Pembagian : tf.Tensor(\n",
      "[[-1.35581818e+01  8.75657463e+00  7.65352554e+01 -2.86567640e+00\n",
      "   1.71287399e+02]\n",
      " [ 3.89023247e+01  4.55447922e+01 -1.36603680e+01 -4.56496429e+01\n",
      "  -6.93082214e+02]\n",
      " [ 4.81706963e+01 -1.39979691e+02  2.20829830e+01  7.57253265e+01\n",
      "  -1.22768005e+02]\n",
      " [-3.56819878e+01  4.67596703e+01 -2.41048804e+03 -2.68299438e+02\n",
      "   4.76248322e+01]\n",
      " [-4.53247490e+01 -1.89544052e+02 -1.57241043e+02  3.02492340e+02\n",
      "   8.82744193e-01]], shape=(5, 5), dtype=float32)\n",
      "5. Pangkat : tf.Tensor(\n",
      "[[1.4292201e-01 4.5056652e+01 1.1108701e+00 8.6233392e-03 1.3247077e+00]\n",
      " [6.3839078e+00 7.0557847e+00 7.8601716e-04 7.9849184e-02 8.1371099e-01]\n",
      " [9.1150293e+00 3.8502288e-01 9.8707019e+02 8.4635296e+00 2.2901341e-01]\n",
      " [2.7469979e-03 1.7155756e+02 9.0119815e-01 3.2366973e-01 7.1800415e+02]\n",
      " [4.9258291e-04 1.4442728e-01 7.8818068e-02 4.3360734e+00 1.0000000e+00]], shape=(5, 5), dtype=float32)\n",
      "6. FloorDiv : tf.Tensor(\n",
      "[[  -14.     8.    76.    -3.   171.]\n",
      " [   38.    45.   -14.   -46.  -694.]\n",
      " [   48.  -140.    22.    75.  -123.]\n",
      " [  -36.    46. -2411.  -269.    47.]\n",
      " [  -46.  -190.  -158.   302.     0.]], shape=(5, 5), dtype=float32)\n",
      "7. FloorMod : tf.Tensor(\n",
      "[[-0.35845506  1.12321     0.03496766 -0.3281126   0.02852329]\n",
      " [ 0.5334761   0.3229664  -0.721014   -0.25327265 -0.05164342]\n",
      " [ 0.10984993 -0.00536966  0.1540699   0.41187185 -0.08881506]\n",
      " [-0.47236013  0.9585302  -0.01295776 -0.1853871   0.957752  ]\n",
      " [-1.1769485  -0.19965929 -0.42957973  0.15788239  1.        ]], shape=(5, 5), dtype=float32)\n",
      "8. Greater : tf.Tensor(\n",
      "[[ True  True  True  True  True]\n",
      " [ True  True  True  True  True]\n",
      " [ True  True  True  True  True]\n",
      " [ True  True  True  True  True]\n",
      " [ True  True  True  True False]], shape=(5, 5), dtype=bool)\n",
      "9. Setara : tf.Tensor(\n",
      "[[False False False False False]\n",
      " [False False False False False]\n",
      " [False False False False False]\n",
      " [False False False False False]\n",
      " [False False False False False]], shape=(5, 5), dtype=bool)\n",
      "10. Tidak Setara : tf.Tensor(\n",
      "[[ True  True  True  True  True]\n",
      " [ True  True  True  True  True]\n",
      " [ True  True  True  True  True]\n",
      " [ True  True  True  True  True]\n",
      " [ True  True  True  True  True]], shape=(5, 5), dtype=bool)\n",
      "11. Greater Equal : tf.Tensor(\n",
      "[[ True  True  True  True  True]\n",
      " [ True  True  True  True  True]\n",
      " [ True  True  True  True  True]\n",
      " [ True  True  True  True  True]\n",
      " [ True  True  True  True False]], shape=(5, 5), dtype=bool)\n",
      "12. Less : tf.Tensor(\n",
      "[[False False False False False]\n",
      " [False False False False False]\n",
      " [False False False False False]\n",
      " [False False False False False]\n",
      " [False False False False  True]], shape=(5, 5), dtype=bool)\n",
      "13. Less Equal : tf.Tensor(\n",
      "[[False False False False False]\n",
      " [False False False False False]\n",
      " [False False False False False]\n",
      " [False False False False False]\n",
      " [False False False False  True]], shape=(5, 5), dtype=bool)\n",
      "14. Maximum : tf.Tensor(\n",
      "[[11.       13.        5.        7.       17.      ]\n",
      " [23.       27.       29.       33.       39.      ]\n",
      " [31.       37.       41.       43.       47.      ]\n",
      " [53.       59.       61.       71.       73.      ]\n",
      " [79.       83.       89.       97.        1.132831]], shape=(5, 5), dtype=float32)\n",
      "15. Minimum : tf.Tensor(\n",
      "[[-0.8113182   1.4845988   0.06532937 -2.4427042   0.0992484 ]\n",
      " [ 0.5912243   0.59282297 -2.1229296  -0.72289723 -0.05627038]\n",
      " [ 0.6435448  -0.26432407  1.8566332   0.5678417  -0.3828359 ]\n",
      " [-1.4853433   1.2617711  -0.02530608 -0.2646297   1.5328138 ]\n",
      " [-1.7429771  -0.43789294 -0.56601     0.32066926  1.        ]], shape=(5, 5), dtype=float32)\n",
      "16. Kuadrat Perbedaan : tf.Tensor(\n",
      "[[1.3950725e+02 1.3260446e+02 2.4350973e+01 8.9164665e+01 2.8563538e+02]\n",
      " [5.0215320e+02 6.9733899e+02 9.6863666e+02 1.1372338e+03 1.5253923e+03]\n",
      " [9.2151434e+02 1.3886299e+03 1.5322032e+03 1.8004882e+03 2.2451331e+03]\n",
      " [2.9686526e+03 3.3337029e+03 3.7240881e+03 5.0786479e+03 5.1075586e+03]\n",
      " [6.5194292e+03 6.9618828e+03 8.0220698e+03 9.3468926e+03 1.7644068e-02]], shape=(5, 5), dtype=float32)\n",
      "17. TrueDiv : tf.Tensor(\n",
      "[[-1.35581818e+01  8.75657463e+00  7.65352554e+01 -2.86567640e+00\n",
      "   1.71287399e+02]\n",
      " [ 3.89023247e+01  4.55447922e+01 -1.36603680e+01 -4.56496429e+01\n",
      "  -6.93082214e+02]\n",
      " [ 4.81706963e+01 -1.39979691e+02  2.20829830e+01  7.57253265e+01\n",
      "  -1.22768005e+02]\n",
      " [-3.56819878e+01  4.67596703e+01 -2.41048804e+03 -2.68299438e+02\n",
      "   4.76248322e+01]\n",
      " [-4.53247490e+01 -1.89544052e+02 -1.57241043e+02  3.02492340e+02\n",
      "   8.82744193e-01]], shape=(5, 5), dtype=float32)\n",
      "18. XdivY : tf.Tensor(\n",
      "[[-1.35581818e+01  8.75657463e+00  7.65352554e+01 -2.86567640e+00\n",
      "   1.71287399e+02]\n",
      " [ 3.89023247e+01  4.55447922e+01 -1.36603680e+01 -4.56496429e+01\n",
      "  -6.93082214e+02]\n",
      " [ 4.81706963e+01 -1.39979691e+02  2.20829830e+01  7.57253265e+01\n",
      "  -1.22768005e+02]\n",
      " [-3.56819878e+01  4.67596703e+01 -2.41048804e+03 -2.68299438e+02\n",
      "   4.76248322e+01]\n",
      " [-4.53247490e+01 -1.89544052e+02 -1.57241043e+02  3.02492340e+02\n",
      "   8.82744193e-01]], shape=(5, 5), dtype=float32)\n",
      "19. Xlog1pY : tf.Tensor(\n",
      "[[-18.34463     11.831446     0.31642008          nan   1.6086534 ]\n",
      " [ 10.683585    12.568714            nan -42.351105    -2.2587073 ]\n",
      " [ 15.402516   -11.357726    43.035393    19.3371     -22.683153  ]\n",
      " [         nan  48.152737    -1.5635388  -21.82406     67.84115   ]\n",
      " [         nan -47.81323    -74.291306    26.979445     0.75745016]], shape=(5, 5), dtype=float32)\n",
      "20. XlogY : tf.Tensor(\n",
      "[[          nan    5.136879    -13.641567             nan  -39.2722    ]\n",
      " [ -12.087875    -14.117206             nan           nan           nan]\n",
      " [ -13.663672             nan   25.369354    -24.334242             nan]\n",
      " [          nan   13.718465             nan           nan   31.178675  ]\n",
      " [          nan           nan           nan -110.32247       0.12471979]], shape=(5, 5), dtype=float32)\n",
      "21. Atan2 : tf.Tensor(\n",
      "[[1.6444192 1.4570891 1.5577312 1.9065423 1.5649582]\n",
      " [1.5450966 1.5488435 1.6438705 1.5926988 1.5722392]\n",
      " [1.5500398 1.5779401 1.5255435 1.5575914 1.5789416]\n",
      " [1.5988144 1.5494137 1.5712112 1.5745234 1.549802 ]\n",
      " [1.5928557 1.5760721 1.577156  1.5674905 0.7231993]], shape=(5, 5), dtype=float32)\n"
     ]
    }
   ],
   "source": [
    "print(\"1. Penjumlahan :\",tf.add(prime_tensor,random_tensor))\n",
    "print(\"2. Pengurangan :\",tf.subtract(prime_tensor,random_tensor))\n",
    "print(\"3. Perkalian :\",tf.multiply(prime_tensor,random_tensor))\n",
    "print(\"4. Pembagian :\",tf.divide(prime_tensor,random_tensor))\n",
    "print(\"5. Pangkat :\",tf.pow(prime_tensor,random_tensor))\n",
    "print(\"6. FloorDiv :\",tf.math.floordiv(prime_tensor,random_tensor))\n",
    "print(\"7. FloorMod :\",tf.math.floormod(prime_tensor,random_tensor))\n",
    "print(\"8. Greater :\",tf.math.greater(prime_tensor,random_tensor))\n",
    "print(\"9. Setara :\",tf.equal(prime_tensor,random_tensor))\n",
    "print(\"10. Tidak Setara :\",tf.not_equal(prime_tensor,random_tensor))\n",
    "print(\"11. Greater Equal :\",tf.math.greater_equal(prime_tensor,random_tensor))\n",
    "print(\"12. Less :\",tf.math.less(prime_tensor,random_tensor))\n",
    "print(\"13. Less Equal :\",tf.math.less_equal(prime_tensor,random_tensor))\n",
    "print(\"14. Maximum :\",tf.math.maximum(prime_tensor,random_tensor))\n",
    "print(\"15. Minimum :\",tf.math.minimum(prime_tensor,random_tensor))\n",
    "print(\"16. Kuadrat Perbedaan :\",tf.math.squared_difference(prime_tensor,random_tensor))\n",
    "print(\"17. TrueDiv :\",tf.math.truediv(prime_tensor,random_tensor))\n",
    "print(\"18. XdivY :\",tf.math.xdivy(prime_tensor,random_tensor))\n",
    "print(\"19. Xlog1pY :\",tf.math.xlog1py(prime_tensor,random_tensor))\n",
    "print(\"20. XlogY :\",tf.math.xlogy(prime_tensor,random_tensor))\n",
    "print(\"21. Atan2 :\",tf.math.atan2(prime_tensor,random_tensor))"
   ]
  },
  {
   "cell_type": "markdown",
   "id": "11266cb1-12fb-4a3d-af03-a4dea7f5f42a",
   "metadata": {},
   "source": [
    "# 5. Menampilkan Nilai Maksimum dan Minimum dari Variabel random_tensor"
   ]
  },
  {
   "cell_type": "code",
   "execution_count": 20,
   "id": "90d0ae6f-7921-4cdb-b5f6-b5d8dc175c48",
   "metadata": {},
   "outputs": [
    {
     "name": "stdout",
     "output_type": "stream",
     "text": [
      "Maksimum baris random tensor :  [2 0 2 2 3]\n"
     ]
    },
    {
     "data": {
      "text/plain": [
       "array([2, 0, 2, 2, 3], dtype=int64)"
      ]
     },
     "execution_count": 20,
     "metadata": {},
     "output_type": "execute_result"
    }
   ],
   "source": [
    "maxb = tf.argmax(random_tensor, axis=0).numpy()\n",
    "print (\"Maksimum baris random tensor : \",maxb)\n",
    "maxb"
   ]
  },
  {
   "cell_type": "code",
   "execution_count": 21,
   "id": "1cd73fde-247f-4bfd-9495-a4bd271eb6ce",
   "metadata": {},
   "outputs": [
    {
     "name": "stdout",
     "output_type": "stream",
     "text": [
      "Maksimum kolom random tensor :  [1 1 2 4 4]\n"
     ]
    },
    {
     "data": {
      "text/plain": [
       "array([1, 1, 2, 4, 4], dtype=int64)"
      ]
     },
     "execution_count": 21,
     "metadata": {},
     "output_type": "execute_result"
    }
   ],
   "source": [
    "maxk = tf.argmax(random_tensor, axis=1).numpy()\n",
    "print (\"Maksimum kolom random tensor : \",maxk)\n",
    "maxk"
   ]
  },
  {
   "cell_type": "code",
   "execution_count": 22,
   "id": "0404ac48-ecf1-4661-a510-bba3590ad322",
   "metadata": {},
   "outputs": [
    {
     "name": "stdout",
     "output_type": "stream",
     "text": [
      "Minimum baris random tensor :  [4 4 1 0 2]\n"
     ]
    },
    {
     "data": {
      "text/plain": [
       "array([4, 4, 1, 0, 2], dtype=int64)"
      ]
     },
     "execution_count": 22,
     "metadata": {},
     "output_type": "execute_result"
    }
   ],
   "source": [
    "minb = tf.argmin(random_tensor, axis=0).numpy()\n",
    "print (\"Minimum baris random tensor : \",minb)\n",
    "minb"
   ]
  },
  {
   "cell_type": "code",
   "execution_count": 23,
   "id": "f7767e4a-2ad6-4068-a1cf-96868bef954d",
   "metadata": {},
   "outputs": [
    {
     "name": "stdout",
     "output_type": "stream",
     "text": [
      "Minimum kolom random tensor :  [3 2 4 0 0]\n"
     ]
    },
    {
     "data": {
      "text/plain": [
       "array([3, 2, 4, 0, 0], dtype=int64)"
      ]
     },
     "execution_count": 23,
     "metadata": {},
     "output_type": "execute_result"
    }
   ],
   "source": [
    "mink = tf.argmin(random_tensor, axis=1).numpy()\n",
    "print (\"Minimum kolom random tensor : \",mink)\n",
    "mink"
   ]
  },
  {
   "cell_type": "markdown",
   "id": "26770e59-d4d7-4ec8-ac4c-58136686f290",
   "metadata": {},
   "source": [
    "# 6. Menampilkan Hasil dari Penggabungan Variabel random_tensor dengan prime_tensor(concatenation)"
   ]
  },
  {
   "cell_type": "markdown",
   "id": "c03afa4c-1309-4655-bb7e-ac85adbeee3f",
   "metadata": {},
   "source": [
    "## Penggabungan Baris"
   ]
  },
  {
   "cell_type": "code",
   "execution_count": 24,
   "id": "70f43b83-c9da-458c-ae36-64975e02e542",
   "metadata": {},
   "outputs": [
    {
     "data": {
      "text/plain": [
       "array([[-8.1131822e-01,  1.4845988e+00,  6.5329373e-02, -2.4427042e+00,\n",
       "         9.9248402e-02],\n",
       "       [ 5.9122431e-01,  5.9282297e-01, -2.1229296e+00, -7.2289723e-01,\n",
       "        -5.6270380e-02],\n",
       "       [ 6.4354479e-01, -2.6432407e-01,  1.8566332e+00,  5.6784171e-01,\n",
       "        -3.8283589e-01],\n",
       "       [-1.4853433e+00,  1.2617711e+00, -2.5306080e-02, -2.6462969e-01,\n",
       "         1.5328138e+00],\n",
       "       [-1.7429771e+00, -4.3789294e-01, -5.6601000e-01,  3.2066926e-01,\n",
       "         1.1328310e+00],\n",
       "       [ 1.1000000e+01,  1.3000000e+01,  5.0000000e+00,  7.0000000e+00,\n",
       "         1.7000000e+01],\n",
       "       [ 2.3000000e+01,  2.7000000e+01,  2.9000000e+01,  3.3000000e+01,\n",
       "         3.9000000e+01],\n",
       "       [ 3.1000000e+01,  3.7000000e+01,  4.1000000e+01,  4.3000000e+01,\n",
       "         4.7000000e+01],\n",
       "       [ 5.3000000e+01,  5.9000000e+01,  6.1000000e+01,  7.1000000e+01,\n",
       "         7.3000000e+01],\n",
       "       [ 7.9000000e+01,  8.3000000e+01,  8.9000000e+01,  9.7000000e+01,\n",
       "         1.0000000e+00]], dtype=float32)"
      ]
     },
     "execution_count": 24,
     "metadata": {},
     "output_type": "execute_result"
    }
   ],
   "source": [
    "tf.concat([random_tensor,prime_tensor], axis=0).numpy()"
   ]
  },
  {
   "cell_type": "markdown",
   "id": "d22863e7-412c-4646-980d-a1eb3b16caa2",
   "metadata": {},
   "source": [
    "## Penggabungan Kolom"
   ]
  },
  {
   "cell_type": "code",
   "execution_count": 25,
   "id": "d9695d12-f16e-4106-b916-1bba1b30d260",
   "metadata": {},
   "outputs": [
    {
     "data": {
      "text/plain": [
       "array([[-8.1131822e-01,  1.4845988e+00,  6.5329373e-02, -2.4427042e+00,\n",
       "         9.9248402e-02,  1.1000000e+01,  1.3000000e+01,  5.0000000e+00,\n",
       "         7.0000000e+00,  1.7000000e+01],\n",
       "       [ 5.9122431e-01,  5.9282297e-01, -2.1229296e+00, -7.2289723e-01,\n",
       "        -5.6270380e-02,  2.3000000e+01,  2.7000000e+01,  2.9000000e+01,\n",
       "         3.3000000e+01,  3.9000000e+01],\n",
       "       [ 6.4354479e-01, -2.6432407e-01,  1.8566332e+00,  5.6784171e-01,\n",
       "        -3.8283589e-01,  3.1000000e+01,  3.7000000e+01,  4.1000000e+01,\n",
       "         4.3000000e+01,  4.7000000e+01],\n",
       "       [-1.4853433e+00,  1.2617711e+00, -2.5306080e-02, -2.6462969e-01,\n",
       "         1.5328138e+00,  5.3000000e+01,  5.9000000e+01,  6.1000000e+01,\n",
       "         7.1000000e+01,  7.3000000e+01],\n",
       "       [-1.7429771e+00, -4.3789294e-01, -5.6601000e-01,  3.2066926e-01,\n",
       "         1.1328310e+00,  7.9000000e+01,  8.3000000e+01,  8.9000000e+01,\n",
       "         9.7000000e+01,  1.0000000e+00]], dtype=float32)"
      ]
     },
     "execution_count": 25,
     "metadata": {},
     "output_type": "execute_result"
    }
   ],
   "source": [
    "tf.concat([random_tensor,prime_tensor], axis=1).numpy()"
   ]
  },
  {
   "cell_type": "markdown",
   "id": "2ce70467-eac5-4f45-9fb9-a0b925014cc7",
   "metadata": {},
   "source": [
    "# 7. Menampilkan Hasil Sorting dari Kedua Variabel Secara Descending\n"
   ]
  },
  {
   "cell_type": "code",
   "execution_count": 26,
   "id": "658d0f81-c363-49c5-ba77-e4bd0f68cff2",
   "metadata": {},
   "outputs": [
    {
     "data": {
      "text/plain": [
       "array([[ 1.4845988 ,  0.0992484 ,  0.06532937, -0.8113182 , -2.4427042 ],\n",
       "       [ 0.59282297,  0.5912243 , -0.05627038, -0.72289723, -2.1229296 ],\n",
       "       [ 1.8566332 ,  0.6435448 ,  0.5678417 , -0.26432407, -0.3828359 ],\n",
       "       [ 1.5328138 ,  1.2617711 , -0.02530608, -0.2646297 , -1.4853433 ],\n",
       "       [ 1.132831  ,  0.32066926, -0.43789294, -0.56601   , -1.7429771 ]],\n",
       "      dtype=float32)"
      ]
     },
     "execution_count": 26,
     "metadata": {},
     "output_type": "execute_result"
    }
   ],
   "source": [
    "sort_random_tensor1 = tf.sort(random_tensor, direction=\"DESCENDING\")\n",
    "sort_random_tensor1.numpy()"
   ]
  },
  {
   "cell_type": "code",
   "execution_count": 27,
   "id": "a9c1abc8-9d2c-47aa-9602-1bb1896adef5",
   "metadata": {},
   "outputs": [
    {
     "data": {
      "text/plain": [
       "array([[1, 4, 2, 0, 3],\n",
       "       [1, 0, 4, 3, 2],\n",
       "       [2, 0, 3, 1, 4],\n",
       "       [4, 1, 2, 3, 0],\n",
       "       [4, 3, 1, 2, 0]])"
      ]
     },
     "execution_count": 27,
     "metadata": {},
     "output_type": "execute_result"
    }
   ],
   "source": [
    "sort_random_tensor2 = tf.argsort(random_tensor, direction=\"DESCENDING\")\n",
    "sort_random_tensor2.numpy()"
   ]
  },
  {
   "cell_type": "code",
   "execution_count": 28,
   "id": "f76b8aa2-b328-4cd2-a742-e228f8774f10",
   "metadata": {},
   "outputs": [
    {
     "data": {
      "text/plain": [
       "array([[17., 13., 11.,  7.,  5.],\n",
       "       [39., 33., 29., 27., 23.],\n",
       "       [47., 43., 41., 37., 31.],\n",
       "       [73., 71., 61., 59., 53.],\n",
       "       [97., 89., 83., 79.,  1.]], dtype=float32)"
      ]
     },
     "execution_count": 28,
     "metadata": {},
     "output_type": "execute_result"
    }
   ],
   "source": [
    "sort_prime_tensor1 = tf.sort(prime_tensor, direction=\"DESCENDING\")\n",
    "sort_prime_tensor1.numpy()"
   ]
  },
  {
   "cell_type": "code",
   "execution_count": 29,
   "id": "9ffbd71f-ee4f-4823-acbb-6060b9b37585",
   "metadata": {},
   "outputs": [
    {
     "data": {
      "text/plain": [
       "array([[4, 1, 0, 3, 2],\n",
       "       [4, 3, 2, 1, 0],\n",
       "       [4, 3, 2, 1, 0],\n",
       "       [4, 3, 2, 1, 0],\n",
       "       [3, 2, 1, 0, 4]])"
      ]
     },
     "execution_count": 29,
     "metadata": {},
     "output_type": "execute_result"
    }
   ],
   "source": [
    "sort_prime_tensor2 = tf.argsort(prime_tensor, direction=\"DESCENDING\")\n",
    "sort_prime_tensor2.numpy()"
   ]
  },
  {
   "cell_type": "code",
   "execution_count": null,
   "id": "a8568272-2765-4d30-a858-37ea286ff950",
   "metadata": {},
   "outputs": [],
   "source": []
  }
 ],
 "metadata": {
  "kernelspec": {
   "display_name": "Python 3 (ipykernel)",
   "language": "python",
   "name": "python3"
  },
  "language_info": {
   "codemirror_mode": {
    "name": "ipython",
    "version": 3
   },
   "file_extension": ".py",
   "mimetype": "text/x-python",
   "name": "python",
   "nbconvert_exporter": "python",
   "pygments_lexer": "ipython3",
   "version": "3.10.4"
  }
 },
 "nbformat": 4,
 "nbformat_minor": 5
}
