{
 "cells": [
  {
   "cell_type": "markdown",
   "id": "9e89328a-c897-4e64-8207-aebb61ebbea5",
   "metadata": {},
   "source": [
    "# Muhammad Nanda Arjuna Fadhillah\n",
    "# 2109106028\n",
    "# Informatika A1 2021"
   ]
  },
  {
   "cell_type": "markdown",
   "id": "16a8048a-872b-4fc3-ba56-9802f5e734e8",
   "metadata": {
    "tags": []
   },
   "source": [
    "# Import Library"
   ]
  },
  {
   "cell_type": "code",
   "execution_count": 29,
   "id": "cb572d53-a50a-4336-92b3-56f0c7b64f0c",
   "metadata": {},
   "outputs": [],
   "source": [
    "import pandas as pd\n",
    "import seaborn as sns\n",
    "import numpy as np\n",
    "import matplotlib.pyplot as plt"
   ]
  },
  {
   "cell_type": "markdown",
   "id": "5ef0f14f-c808-4330-a34a-abeae443dda7",
   "metadata": {},
   "source": [
    "# Membaca Dataset"
   ]
  },
  {
   "cell_type": "code",
   "execution_count": 3,
   "id": "8ce0d0ca-36cf-41c8-9701-b61d3691d5e2",
   "metadata": {},
   "outputs": [
    {
     "data": {
      "text/html": [
       "<div>\n",
       "<style scoped>\n",
       "    .dataframe tbody tr th:only-of-type {\n",
       "        vertical-align: middle;\n",
       "    }\n",
       "\n",
       "    .dataframe tbody tr th {\n",
       "        vertical-align: top;\n",
       "    }\n",
       "\n",
       "    .dataframe thead th {\n",
       "        text-align: right;\n",
       "    }\n",
       "</style>\n",
       "<table border=\"1\" class=\"dataframe\">\n",
       "  <thead>\n",
       "    <tr style=\"text-align: right;\">\n",
       "      <th></th>\n",
       "      <th>Country_Name</th>\n",
       "      <th>Year</th>\n",
       "      <th>Population</th>\n",
       "      <th>Deaths_All_Types</th>\n",
       "      <th>Deaths_Suicides</th>\n",
       "      <th>HExp_Pctage_Y</th>\n",
       "      <th>MHExp_Pctage_2011</th>\n",
       "      <th>Dep_Num_2015</th>\n",
       "      <th>Suicide_p100</th>\n",
       "    </tr>\n",
       "  </thead>\n",
       "  <tbody>\n",
       "    <tr>\n",
       "      <th>0</th>\n",
       "      <td>Armenia</td>\n",
       "      <td>2006</td>\n",
       "      <td>3219235.0</td>\n",
       "      <td>54404</td>\n",
       "      <td>78</td>\n",
       "      <td>5.85</td>\n",
       "      <td>3.38</td>\n",
       "      <td>4.99</td>\n",
       "      <td>5.36</td>\n",
       "    </tr>\n",
       "    <tr>\n",
       "      <th>1</th>\n",
       "      <td>Armenia</td>\n",
       "      <td>2007</td>\n",
       "      <td>3107395.5</td>\n",
       "      <td>53660</td>\n",
       "      <td>0</td>\n",
       "      <td>5.50</td>\n",
       "      <td>3.38</td>\n",
       "      <td>4.99</td>\n",
       "      <td>5.02</td>\n",
       "    </tr>\n",
       "    <tr>\n",
       "      <th>2</th>\n",
       "      <td>Armenia</td>\n",
       "      <td>2008</td>\n",
       "      <td>3234031.0</td>\n",
       "      <td>54824</td>\n",
       "      <td>63</td>\n",
       "      <td>6.64</td>\n",
       "      <td>3.38</td>\n",
       "      <td>4.99</td>\n",
       "      <td>4.23</td>\n",
       "    </tr>\n",
       "    <tr>\n",
       "      <th>3</th>\n",
       "      <td>Armenia</td>\n",
       "      <td>2009</td>\n",
       "      <td>3066044.0</td>\n",
       "      <td>55120</td>\n",
       "      <td>53</td>\n",
       "      <td>8.44</td>\n",
       "      <td>3.38</td>\n",
       "      <td>4.99</td>\n",
       "      <td>4.06</td>\n",
       "    </tr>\n",
       "    <tr>\n",
       "      <th>4</th>\n",
       "      <td>Armenia</td>\n",
       "      <td>2012</td>\n",
       "      <td>3024127.0</td>\n",
       "      <td>55200</td>\n",
       "      <td>79</td>\n",
       "      <td>9.13</td>\n",
       "      <td>3.38</td>\n",
       "      <td>4.99</td>\n",
       "      <td>6.39</td>\n",
       "    </tr>\n",
       "  </tbody>\n",
       "</table>\n",
       "</div>"
      ],
      "text/plain": [
       "  Country_Name  Year  Population  Deaths_All_Types  Deaths_Suicides  \\\n",
       "0      Armenia  2006   3219235.0             54404               78   \n",
       "1      Armenia  2007   3107395.5             53660                0   \n",
       "2      Armenia  2008   3234031.0             54824               63   \n",
       "3      Armenia  2009   3066044.0             55120               53   \n",
       "4      Armenia  2012   3024127.0             55200               79   \n",
       "\n",
       "   HExp_Pctage_Y  MHExp_Pctage_2011  Dep_Num_2015  Suicide_p100  \n",
       "0           5.85               3.38          4.99          5.36  \n",
       "1           5.50               3.38          4.99          5.02  \n",
       "2           6.64               3.38          4.99          4.23  \n",
       "3           8.44               3.38          4.99          4.06  \n",
       "4           9.13               3.38          4.99          6.39  "
      ]
     },
     "execution_count": 3,
     "metadata": {},
     "output_type": "execute_result"
    }
   ],
   "source": [
    "df = pd.read_csv(\"whoDeaths.csv\")\n",
    "df.head()"
   ]
  },
  {
   "cell_type": "markdown",
   "id": "a7275ad7-4dcc-475b-9552-87c6562534c3",
   "metadata": {},
   "source": [
    "# Data NULL"
   ]
  },
  {
   "cell_type": "code",
   "execution_count": 4,
   "id": "3aa593a4-1cc9-453c-8195-f27345c18a97",
   "metadata": {},
   "outputs": [
    {
     "data": {
      "text/plain": [
       "Country_Name         0\n",
       "Year                 0\n",
       "Population           0\n",
       "Deaths_All_Types     0\n",
       "Deaths_Suicides      0\n",
       "HExp_Pctage_Y        0\n",
       "MHExp_Pctage_2011    0\n",
       "Dep_Num_2015         0\n",
       "Suicide_p100         0\n",
       "dtype: int64"
      ]
     },
     "execution_count": 4,
     "metadata": {},
     "output_type": "execute_result"
    }
   ],
   "source": [
    "df.isnull().sum()"
   ]
  },
  {
   "cell_type": "markdown",
   "id": "27b78618-262b-4ae5-8a6d-66efca1f546e",
   "metadata": {},
   "source": [
    "# Data Duplikat"
   ]
  },
  {
   "cell_type": "code",
   "execution_count": 5,
   "id": "77fbeec6-e04b-4d65-a061-21151b8118f9",
   "metadata": {},
   "outputs": [
    {
     "data": {
      "text/html": [
       "<div>\n",
       "<style scoped>\n",
       "    .dataframe tbody tr th:only-of-type {\n",
       "        vertical-align: middle;\n",
       "    }\n",
       "\n",
       "    .dataframe tbody tr th {\n",
       "        vertical-align: top;\n",
       "    }\n",
       "\n",
       "    .dataframe thead th {\n",
       "        text-align: right;\n",
       "    }\n",
       "</style>\n",
       "<table border=\"1\" class=\"dataframe\">\n",
       "  <thead>\n",
       "    <tr style=\"text-align: right;\">\n",
       "      <th></th>\n",
       "      <th>Country_Name</th>\n",
       "      <th>Year</th>\n",
       "      <th>Population</th>\n",
       "      <th>Deaths_All_Types</th>\n",
       "      <th>Deaths_Suicides</th>\n",
       "      <th>HExp_Pctage_Y</th>\n",
       "      <th>MHExp_Pctage_2011</th>\n",
       "      <th>Dep_Num_2015</th>\n",
       "      <th>Suicide_p100</th>\n",
       "    </tr>\n",
       "  </thead>\n",
       "  <tbody>\n",
       "  </tbody>\n",
       "</table>\n",
       "</div>"
      ],
      "text/plain": [
       "Empty DataFrame\n",
       "Columns: [Country_Name, Year, Population, Deaths_All_Types, Deaths_Suicides, HExp_Pctage_Y, MHExp_Pctage_2011, Dep_Num_2015, Suicide_p100]\n",
       "Index: []"
      ]
     },
     "execution_count": 5,
     "metadata": {},
     "output_type": "execute_result"
    }
   ],
   "source": [
    "df[df.duplicated()]"
   ]
  },
  {
   "cell_type": "code",
   "execution_count": 7,
   "id": "4549a927-6669-4756-91a5-3ad0a1e9e7d9",
   "metadata": {},
   "outputs": [
    {
     "name": "stdout",
     "output_type": "stream",
     "text": [
      "Banyak Nilai Duplikat =  0\n"
     ]
    }
   ],
   "source": [
    "print(\"Banyak Nilai Duplikat = \",df.duplicated().sum())\n"
   ]
  },
  {
   "cell_type": "markdown",
   "id": "e28bc6b8-1853-45b6-a742-b4415769b010",
   "metadata": {},
   "source": [
    "# Normalisasi"
   ]
  },
  {
   "cell_type": "code",
   "execution_count": 8,
   "id": "72b0292d-feb8-4ba9-88b7-9b329624a422",
   "metadata": {},
   "outputs": [],
   "source": [
    "from sklearn.preprocessing import MinMaxScaler\n"
   ]
  },
  {
   "cell_type": "code",
   "execution_count": 9,
   "id": "ef6b4d52-d59d-46ba-9e05-2b6b00c698cd",
   "metadata": {},
   "outputs": [],
   "source": [
    "mms = MinMaxScaler()"
   ]
  },
  {
   "cell_type": "code",
   "execution_count": 11,
   "id": "ddecc5ae-c33b-4a2b-9d7f-c70ccfd2a5e2",
   "metadata": {},
   "outputs": [],
   "source": [
    "x_norm = mms.fit_transform(df[[\"Population\"]])"
   ]
  },
  {
   "cell_type": "code",
   "execution_count": null,
   "id": "dad37494-2866-49ae-a80c-6df4276e9e11",
   "metadata": {},
   "outputs": [],
   "source": [
    "datanormalisasi = pd.DataFrame(x_norm)\n",
    "datanormalisasi.head(10)"
   ]
  },
  {
   "cell_type": "markdown",
   "id": "f366a541-5e72-4c18-9833-f2c8ca56e19f",
   "metadata": {},
   "source": [
    "# Standarisasi"
   ]
  },
  {
   "cell_type": "code",
   "execution_count": 12,
   "id": "543ea836-e53c-4d9a-96be-ebc04d2772db",
   "metadata": {},
   "outputs": [],
   "source": [
    "# Import Library yang akan digunakan\n",
    "from sklearn.preprocessing import StandardScaler\n"
   ]
  },
  {
   "cell_type": "code",
   "execution_count": 13,
   "id": "d0dd9b37-5fa9-4bd3-a083-75313c44e5c7",
   "metadata": {},
   "outputs": [],
   "source": [
    "standard = StandardScaler()"
   ]
  },
  {
   "cell_type": "code",
   "execution_count": 14,
   "id": "38ee2c85-c68d-45ac-aefa-ecd6feb4fba7",
   "metadata": {},
   "outputs": [],
   "source": [
    "x_standard = standard.fit_transform(df[[\"Population\", \"Deaths_All_Types\", \"Deaths_Suicides\", \"MHExp_Pctage_2011\", \"Dep_Num_2015\"]])"
   ]
  },
  {
   "cell_type": "code",
   "execution_count": 15,
   "id": "5ded8f54-718e-44d1-8c48-50288334d785",
   "metadata": {},
   "outputs": [
    {
     "name": "stdout",
     "output_type": "stream",
     "text": [
      "Nilai sesudah di standarisasi :  1.0\n"
     ]
    }
   ],
   "source": [
    "print(\"Nilai sesudah di standarisasi : \", np.nanstd(x_standard))"
   ]
  },
  {
   "cell_type": "code",
   "execution_count": 16,
   "id": "11214d52-df34-43ff-aa6a-34296c051310",
   "metadata": {},
   "outputs": [],
   "source": [
    "subset = df[['Population', 'Deaths_All_Types']]"
   ]
  },
  {
   "cell_type": "code",
   "execution_count": 17,
   "id": "d2507c23-0de0-41af-9cee-a1c109c15302",
   "metadata": {},
   "outputs": [],
   "source": [
    "x_scaled = standard.fit_transform(subset)"
   ]
  },
  {
   "cell_type": "code",
   "execution_count": 18,
   "id": "e5bf04ae-ef8c-4367-8828-9f2180f34270",
   "metadata": {},
   "outputs": [],
   "source": [
    "from sklearn.cluster import KMeans"
   ]
  },
  {
   "cell_type": "code",
   "execution_count": 19,
   "id": "4f8ecd6c-8665-4e9f-8ed7-c4fcb7072c67",
   "metadata": {},
   "outputs": [
    {
     "data": {
      "text/html": [
       "<style>#sk-container-id-1 {color: black;background-color: white;}#sk-container-id-1 pre{padding: 0;}#sk-container-id-1 div.sk-toggleable {background-color: white;}#sk-container-id-1 label.sk-toggleable__label {cursor: pointer;display: block;width: 100%;margin-bottom: 0;padding: 0.3em;box-sizing: border-box;text-align: center;}#sk-container-id-1 label.sk-toggleable__label-arrow:before {content: \"▸\";float: left;margin-right: 0.25em;color: #696969;}#sk-container-id-1 label.sk-toggleable__label-arrow:hover:before {color: black;}#sk-container-id-1 div.sk-estimator:hover label.sk-toggleable__label-arrow:before {color: black;}#sk-container-id-1 div.sk-toggleable__content {max-height: 0;max-width: 0;overflow: hidden;text-align: left;background-color: #f0f8ff;}#sk-container-id-1 div.sk-toggleable__content pre {margin: 0.2em;color: black;border-radius: 0.25em;background-color: #f0f8ff;}#sk-container-id-1 input.sk-toggleable__control:checked~div.sk-toggleable__content {max-height: 200px;max-width: 100%;overflow: auto;}#sk-container-id-1 input.sk-toggleable__control:checked~label.sk-toggleable__label-arrow:before {content: \"▾\";}#sk-container-id-1 div.sk-estimator input.sk-toggleable__control:checked~label.sk-toggleable__label {background-color: #d4ebff;}#sk-container-id-1 div.sk-label input.sk-toggleable__control:checked~label.sk-toggleable__label {background-color: #d4ebff;}#sk-container-id-1 input.sk-hidden--visually {border: 0;clip: rect(1px 1px 1px 1px);clip: rect(1px, 1px, 1px, 1px);height: 1px;margin: -1px;overflow: hidden;padding: 0;position: absolute;width: 1px;}#sk-container-id-1 div.sk-estimator {font-family: monospace;background-color: #f0f8ff;border: 1px dotted black;border-radius: 0.25em;box-sizing: border-box;margin-bottom: 0.5em;}#sk-container-id-1 div.sk-estimator:hover {background-color: #d4ebff;}#sk-container-id-1 div.sk-parallel-item::after {content: \"\";width: 100%;border-bottom: 1px solid gray;flex-grow: 1;}#sk-container-id-1 div.sk-label:hover label.sk-toggleable__label {background-color: #d4ebff;}#sk-container-id-1 div.sk-serial::before {content: \"\";position: absolute;border-left: 1px solid gray;box-sizing: border-box;top: 0;bottom: 0;left: 50%;z-index: 0;}#sk-container-id-1 div.sk-serial {display: flex;flex-direction: column;align-items: center;background-color: white;padding-right: 0.2em;padding-left: 0.2em;position: relative;}#sk-container-id-1 div.sk-item {position: relative;z-index: 1;}#sk-container-id-1 div.sk-parallel {display: flex;align-items: stretch;justify-content: center;background-color: white;position: relative;}#sk-container-id-1 div.sk-item::before, #sk-container-id-1 div.sk-parallel-item::before {content: \"\";position: absolute;border-left: 1px solid gray;box-sizing: border-box;top: 0;bottom: 0;left: 50%;z-index: -1;}#sk-container-id-1 div.sk-parallel-item {display: flex;flex-direction: column;z-index: 1;position: relative;background-color: white;}#sk-container-id-1 div.sk-parallel-item:first-child::after {align-self: flex-end;width: 50%;}#sk-container-id-1 div.sk-parallel-item:last-child::after {align-self: flex-start;width: 50%;}#sk-container-id-1 div.sk-parallel-item:only-child::after {width: 0;}#sk-container-id-1 div.sk-dashed-wrapped {border: 1px dashed gray;margin: 0 0.4em 0.5em 0.4em;box-sizing: border-box;padding-bottom: 0.4em;background-color: white;}#sk-container-id-1 div.sk-label label {font-family: monospace;font-weight: bold;display: inline-block;line-height: 1.2em;}#sk-container-id-1 div.sk-label-container {text-align: center;}#sk-container-id-1 div.sk-container {/* jupyter's `normalize.less` sets `[hidden] { display: none; }` but bootstrap.min.css set `[hidden] { display: none !important; }` so we also need the `!important` here to be able to override the default hidden behavior on the sphinx rendered scikit-learn.org. See: https://github.com/scikit-learn/scikit-learn/issues/21755 */display: inline-block !important;position: relative;}#sk-container-id-1 div.sk-text-repr-fallback {display: none;}</style><div id=\"sk-container-id-1\" class=\"sk-top-container\"><div class=\"sk-text-repr-fallback\"><pre>KMeans(n_clusters=3, random_state=0)</pre><b>In a Jupyter environment, please rerun this cell to show the HTML representation or trust the notebook. <br />On GitHub, the HTML representation is unable to render, please try loading this page with nbviewer.org.</b></div><div class=\"sk-container\" hidden><div class=\"sk-item\"><div class=\"sk-estimator sk-toggleable\"><input class=\"sk-toggleable__control sk-hidden--visually\" id=\"sk-estimator-id-1\" type=\"checkbox\" checked><label for=\"sk-estimator-id-1\" class=\"sk-toggleable__label sk-toggleable__label-arrow\">KMeans</label><div class=\"sk-toggleable__content\"><pre>KMeans(n_clusters=3, random_state=0)</pre></div></div></div></div></div>"
      ],
      "text/plain": [
       "KMeans(n_clusters=3, random_state=0)"
      ]
     },
     "execution_count": 19,
     "metadata": {},
     "output_type": "execute_result"
    }
   ],
   "source": [
    "km = KMeans(n_clusters = 3, random_state = 0)\n",
    "km.fit(x_scaled)"
   ]
  },
  {
   "cell_type": "code",
   "execution_count": 20,
   "id": "d8e5fa72-786b-47b1-b492-584922afa016",
   "metadata": {},
   "outputs": [
    {
     "name": "stdout",
     "output_type": "stream",
     "text": [
      "[0 0 0 0 0 0 0 0 0 0 0 0 0 0 0 0 0 0 0 0 0 0 0 0 0 0 0 0 0 0 0 0 0 0 0 0 1\n",
      " 0 0 0 0 0 0 0 0 0 0 0 0 0 0 0 0 0 0 0 0 0 0 0 0 0 0 0 0 0 0 0 0 0 0 0 0 0\n",
      " 0 2 2 2 2 2 2 2 2 2 2 2 2 2 2 2 2 2 2 2 0 0 0 0 0 0 0 0 0 0 0 0 0 0 0 0 0\n",
      " 0 0 0 0 0 0 0 0 0 0 0 0 0 0 0 0 0 0 0 2 2 2 2 2 2 2 2 2 2 2 2 2 2 2 0 0 0\n",
      " 0 0 0 0 0 0 0 0 0 0 0 0 0 0 1 1 1 1 1 1 1 1 1 1 1 1 1 1 1 1 1 1 1 1 0 0 0\n",
      " 0 0 0 0 0 0 0 0 0 0 0 0 0 0 0 0 0 0 0 0 0 0 0 0 0 0 0 0 0 0 0 0 0 0 0 0 0\n",
      " 0 0 0 0 0 0 2 2 2 2 2 2 2 2 2 2 2 2 2 2 2 2 1 1 1 1 1 1 1 1 1 1 1 1 1 1 1\n",
      " 1 1 1 1 1 0 0 0 0 0 0 0 0 0 0 0 0 0 0 0 0 0 0 0 0 0 0 0 0 0 0 0 0 0 0 0 0\n",
      " 0 0 0 0 0 0 0 0 0 0 0 0 0 0 0 0 0 0 0 0 0 0 0 0 0 0 0 0 0 0 0 0 0 0 0 0 0\n",
      " 0 0 0 0 0 0 0 0 0 0 0 0 0 0 0 0 0 0 0 0 0 0 0 0 0 0 0 0 0 0 0 0 0 0 0 2 2\n",
      " 2 2 2 2 2 2 2 2 2 2 2 2 2 2 2 2 2 2 0 0 0 0 0 0 0 0 0 0 0 0 0 0 0 0 0 0 0\n",
      " 0 0 0 0 0 0 0 0 0 0 0 0 0 0 0 0 0 0 0 0 0 0 0 0 0 0 0 0 0 0 0 0 0 0 0 0 0\n",
      " 0 0 0 0 0 0 0 0 0 2 2 2 2 2 2 2 2 2 2 2 2 2 2 2 2 2 2 2 0 0 0 0 0 0 0 0 0\n",
      " 0 0 0 0 0 0 0 0 0 0 0 0 0 0 0 0 0 0 0 0 0 0 2 2 2 2 2 2 2 2 2 2 2 2 2 2 0\n",
      " 0 0 0 0 0 0 0 0 0 0 0 0 0]\n"
     ]
    }
   ],
   "source": [
    "labels = km.labels_\n",
    "print(labels)"
   ]
  },
  {
   "cell_type": "code",
   "execution_count": 23,
   "id": "c638f522-fddb-4982-a745-adf93ca1e99c",
   "metadata": {},
   "outputs": [],
   "source": [
    "kmeans = pd.DataFrame({'labels':labels, 'Population':df.Population})"
   ]
  },
  {
   "cell_type": "code",
   "execution_count": 24,
   "id": "94e9e511-0c33-4768-938a-fbcd3f796852",
   "metadata": {},
   "outputs": [
    {
     "data": {
      "text/html": [
       "<div>\n",
       "<style scoped>\n",
       "    .dataframe tbody tr th:only-of-type {\n",
       "        vertical-align: middle;\n",
       "    }\n",
       "\n",
       "    .dataframe tbody tr th {\n",
       "        vertical-align: top;\n",
       "    }\n",
       "\n",
       "    .dataframe thead th {\n",
       "        text-align: right;\n",
       "    }\n",
       "</style>\n",
       "<table border=\"1\" class=\"dataframe\">\n",
       "  <thead>\n",
       "    <tr style=\"text-align: right;\">\n",
       "      <th>Population</th>\n",
       "      <th>281154.0</th>\n",
       "      <th>285054.0</th>\n",
       "      <th>287559.0</th>\n",
       "      <th>289272.0</th>\n",
       "      <th>292587.0</th>\n",
       "      <th>295864.0</th>\n",
       "      <th>304334.0</th>\n",
       "      <th>311396.0</th>\n",
       "      <th>318041.0</th>\n",
       "      <th>319013.5</th>\n",
       "      <th>...</th>\n",
       "      <th>125958000.0</th>\n",
       "      <th>126008000.0</th>\n",
       "      <th>126085000.0</th>\n",
       "      <th>126140000.0</th>\n",
       "      <th>126154000.0</th>\n",
       "      <th>126176000.0</th>\n",
       "      <th>126180000.0</th>\n",
       "      <th>126204902.0</th>\n",
       "      <th>126381728.0</th>\n",
       "      <th>210147125.0</th>\n",
       "    </tr>\n",
       "    <tr>\n",
       "      <th>labels</th>\n",
       "      <th></th>\n",
       "      <th></th>\n",
       "      <th></th>\n",
       "      <th></th>\n",
       "      <th></th>\n",
       "      <th></th>\n",
       "      <th></th>\n",
       "      <th></th>\n",
       "      <th></th>\n",
       "      <th></th>\n",
       "      <th></th>\n",
       "      <th></th>\n",
       "      <th></th>\n",
       "      <th></th>\n",
       "      <th></th>\n",
       "      <th></th>\n",
       "      <th></th>\n",
       "      <th></th>\n",
       "      <th></th>\n",
       "      <th></th>\n",
       "      <th></th>\n",
       "    </tr>\n",
       "  </thead>\n",
       "  <tbody>\n",
       "    <tr>\n",
       "      <th>0</th>\n",
       "      <td>1</td>\n",
       "      <td>1</td>\n",
       "      <td>1</td>\n",
       "      <td>1</td>\n",
       "      <td>1</td>\n",
       "      <td>1</td>\n",
       "      <td>1</td>\n",
       "      <td>1</td>\n",
       "      <td>1</td>\n",
       "      <td>1</td>\n",
       "      <td>...</td>\n",
       "      <td>0</td>\n",
       "      <td>0</td>\n",
       "      <td>0</td>\n",
       "      <td>0</td>\n",
       "      <td>0</td>\n",
       "      <td>0</td>\n",
       "      <td>0</td>\n",
       "      <td>0</td>\n",
       "      <td>0</td>\n",
       "      <td>0</td>\n",
       "    </tr>\n",
       "    <tr>\n",
       "      <th>1</th>\n",
       "      <td>0</td>\n",
       "      <td>0</td>\n",
       "      <td>0</td>\n",
       "      <td>0</td>\n",
       "      <td>0</td>\n",
       "      <td>0</td>\n",
       "      <td>0</td>\n",
       "      <td>0</td>\n",
       "      <td>0</td>\n",
       "      <td>0</td>\n",
       "      <td>...</td>\n",
       "      <td>1</td>\n",
       "      <td>1</td>\n",
       "      <td>1</td>\n",
       "      <td>1</td>\n",
       "      <td>1</td>\n",
       "      <td>1</td>\n",
       "      <td>1</td>\n",
       "      <td>1</td>\n",
       "      <td>1</td>\n",
       "      <td>1</td>\n",
       "    </tr>\n",
       "    <tr>\n",
       "      <th>2</th>\n",
       "      <td>0</td>\n",
       "      <td>0</td>\n",
       "      <td>0</td>\n",
       "      <td>0</td>\n",
       "      <td>0</td>\n",
       "      <td>0</td>\n",
       "      <td>0</td>\n",
       "      <td>0</td>\n",
       "      <td>0</td>\n",
       "      <td>0</td>\n",
       "      <td>...</td>\n",
       "      <td>0</td>\n",
       "      <td>0</td>\n",
       "      <td>0</td>\n",
       "      <td>0</td>\n",
       "      <td>0</td>\n",
       "      <td>0</td>\n",
       "      <td>0</td>\n",
       "      <td>0</td>\n",
       "      <td>0</td>\n",
       "      <td>0</td>\n",
       "    </tr>\n",
       "  </tbody>\n",
       "</table>\n",
       "<p>3 rows × 528 columns</p>\n",
       "</div>"
      ],
      "text/plain": [
       "Population  281154.0     285054.0     287559.0     289272.0     292587.0     \\\n",
       "labels                                                                        \n",
       "0                     1            1            1            1            1   \n",
       "1                     0            0            0            0            0   \n",
       "2                     0            0            0            0            0   \n",
       "\n",
       "Population  295864.0     304334.0     311396.0     318041.0     319013.5     \\\n",
       "labels                                                                        \n",
       "0                     1            1            1            1            1   \n",
       "1                     0            0            0            0            0   \n",
       "2                     0            0            0            0            0   \n",
       "\n",
       "Population  ...  125958000.0  126008000.0  126085000.0  126140000.0  \\\n",
       "labels      ...                                                       \n",
       "0           ...            0            0            0            0   \n",
       "1           ...            1            1            1            1   \n",
       "2           ...            0            0            0            0   \n",
       "\n",
       "Population  126154000.0  126176000.0  126180000.0  126204902.0  126381728.0  \\\n",
       "labels                                                                        \n",
       "0                     0            0            0            0            0   \n",
       "1                     1            1            1            1            1   \n",
       "2                     0            0            0            0            0   \n",
       "\n",
       "Population  210147125.0  \n",
       "labels                   \n",
       "0                     0  \n",
       "1                     1  \n",
       "2                     0  \n",
       "\n",
       "[3 rows x 528 columns]"
      ]
     },
     "execution_count": 24,
     "metadata": {},
     "output_type": "execute_result"
    }
   ],
   "source": [
    "crosstab = pd.crosstab(kmeans['labels'], kmeans['Population'])\n",
    "crosstab"
   ]
  },
  {
   "cell_type": "code",
   "execution_count": 25,
   "id": "83e904f2-d79f-4521-9a4b-314f09c2acaa",
   "metadata": {},
   "outputs": [],
   "source": [
    "scalex = x_scaled[:, 0]\n",
    "scaley = x_scaled[:, 1]"
   ]
  },
  {
   "cell_type": "code",
   "execution_count": 26,
   "id": "d3b17871-cbcf-4cfd-8460-ae29ed653db5",
   "metadata": {},
   "outputs": [],
   "source": [
    "centroids = km.cluster_centers_\n",
    "x_centroids = centroids[:, 0]\n",
    "y_centroids = centroids[:, 1]"
   ]
  },
  {
   "cell_type": "code",
   "execution_count": 27,
   "id": "bc2e8bac-2ffa-42a9-8a7c-cf6bad00c355",
   "metadata": {},
   "outputs": [
    {
     "data": {
      "image/png": "[encoded data removed]",
      "text/plain": [
       "<Figure size 1000x500 with 1 Axes>"
      ]
     },
     "metadata": {},
     "output_type": "display_data"
    }
   ],
   "source": [
    "plt.figure(figsize = (10,5))\n",
    "plt.style.use('ggplot') # untuk menampilkan grid background #\n",
    "plt.scatter(scalex, scaley, c = labels, alpha = 0.5)\n",
    "plt.scatter(x_centroids, y_centroids, marker = 'D', label = \"Centroid\")\n",
    "plt.xlabel(\"Population\")\n",
    "plt.ylabel(\"Deaths_All_Types\")\n",
    "plt.legend()\n",
    "plt.show()"
   ]
  },
  {
   "cell_type": "code",
   "execution_count": 28,
   "id": "1d562069-3131-4868-8149-3b59c7904e6d",
   "metadata": {},
   "outputs": [
    {
     "data": {
      "image/png": "[encoded data removed]",
      "text/plain": [
       "<Figure size 1000x500 with 1 Axes>"
      ]
     },
     "metadata": {},
     "output_type": "display_data"
    }
   ],
   "source": [
    "ks = range(1, 6)\n",
    "inertias = []\n",
    "for k in ks:\n",
    "    model = KMeans(n_clusters=k)\n",
    "    model.fit(x_scaled)\n",
    "    inertias.append(model.inertia_)\n",
    "    \n",
    "# Plot ks vs inertias\n",
    "plt.figure(figsize=(10,5))\n",
    "plt.plot(ks, inertias, '-o')\n",
    "plt.xlabel('Jumlah Cluster, k')\n",
    "plt.ylabel('Inertia')\n",
    "plt.xticks(ks)\n",
    "plt.show()"
   ]
  },
  {
   "cell_type": "code",
   "execution_count": null,
   "id": "c2c5f266-bfb3-4a9e-8990-99ba2a2f4f55",
   "metadata": {},
   "outputs": [],
   "source": []
  }
 ],
 "metadata": {
  "kernelspec": {
   "display_name": "Python 3 (ipykernel)",
   "language": "python",
   "name": "python3"
  },
  "language_info": {
   "codemirror_mode": {
    "name": "ipython",
    "version": 3
   },
   "file_extension": ".py",
   "mimetype": "text/x-python",
   "name": "python",
   "nbconvert_exporter": "python",
   "pygments_lexer": "ipython3",
   "version": "3.10.4"
  }
 },
 "nbformat": 4,
 "nbformat_minor": 5
}
