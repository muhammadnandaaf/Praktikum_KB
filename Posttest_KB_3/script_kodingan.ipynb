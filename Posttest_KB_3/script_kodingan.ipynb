{
 "cells": [
  {
   "cell_type": "markdown",
   "id": "aa0b3eda-4eb0-4ed2-ad03-19b78f553182",
   "metadata": {
    "jp-MarkdownHeadingCollapsed": true,
    "tags": []
   },
   "source": [
    "# IMPORT LIBRARY"
   ]
  },
  {
   "cell_type": "code",
   "execution_count": 13,
   "id": "f5eed459-3d05-4f42-9423-f42e8225c455",
   "metadata": {},
   "outputs": [],
   "source": [
    "import numpy as np\n",
    "from matplotlib import pyplot as plt\n",
    "import pandas as pd\n",
    "import seaborn as sns"
   ]
  },
  {
   "cell_type": "markdown",
   "id": "4acfddf6-7301-4e07-9167-20949dfeada3",
   "metadata": {
    "tags": []
   },
   "source": [
    "# MEMASUKKAN DATASET"
   ]
  },
  {
   "cell_type": "code",
   "execution_count": 16,
   "id": "c0e81359-1e71-4087-be53-baf5f74b2e80",
   "metadata": {},
   "outputs": [],
   "source": [
    "df = pd.read_csv(\"Maths.csv\")"
   ]
  },
  {
   "cell_type": "code",
   "execution_count": 17,
   "id": "093a4636-dcbe-4989-9362-6fbba63142c6",
   "metadata": {},
   "outputs": [
    {
     "name": "stdout",
     "output_type": "stream",
     "text": [
      "<class 'pandas.core.frame.DataFrame'>\n",
      "RangeIndex: 395 entries, 0 to 394\n",
      "Data columns (total 33 columns):\n",
      " #   Column      Non-Null Count  Dtype \n",
      "---  ------      --------------  ----- \n",
      " 0   school      395 non-null    object\n",
      " 1   sex         395 non-null    object\n",
      " 2   age         395 non-null    int64 \n",
      " 3   address     395 non-null    object\n",
      " 4   famsize     395 non-null    object\n",
      " 5   Pstatus     395 non-null    object\n",
      " 6   Medu        395 non-null    int64 \n",
      " 7   Fedu        395 non-null    int64 \n",
      " 8   Mjob        395 non-null    object\n",
      " 9   Fjob        395 non-null    object\n",
      " 10  reason      395 non-null    object\n",
      " 11  guardian    395 non-null    object\n",
      " 12  traveltime  395 non-null    int64 \n",
      " 13  studytime   395 non-null    int64 \n",
      " 14  failures    395 non-null    int64 \n",
      " 15  schoolsup   395 non-null    object\n",
      " 16  famsup      395 non-null    object\n",
      " 17  paid        395 non-null    object\n",
      " 18  activities  395 non-null    object\n",
      " 19  nursery     395 non-null    object\n",
      " 20  higher      395 non-null    object\n",
      " 21  internet    395 non-null    object\n",
      " 22  romantic    395 non-null    object\n",
      " 23  famrel      395 non-null    int64 \n",
      " 24  freetime    395 non-null    int64 \n",
      " 25  goout       395 non-null    int64 \n",
      " 26  Dalc        395 non-null    int64 \n",
      " 27  Walc        395 non-null    int64 \n",
      " 28  health      395 non-null    int64 \n",
      " 29  absences    395 non-null    int64 \n",
      " 30  G1          395 non-null    int64 \n",
      " 31  G2          395 non-null    int64 \n",
      " 32  G3          395 non-null    int64 \n",
      "dtypes: int64(16), object(17)\n",
      "memory usage: 102.0+ KB\n"
     ]
    }
   ],
   "source": [
    "df.info()"
   ]
  },
  {
   "cell_type": "code",
   "execution_count": 47,
   "id": "ee93a4fd-5408-493b-9894-c08c43c7cdf7",
   "metadata": {},
   "outputs": [
    {
     "data": {
      "text/html": [
       "<div>\n",
       "<style scoped>\n",
       "    .dataframe tbody tr th:only-of-type {\n",
       "        vertical-align: middle;\n",
       "    }\n",
       "\n",
       "    .dataframe tbody tr th {\n",
       "        vertical-align: top;\n",
       "    }\n",
       "\n",
       "    .dataframe thead th {\n",
       "        text-align: right;\n",
       "    }\n",
       "</style>\n",
       "<table border=\"1\" class=\"dataframe\">\n",
       "  <thead>\n",
       "    <tr style=\"text-align: right;\">\n",
       "      <th></th>\n",
       "      <th>school</th>\n",
       "      <th>sex</th>\n",
       "      <th>age</th>\n",
       "      <th>address</th>\n",
       "      <th>famsize</th>\n",
       "      <th>Pstatus</th>\n",
       "      <th>Medu</th>\n",
       "      <th>Fedu</th>\n",
       "      <th>Mjob</th>\n",
       "      <th>Fjob</th>\n",
       "      <th>...</th>\n",
       "      <th>famrel</th>\n",
       "      <th>freetime</th>\n",
       "      <th>goout</th>\n",
       "      <th>Dalc</th>\n",
       "      <th>Walc</th>\n",
       "      <th>health</th>\n",
       "      <th>absences</th>\n",
       "      <th>G1</th>\n",
       "      <th>G2</th>\n",
       "      <th>G3</th>\n",
       "    </tr>\n",
       "  </thead>\n",
       "  <tbody>\n",
       "    <tr>\n",
       "      <th>0</th>\n",
       "      <td>GP</td>\n",
       "      <td>F</td>\n",
       "      <td>18</td>\n",
       "      <td>U</td>\n",
       "      <td>GT3</td>\n",
       "      <td>A</td>\n",
       "      <td>4</td>\n",
       "      <td>4</td>\n",
       "      <td>at_home</td>\n",
       "      <td>teacher</td>\n",
       "      <td>...</td>\n",
       "      <td>4</td>\n",
       "      <td>3</td>\n",
       "      <td>4</td>\n",
       "      <td>1</td>\n",
       "      <td>1</td>\n",
       "      <td>3</td>\n",
       "      <td>6</td>\n",
       "      <td>5</td>\n",
       "      <td>6</td>\n",
       "      <td>6</td>\n",
       "    </tr>\n",
       "    <tr>\n",
       "      <th>1</th>\n",
       "      <td>GP</td>\n",
       "      <td>F</td>\n",
       "      <td>17</td>\n",
       "      <td>U</td>\n",
       "      <td>GT3</td>\n",
       "      <td>T</td>\n",
       "      <td>1</td>\n",
       "      <td>1</td>\n",
       "      <td>at_home</td>\n",
       "      <td>other</td>\n",
       "      <td>...</td>\n",
       "      <td>5</td>\n",
       "      <td>3</td>\n",
       "      <td>3</td>\n",
       "      <td>1</td>\n",
       "      <td>1</td>\n",
       "      <td>3</td>\n",
       "      <td>4</td>\n",
       "      <td>5</td>\n",
       "      <td>5</td>\n",
       "      <td>6</td>\n",
       "    </tr>\n",
       "    <tr>\n",
       "      <th>2</th>\n",
       "      <td>GP</td>\n",
       "      <td>F</td>\n",
       "      <td>15</td>\n",
       "      <td>U</td>\n",
       "      <td>LE3</td>\n",
       "      <td>T</td>\n",
       "      <td>1</td>\n",
       "      <td>1</td>\n",
       "      <td>at_home</td>\n",
       "      <td>other</td>\n",
       "      <td>...</td>\n",
       "      <td>4</td>\n",
       "      <td>3</td>\n",
       "      <td>2</td>\n",
       "      <td>2</td>\n",
       "      <td>3</td>\n",
       "      <td>3</td>\n",
       "      <td>10</td>\n",
       "      <td>7</td>\n",
       "      <td>8</td>\n",
       "      <td>10</td>\n",
       "    </tr>\n",
       "    <tr>\n",
       "      <th>3</th>\n",
       "      <td>GP</td>\n",
       "      <td>F</td>\n",
       "      <td>15</td>\n",
       "      <td>U</td>\n",
       "      <td>GT3</td>\n",
       "      <td>T</td>\n",
       "      <td>4</td>\n",
       "      <td>2</td>\n",
       "      <td>health</td>\n",
       "      <td>services</td>\n",
       "      <td>...</td>\n",
       "      <td>3</td>\n",
       "      <td>2</td>\n",
       "      <td>2</td>\n",
       "      <td>1</td>\n",
       "      <td>1</td>\n",
       "      <td>5</td>\n",
       "      <td>2</td>\n",
       "      <td>15</td>\n",
       "      <td>14</td>\n",
       "      <td>15</td>\n",
       "    </tr>\n",
       "    <tr>\n",
       "      <th>4</th>\n",
       "      <td>GP</td>\n",
       "      <td>F</td>\n",
       "      <td>16</td>\n",
       "      <td>U</td>\n",
       "      <td>GT3</td>\n",
       "      <td>T</td>\n",
       "      <td>3</td>\n",
       "      <td>3</td>\n",
       "      <td>other</td>\n",
       "      <td>other</td>\n",
       "      <td>...</td>\n",
       "      <td>4</td>\n",
       "      <td>3</td>\n",
       "      <td>2</td>\n",
       "      <td>1</td>\n",
       "      <td>2</td>\n",
       "      <td>5</td>\n",
       "      <td>4</td>\n",
       "      <td>6</td>\n",
       "      <td>10</td>\n",
       "      <td>10</td>\n",
       "    </tr>\n",
       "  </tbody>\n",
       "</table>\n",
       "<p>5 rows × 33 columns</p>\n",
       "</div>"
      ],
      "text/plain": [
       "  school sex  age address famsize Pstatus  Medu  Fedu     Mjob      Fjob  ...  \\\n",
       "0     GP   F   18       U     GT3       A     4     4  at_home   teacher  ...   \n",
       "1     GP   F   17       U     GT3       T     1     1  at_home     other  ...   \n",
       "2     GP   F   15       U     LE3       T     1     1  at_home     other  ...   \n",
       "3     GP   F   15       U     GT3       T     4     2   health  services  ...   \n",
       "4     GP   F   16       U     GT3       T     3     3    other     other  ...   \n",
       "\n",
       "  famrel freetime  goout  Dalc  Walc health absences  G1  G2  G3  \n",
       "0      4        3      4     1     1      3        6   5   6   6  \n",
       "1      5        3      3     1     1      3        4   5   5   6  \n",
       "2      4        3      2     2     3      3       10   7   8  10  \n",
       "3      3        2      2     1     1      5        2  15  14  15  \n",
       "4      4        3      2     1     2      5        4   6  10  10  \n",
       "\n",
       "[5 rows x 33 columns]"
      ]
     },
     "execution_count": 47,
     "metadata": {},
     "output_type": "execute_result"
    }
   ],
   "source": [
    "df.head(5)"
   ]
  },
  {
   "cell_type": "markdown",
   "id": "c5074459-c0e1-4aea-be0e-e7aa5ed9ea34",
   "metadata": {
    "tags": []
   },
   "source": [
    "# MENAMPILKAN GRAFIK BATANG"
   ]
  },
  {
   "cell_type": "code",
   "execution_count": 86,
   "id": "32adaad4-8341-4aa5-96fc-03788eed8cec",
   "metadata": {},
   "outputs": [
    {
     "data": {
      "image/png": "[encoded data removed]",
      "text/plain": [
       "<Figure size 500x500 with 1 Axes>"
      ]
     },
     "metadata": {},
     "output_type": "display_data"
    }
   ],
   "source": [
    "# Matplotlib\n",
    "x = list(df[\"age\"])\n",
    "y = list(df[\"health\"])\n",
    "\n",
    "\n",
    "plt.figure(figsize=(5,5))\n",
    "plt.title(\"DIAGRAM BATANG\")\n",
    "plt.xlabel(\"UMUR\")\n",
    "plt.ylabel(\"TAKARAN KESEHATAN\")\n",
    "plt.bar(x, y,color=\"red\")\n",
    "plt.show()"
   ]
  },
  {
   "cell_type": "markdown",
   "id": "0d2f9fc5-afcd-4988-86d2-dd2e5fe69ef0",
   "metadata": {},
   "source": [
    "Grafik bar diagram batang diatas menunjukkan takaran kesehatan umur seseorang dari umur 15-22 tahun \n",
    "<ul>\n",
    "    <li>15 tahun : menunjukkan seseorang yang berumur 15 tahun memiiliki tingkat kesehatan = 5/sangat bagus</li>\n",
    "    <li>16 tahun : menunjukkan seseorang yang berumur 16 tahun memiiliki tingkat kesehatan = 5/sangat bagus</li>\n",
    "    <li>17 tahun : menunjukkan seseorang yang berumur 17 tahun memiiliki tingkat kesehatan = 5/sangat bagus</li>\n",
    "    <li>18 tahun : menunjukkan seseorang yang berumur 18 tahun memiiliki tingkat kesehatan = 5/sangat bagus</li>\n",
    "    <li>19 tahun : menunjukkan seseorang yang berumur 19 tahun memiiliki tingkat kesehatan = 5/sangat bagus</li>\n",
    "    <li>20 tahun : menunjukkan seseorang yang berumur 20 tahun memiiliki tingkat kesehatan = 5/sangat bagus</li>\n",
    "    <li>21 tahun : menunjukkan seseorang yang berumur 21 tahun memiiliki tingkat kesehatan = 3/bagus</li>\n",
    "    <li>22 tahun : menunjukkan seseorang yang berumur 22 tahun memiiliki tingkat kesehatan = 1/sangat buruk</li>\n",
    "</ul>"
   ]
  },
  {
   "cell_type": "markdown",
   "id": "de246941-f336-4ea7-b548-1789e0337938",
   "metadata": {
    "tags": []
   },
   "source": [
    "# MENAMPILKAN GRAFIK PIE"
   ]
  },
  {
   "cell_type": "code",
   "execution_count": 49,
   "id": "3a091435-0592-4f9d-9df8-8da0b849dc7f",
   "metadata": {},
   "outputs": [
    {
     "data": {
      "text/html": [
       "<div>\n",
       "<style scoped>\n",
       "    .dataframe tbody tr th:only-of-type {\n",
       "        vertical-align: middle;\n",
       "    }\n",
       "\n",
       "    .dataframe tbody tr th {\n",
       "        vertical-align: top;\n",
       "    }\n",
       "\n",
       "    .dataframe thead th {\n",
       "        text-align: right;\n",
       "    }\n",
       "</style>\n",
       "<table border=\"1\" class=\"dataframe\">\n",
       "  <thead>\n",
       "    <tr style=\"text-align: right;\">\n",
       "      <th></th>\n",
       "      <th>index</th>\n",
       "      <th>ID_count</th>\n",
       "    </tr>\n",
       "  </thead>\n",
       "  <tbody>\n",
       "    <tr>\n",
       "      <th>0</th>\n",
       "      <td>other</td>\n",
       "      <td>217</td>\n",
       "    </tr>\n",
       "    <tr>\n",
       "      <th>1</th>\n",
       "      <td>services</td>\n",
       "      <td>111</td>\n",
       "    </tr>\n",
       "    <tr>\n",
       "      <th>2</th>\n",
       "      <td>teacher</td>\n",
       "      <td>29</td>\n",
       "    </tr>\n",
       "    <tr>\n",
       "      <th>3</th>\n",
       "      <td>at_home</td>\n",
       "      <td>20</td>\n",
       "    </tr>\n",
       "    <tr>\n",
       "      <th>4</th>\n",
       "      <td>health</td>\n",
       "      <td>18</td>\n",
       "    </tr>\n",
       "  </tbody>\n",
       "</table>\n",
       "</div>"
      ],
      "text/plain": [
       "      index  ID_count\n",
       "0     other       217\n",
       "1  services       111\n",
       "2   teacher        29\n",
       "3   at_home        20\n",
       "4    health        18"
      ]
     },
     "execution_count": 49,
     "metadata": {},
     "output_type": "execute_result"
    }
   ],
   "source": [
    "data_pie=df['Fjob'].value_counts().rename('job').reset_index(name='ID_count')\n",
    "data_pie.head(10)"
   ]
  },
  {
   "cell_type": "code",
   "execution_count": 85,
   "id": "5a911635-fa7f-4db3-a14e-c67faff824b9",
   "metadata": {},
   "outputs": [
    {
     "data": {
      "image/png": "[encoded data removed]",
      "text/plain": [
       "<Figure size 1000x1000 with 1 Axes>"
      ]
     },
     "metadata": {},
     "output_type": "display_data"
    }
   ],
   "source": [
    "plt.figure(figsize=(10,10))\n",
    "plt.pie(data_pie.ID_count, \n",
    "        labels=data_pie['index'], \n",
    "        startangle=180,\n",
    "        autopct='%.1f%%', \n",
    "        # explode=(0.05,0.05,0.05,0.05,0.05),\n",
    "        # shadow=True\n",
    "       )  \n",
    "plt.title('DIAGRAM PIE')\n",
    "plt.show()"
   ]
  },
  {
   "cell_type": "markdown",
   "id": "417dc027-8ef9-443c-8cb1-22a516b9a6b0",
   "metadata": {},
   "source": [
    "Dalam grafik pie menampilkan dan menunjukkan bahwa Fjob (Father's Job) terbagi menjadi\n",
    "<ul>\n",
    "    <li>Ayah yang menjadi \"Layanan Sipil/Services\" sebanyak 28.1%</li>\n",
    "    <li>Ayah yang menjadi \"Guru/teacher\" sebanyak 7.3%</li>\n",
    "    <li>Ayah yang bekerja \"Di rumah/at_home\" sebanyak 5.1%</li>\n",
    "    <li>Ayah yang menjadi \"Layanan Kesehatan/health\" sebanyak 4.6%</li>\n",
    "    <li>Ayah yang bekerja selain daripada yang di data sebanyak 54.9%</li>\n",
    "</ul>"
   ]
  },
  {
   "cell_type": "markdown",
   "id": "044a2d24-452f-45db-9ad5-962d855a36c5",
   "metadata": {
    "tags": []
   },
   "source": [
    "# MENAMPILKAN GRAFIK SCATTER PLOT"
   ]
  },
  {
   "cell_type": "code",
   "execution_count": 99,
   "id": "5210c428-9eda-430b-8aa2-32b8e7c2988e",
   "metadata": {},
   "outputs": [
    {
     "data": {
      "image/png": "[encoded data removed]",
      "text/plain": [
       "<Figure size 640x480 with 1 Axes>"
      ]
     },
     "metadata": {},
     "output_type": "display_data"
    }
   ],
   "source": [
    "sns.scatterplot(data=df, x = \"age\", y = \"absences\")\n",
    "plt.title('DIAGRAM SCATTER PLOT')\n",
    "plt.show()"
   ]
  },
  {
   "cell_type": "markdown",
   "id": "925c2dcd-549f-4be6-b1ac-c131f7223ed1",
   "metadata": {},
   "source": [
    "Pada grafik scatter plot ini menunjukkan orang-orang yang berumur 15-22 dengan jumlah absen mereka\n",
    "<ul>\n",
    "    <li>Orang/Siswa yang berumur 15 tahun memiliki jumlah absen 0-10x absen dan 1 orang/siswa memiliki jumlah absen rentang 20-30x</li>\n",
    "    <li>Orang/Siswa yang berumur 16 tahun memiliki jumlah absen <30x absen dan 1 orang/siswa memiliki jumlah absen rentang 50-60x</li>\n",
    "    <li>Orang/Siswa yang berumur 17 tahun memiliki jumlah absen <40x absen dan 1 orang/siswa memiliki jumlah absen rentang 50-60x</li>\n",
    "    <li>Orang/Siswa yang berumur 18 tahun memiliki jumlah absen <30x absen dan 1 orang/siswa memiliki jumlah absen >70x</li>\n",
    "    <li>Orang/Siswa yang berumur 19 tahun memiliki jumlah absen <30x absen dan 2 orang/siswa memiliki jumlah absen rentang 30-50x</li>\n",
    "    <li>Orang/Siswa yang berumur 20 tahun memiliki jumlah absen <20x absen </li>\n",
    "    <li>Orang/Siswa yang berumur 21 tahun memiliki jumlah absen 0-10x absen </li>\n",
    "    <li>Orang/Siswa yang berumur 22 tahun memiliki jumlah absen 10-20x absen</li>\n",
    "    \n",
    "</ul>"
   ]
  },
  {
   "cell_type": "markdown",
   "id": "4919dcd9-6228-4487-845d-c2fb33c4cf88",
   "metadata": {},
   "source": [
    "# MENYIMPAN DATASET CSV MELALUI SCRIPT"
   ]
  },
  {
   "cell_type": "code",
   "execution_count": 101,
   "id": "c7263386-342d-4daf-ba6b-89cc341d1141",
   "metadata": {},
   "outputs": [],
   "source": [
    "df[['school',\n",
    "    'sex',\n",
    "    'age',\n",
    "    'address',\n",
    "    'famsize',\n",
    "    'Pstatus',\n",
    "    'Medu',\n",
    "    'Fedu',\n",
    "    'Mjob',\n",
    "    'Fjob',\n",
    "    'reason',\n",
    "    'guardian',\n",
    "    'traveltime',\n",
    "    'studytime',\n",
    "    'failures',\n",
    "    'schoolsup',\n",
    "    'famsup',\n",
    "    'paid',\n",
    "    'activities',\n",
    "    'nursery',\n",
    "    'higher',\n",
    "    'internet',\n",
    "    'romantic',\n",
    "    'famrel',\n",
    "    'freetime',\n",
    "    'goout',\n",
    "    'Dalc',\n",
    "    'Walc',\n",
    "    'health',\n",
    "    'absences',\n",
    "    'G1',\n",
    "    'G2',\n",
    "    'G3']].to_csv(\"dataset_posttest3KB.csv\")"
   ]
  }
 ],
 "metadata": {
  "kernelspec": {
   "display_name": "Python 3 (ipykernel)",
   "language": "python",
   "name": "python3"
  },
  "language_info": {
   "codemirror_mode": {
    "name": "ipython",
    "version": 3
   },
   "file_extension": ".py",
   "mimetype": "text/x-python",
   "name": "python",
   "nbconvert_exporter": "python",
   "pygments_lexer": "ipython3",
   "version": "3.10.4"
  }
 },
 "nbformat": 4,
 "nbformat_minor": 5
}
